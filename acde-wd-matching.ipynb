{
 "cells": [
  {
   "cell_type": "markdown",
   "id": "4cb2081a-ae94-4d4f-90b3-132765b446e0",
   "metadata": {},
   "source": [
    "# Harvest links from Wikidata\n",
    "\n",
    "This notebook takes AusStage and DAAO identifiers, finds any associated Wikidata entries, then harvests details of any external identifiers attached to those entries. Of course it's possible to just download selected identifiers, but it's hard to know what identifiers are in use so I thought it would be useful to get everything. This can also help us explore unexpected connections between identification systems.\n",
    "\n",
    "I haven't yet been able to figure out how to get all this data using SPARQL alone. In the end I decided to break the processing down into a few steps:\n",
    "\n",
    "- Use a SPARQL query to find the WD entity related to a specific DAAO or AusStage identifier\n",
    "- Download a complete RDF representation of the entity from the Linked Data interface\n",
    "- Load the RDF into a graph\n",
    "- Find all of the properties with the type `externalid`\n",
    "- For each of these properties, get the label and the value\n",
    "- Use SPARQL to get the URL format string for the identifier (this string includes a `$1` marker that you replace with the identifier to produce a url to the indefication system) – rather than query for the same properties over and over, I'm saving the results in a file that is checked before a query is sent\n",
    "- Create the url from the format string and value\n",
    "\n",
    "I'm sure there must be ways of simplifying this. I noticed that the RDF does include a `wdtn` value for some of the properties, this is a normalised value that seems to be a full url. However, this only appears on some identifiers and not others. I don't know why. I thought it safest to get the url formatters."
   ]
  },
  {
   "cell_type": "code",
   "execution_count": null,
   "id": "d3b64837-eb2f-40c0-a913-6842e4ba9245",
   "metadata": {},
   "outputs": [],
   "source": [
    "import json\n",
    "import math\n",
    "import re\n",
    "\n",
    "import altair as alt\n",
    "import pandas as pd\n",
    "import requests\n",
    "from slugify import slugify\n",
    "from SPARQLWrapper import JSON, SPARQLWrapper\n",
    "from tqdm.auto import tqdm\n",
    "from pathlib import Path\n",
    "import datetime\n",
    "from rdflib import Graph, URIRef, Literal, BNode\n",
    "from rdflib.namespace import RDF, RDFS"
   ]
  },
  {
   "cell_type": "code",
   "execution_count": null,
   "id": "4faa16d3-edc9-43b0-8f0e-ec8492fc7ed9",
   "metadata": {},
   "outputs": [],
   "source": [
    "sparql = SPARQLWrapper(\"https://query.wikidata.org/sparql\")\n",
    "\n",
    "people_ids = {\n",
    "    \"Libraries Australia ID\": \"P409\",\n",
    "    \"NLA Trove people ID\": \"P1315\",\n",
    "    \"People Australia ID\": \"P9159\",\n",
    "    \"Obituaries Australia ID\": \"P9232\",\n",
    "    \"Australian Dictionary of Biography ID\": \"P1907\",\n",
    "    \"Labour Australia ID\": \"P9245\",\n",
    "    \"Indigenous Australia ID\": \"P9246\",\n",
    "    \"Women Australia ID\": \"P9244\",\n",
    "    \"Encyclopedia of Australian Science ID\": \"P4228\",\n",
    "    \"AusStage person ID\": \"P8292\",\n",
    "    \"AustLit ID\": \"P8295\",\n",
    "    \"DAAO ID\": \"P1707\",\n",
    "    \"National Archives of Australia entity ID\": \"P10856\",\n",
    "    \"Encyclopedia of Melbourne ID\": \"P9304\",\n",
    "    \"Dictionary of Sydney ID\": \"P3794\",\n",
    "    \"Australian Women's Register ID\": \"P4186\",\n",
    "    \"Art Gallery of South Australia creator ID\": \"P6804\",\n",
    "    \"Parliament of Australia MP ID\": \"P10020\",\n",
    "    \"Re-Member ID\": \"P8633\",\n",
    "    \"NSW Parliament member ID\": \"P10012\",\n",
    "    \"Australian War Memorial ID\": \"P6713\",\n",
    "    \"National Gallery of Victoria artist ID\": \"P2041\",\n",
    "    \"Australian Prints + Printmaking artist ID\": \"P10086\",\n",
    "    \"Australian Music Centre artist ID\": \"P9575\",\n",
    "    \"Australian National Maritime Museum person ID\": \"P7769\",\n",
    "    \"Australian Poetry Library poet ID\": \"P5465\",\n",
    "    \"VIAF ID\": \"P214\"\n",
    "}"
   ]
  },
  {
   "cell_type": "code",
   "execution_count": null,
   "id": "8d0d7884-a53c-46d3-b50d-78c0aa87ad92",
   "metadata": {},
   "outputs": [],
   "source": [
    "query_template = \"\"\"\n",
    "    SELECT ?person ?personLabel WHERE {{\n",
    "        ?person wdt:{} \"{}\".\n",
    "        SERVICE wikibase:label {{ bd:serviceParam wikibase:language \"[AUTO_LANGUAGE], en\". }}\n",
    "    }}\n",
    "\"\"\"\n",
    "\n",
    "def get_links_from_externalid(source, source_id):\n",
    "    \"\"\"\n",
    "    This first finds an entity via SPARQL based on an external id.\n",
    "    It then gets a RDF representation of that entity from the LOD interface,\n",
    "    and extracts details of all of the external identifiers.\n",
    "    \"\"\"\n",
    "    # Get the property id for the identifier\n",
    "    source_property = people_ids[source]\n",
    "    # Format the SPARQL query\n",
    "    query = query_template.format(source_property, source_id)\n",
    "    # print(query)\n",
    "    sparql.setQuery(query)\n",
    "    sparql.setReturnFormat(JSON)\n",
    "    # Submit SPARQL query\n",
    "    results = sparql.query().convert()\n",
    "    # SPARQL results are in bindings\n",
    "    bindings = results[\"results\"][\"bindings\"]\n",
    "    if bindings:\n",
    "        # There SHOULD only be one result for an id, but just in case...\n",
    "        if len(bindings) > 1:\n",
    "            print(f\"Multiple results for {source}: {source_id}:\")\n",
    "            for binding in bindings:\n",
    "                print(f\"  -- {binding}\") \n",
    "        else:\n",
    "            # This is the WD url for the entity\n",
    "            entity_url = results[\"results\"][\"bindings\"][0][\"person\"][\"value\"]\n",
    "            # Label for this entity\n",
    "            entity_label = results[\"results\"][\"bindings\"][0][\"personLabel\"][\"value\"]\n",
    "            # print(entity_label)\n",
    "            # This url will get a Turtle serialised RDF representation of the entity\n",
    "            data_url = f\"{entity_url.replace('entity', 'wiki/Special:EntityData')}.ttl\"\n",
    "            id_values = extract_id_values(entity_url, data_url)\n",
    "            # Add details of the WD item to each external id\n",
    "            for id_v in id_values:\n",
    "                id_v[\"wd_url\"] = entity_url\n",
    "                id_v[\"wd_label\"] = entity_label\n",
    "            return id_values\n",
    "        \n",
    "def get_formatter(prop):\n",
    "    \"\"\"\n",
    "    Get the url format string for the given external id property.\n",
    "    This will return a string with a '$1' placeholder.\n",
    "    Replace the '$1' with the id value to get a url to the external id source.\n",
    "    \"\"\"\n",
    "    query_template = \"\"\"\n",
    "    SELECT ?formatter WHERE {{\n",
    "      wd:{} wdt:P1630 ?formatter\n",
    "    }}\n",
    "    \"\"\"\n",
    "    query = query_template.format(prop)\n",
    "    # print(query)\n",
    "    sparql.setQuery(query)\n",
    "    sparql.setReturnFormat(JSON)\n",
    "    results = sparql.query().convert()\n",
    "    try:\n",
    "        return results[\"results\"][\"bindings\"][0][\"formatter\"][\"value\"]\n",
    "    except (KeyError, IndexError):\n",
    "        return None    \n",
    "        \n",
    "def extract_id_values(entity_url, data_url):\n",
    "    '''\n",
    "    Extract details and values of all external identifiers in a WD rdf file.\n",
    "    '''\n",
    "    formatters = json.loads(Path(\"formatters.json\").read_text())\n",
    "    id_values = []\n",
    "    g = Graph()\n",
    "    g.parse(data_url)\n",
    "    for prop in g.subjects(URIRef(\"http://wikiba.se/ontology#propertyType\"), URIRef(\"http://wikiba.se/ontology#ExternalId\")):\n",
    "        prop_label = g.value(prop, RDFS.label)\n",
    "        prop_id = prop.split(\"/\")[-1]\n",
    "        value = g.value(URIRef(entity_url), URIRef(prop.replace('entity', 'prop/direct')))\n",
    "        if value:\n",
    "            try: \n",
    "                formatter = formatters[prop_id]\n",
    "            except KeyError:\n",
    "                formatter = get_formatter(prop_id)\n",
    "                formatters[prop_id] = formatter\n",
    "                Path(\"formatters.json\").write_text(json.dumps(formatters))\n",
    "            if formatter:\n",
    "                url = formatter.replace(\"$1\", value)\n",
    "            id_values.append({\n",
    "                \"related_source\": str(prop_label),\n",
    "                \"related_id\": str(value),\n",
    "                \"related_url\": url\n",
    "            })\n",
    "    return id_values\n",
    "\n",
    "def harvest_all_wd_links(acde_source, wd_source, ids):\n",
    "    links = []\n",
    "    not_found = []\n",
    "    for source_id in tqdm(ids):\n",
    "            results = get_links_from_externalid(wd_source, source_id)\n",
    "            if results:\n",
    "                # print('Found')\n",
    "                ori_data = {\n",
    "                    \"acde_source\": acde_source,\n",
    "                    \"or_id\": source_id\n",
    "                }\n",
    "                for result in results:\n",
    "                    links.append({**ori_data, **result})\n",
    "            else:\n",
    "                not_found.append(source_id)\n",
    "    with Path(f\"{acde_source.lower()}_wd_all_links_{datetime.datetime.now().strftime('%Y%m%d')}.json\").open('w') as json_file:\n",
    "        json.dump(links, json_file)\n",
    "    with Path(f\"{acde_source.lower()}_wd_all_not_found_{datetime.datetime.now().strftime('%Y%m%d')}.json\").open('w') as json_file:\n",
    "        json.dump(not_found, json_file)"
   ]
  },
  {
   "cell_type": "markdown",
   "id": "06163fe9-abb4-4506-975a-a50b34df909f",
   "metadata": {},
   "source": [
    "Rather than look for every AusStage identifier in the ACDEngine dataset, it's much quicker to download a set of AusStage ids attached to people in Wikidata from the query interface. Run this query and download the results as a CSV file: https://w.wiki/5miL"
   ]
  },
  {
   "cell_type": "code",
   "execution_count": null,
   "id": "9cb487a2-de38-4d6c-a7b0-44250d79c04e",
   "metadata": {
    "tags": [
     "nbval-skip"
    ]
   },
   "outputs": [],
   "source": [
    "ausstage_ids = list(set(Path(\"ausstage_ids_in_wd.csv\").read_text().split()))\n",
    "harvest_all_wd_links(\"AusStage\", \"AusStage person ID\", ausstage_ids)"
   ]
  },
  {
   "cell_type": "code",
   "execution_count": null,
   "id": "cb763261-418e-402b-8e9f-a56150e309dd",
   "metadata": {
    "tags": [
     "nbval-skip"
    ]
   },
   "outputs": [],
   "source": [
    "#daao_ids = pd.read_csv(\"daao_urls.csv\")[\"daao_path\"].to_list()\n",
    "daao_ids = list(set(Path(\"daao_wd.csv\").read_text().split()))\n",
    "harvest_all_wd_links(\"DAAO\", \"DAAO ID\", daao_ids)"
   ]
  },
  {
   "cell_type": "code",
   "execution_count": null,
   "id": "c0fbce9c-5475-4c8e-acff-9546ffe86375",
   "metadata": {},
   "outputs": [],
   "source": []
  }
 ],
 "metadata": {
  "kernelspec": {
   "display_name": "Python 3 (ipykernel)",
   "language": "python",
   "name": "python3"
  },
  "language_info": {
   "codemirror_mode": {
    "name": "ipython",
    "version": 3
   },
   "file_extension": ".py",
   "mimetype": "text/x-python",
   "name": "python",
   "nbconvert_exporter": "python",
   "pygments_lexer": "ipython3",
   "version": "3.8.12"
  },
  "widgets": {
   "application/vnd.jupyter.widget-state+json": {
    "state": {
     "065bdc2166cb4486abbef213579ad8f8": {
      "model_module": "@jupyter-widgets/base",
      "model_module_version": "2.0.0",
      "model_name": "LayoutModel",
      "state": {}
     },
     "09215d1a03764692a750e4237da3e71d": {
      "model_module": "@jupyter-widgets/controls",
      "model_module_version": "2.0.0",
      "model_name": "HTMLStyleModel",
      "state": {
       "description_width": "",
       "font_size": null,
       "text_color": null
      }
     },
     "0c0432bebd57493b8ad01a9f8369131c": {
      "model_module": "@jupyter-widgets/controls",
      "model_module_version": "2.0.0",
      "model_name": "HBoxModel",
      "state": {
       "children": [
        "IPY_MODEL_0d04de98ffde4b1b8cf60ce6a5d17a8f",
        "IPY_MODEL_7af6f5d26dd843b594e93067b0e4a3bb",
        "IPY_MODEL_a5f39fe161914b6c98c673379d4b5e97"
       ],
       "layout": "IPY_MODEL_fee5c8e4d01144f2984a0cb52c3149e2"
      }
     },
     "0d04de98ffde4b1b8cf60ce6a5d17a8f": {
      "model_module": "@jupyter-widgets/controls",
      "model_module_version": "2.0.0",
      "model_name": "HTMLModel",
      "state": {
       "layout": "IPY_MODEL_931d429e2fc34f8ba2c35836bbb63870",
       "style": "IPY_MODEL_e33cf917a5db49e0a1f5ba255e8d9c35",
       "value": "100%"
      }
     },
     "11c4cc0818f7423b9216af50d64c3c4d": {
      "model_module": "@jupyter-widgets/base",
      "model_module_version": "2.0.0",
      "model_name": "LayoutModel",
      "state": {}
     },
     "1d927ce9bc9b402e98accdfe4f00ec8b": {
      "model_module": "@jupyter-widgets/base",
      "model_module_version": "2.0.0",
      "model_name": "LayoutModel",
      "state": {}
     },
     "22d99490f5644d62897160236fdb6443": {
      "model_module": "@jupyter-widgets/base",
      "model_module_version": "2.0.0",
      "model_name": "LayoutModel",
      "state": {}
     },
     "2eae8bc3977441bab7347715baec96b8": {
      "model_module": "@jupyter-widgets/base",
      "model_module_version": "2.0.0",
      "model_name": "LayoutModel",
      "state": {}
     },
     "322ad3a54fe1442c8b06614df4b81ef7": {
      "model_module": "@jupyter-widgets/controls",
      "model_module_version": "2.0.0",
      "model_name": "HTMLModel",
      "state": {
       "layout": "IPY_MODEL_22d99490f5644d62897160236fdb6443",
       "style": "IPY_MODEL_bf4b3f73c3fb4bedaf9943c71bd354ca",
       "value": "100%"
      }
     },
     "368fb5c378854e5fb9556b79be777df3": {
      "model_module": "@jupyter-widgets/controls",
      "model_module_version": "2.0.0",
      "model_name": "FloatProgressModel",
      "state": {
       "bar_style": "danger",
       "layout": "IPY_MODEL_11c4cc0818f7423b9216af50d64c3c4d",
       "max": 1279,
       "style": "IPY_MODEL_c653245d52dc4e2fb938d35cf491a141"
      }
     },
     "37981363ef564a3d97ca7311ba7b18e2": {
      "model_module": "@jupyter-widgets/controls",
      "model_module_version": "2.0.0",
      "model_name": "HTMLModel",
      "state": {
       "layout": "IPY_MODEL_065bdc2166cb4486abbef213579ad8f8",
       "style": "IPY_MODEL_39a634fb4f4b4c7f955ea51c492a54a8",
       "value": " 0/1279 [00:00&lt;?, ?it/s]"
      }
     },
     "39a634fb4f4b4c7f955ea51c492a54a8": {
      "model_module": "@jupyter-widgets/controls",
      "model_module_version": "2.0.0",
      "model_name": "HTMLStyleModel",
      "state": {
       "description_width": "",
       "font_size": null,
       "text_color": null
      }
     },
     "415f261f3cab498b8757e26087c43c9e": {
      "model_module": "@jupyter-widgets/controls",
      "model_module_version": "2.0.0",
      "model_name": "FloatProgressModel",
      "state": {
       "bar_style": "success",
       "layout": "IPY_MODEL_99bc5fe119fc4636b105331eb3f969d9",
       "max": 1870,
       "style": "IPY_MODEL_dcf754b2482941c6a37d156c271d3717",
       "value": 1870
      }
     },
     "4a6afb69ecfd409b98dd98a893ca9044": {
      "model_module": "@jupyter-widgets/controls",
      "model_module_version": "2.0.0",
      "model_name": "HTMLModel",
      "state": {
       "layout": "IPY_MODEL_1d927ce9bc9b402e98accdfe4f00ec8b",
       "style": "IPY_MODEL_e68476d5bed04daba51a468f72ebd8d3",
       "value": " 1870/1870 [1:16:30&lt;00:00,  2.38s/it]"
      }
     },
     "5ee320c626c8443bb4797a9bfb49d7f2": {
      "model_module": "@jupyter-widgets/controls",
      "model_module_version": "2.0.0",
      "model_name": "HTMLModel",
      "state": {
       "layout": "IPY_MODEL_6944139d2b154f6cbcee56bc36f07982",
       "style": "IPY_MODEL_65fd9f703f9e48b8baed3ba30d06c0ce",
       "value": "  0%"
      }
     },
     "65fd9f703f9e48b8baed3ba30d06c0ce": {
      "model_module": "@jupyter-widgets/controls",
      "model_module_version": "2.0.0",
      "model_name": "HTMLStyleModel",
      "state": {
       "description_width": "",
       "font_size": null,
       "text_color": null
      }
     },
     "68d5c761ceea4082a56baaba3074c0fc": {
      "model_module": "@jupyter-widgets/base",
      "model_module_version": "2.0.0",
      "model_name": "LayoutModel",
      "state": {}
     },
     "6944139d2b154f6cbcee56bc36f07982": {
      "model_module": "@jupyter-widgets/base",
      "model_module_version": "2.0.0",
      "model_name": "LayoutModel",
      "state": {}
     },
     "7331eea3f2ce42d38666146585fb118f": {
      "model_module": "@jupyter-widgets/controls",
      "model_module_version": "2.0.0",
      "model_name": "HBoxModel",
      "state": {
       "children": [
        "IPY_MODEL_5ee320c626c8443bb4797a9bfb49d7f2",
        "IPY_MODEL_7cf15e8a9bfd4f49988efb469a1e51d0",
        "IPY_MODEL_7c5d7a1c970341b4875e607b65fa4929"
       ],
       "layout": "IPY_MODEL_2eae8bc3977441bab7347715baec96b8"
      }
     },
     "75b8a833ca7f4feda640b7920d10492b": {
      "model_module": "@jupyter-widgets/base",
      "model_module_version": "2.0.0",
      "model_name": "LayoutModel",
      "state": {}
     },
     "7af6f5d26dd843b594e93067b0e4a3bb": {
      "model_module": "@jupyter-widgets/controls",
      "model_module_version": "2.0.0",
      "model_name": "FloatProgressModel",
      "state": {
       "bar_style": "success",
       "layout": "IPY_MODEL_aeb3f2d38ccb4f0c8df48ce027e1ed6f",
       "max": 1279,
       "style": "IPY_MODEL_9736b584ac544182947913c42cd12165",
       "value": 1279
      }
     },
     "7c5d7a1c970341b4875e607b65fa4929": {
      "model_module": "@jupyter-widgets/controls",
      "model_module_version": "2.0.0",
      "model_name": "HTMLModel",
      "state": {
       "layout": "IPY_MODEL_f157cdad5cf24995b0429ace9667b455",
       "style": "IPY_MODEL_9689c2819ef942988d0e426edfe4b20e",
       "value": " 0/1279 [00:00&lt;?, ?it/s]"
      }
     },
     "7cf15e8a9bfd4f49988efb469a1e51d0": {
      "model_module": "@jupyter-widgets/controls",
      "model_module_version": "2.0.0",
      "model_name": "FloatProgressModel",
      "state": {
       "bar_style": "danger",
       "layout": "IPY_MODEL_fa086b381a18448aad98288b2d3b9ebf",
       "max": 1279,
       "style": "IPY_MODEL_d5449eba8bdf49459037146e80bf6723"
      }
     },
     "8d9b45a0e6384cf99c00b5e416a5b819": {
      "model_module": "@jupyter-widgets/controls",
      "model_module_version": "2.0.0",
      "model_name": "HBoxModel",
      "state": {
       "children": [
        "IPY_MODEL_322ad3a54fe1442c8b06614df4b81ef7",
        "IPY_MODEL_415f261f3cab498b8757e26087c43c9e",
        "IPY_MODEL_4a6afb69ecfd409b98dd98a893ca9044"
       ],
       "layout": "IPY_MODEL_9800f3d870ab4eac9a2928ea4d73ac01"
      }
     },
     "931d429e2fc34f8ba2c35836bbb63870": {
      "model_module": "@jupyter-widgets/base",
      "model_module_version": "2.0.0",
      "model_name": "LayoutModel",
      "state": {}
     },
     "9689c2819ef942988d0e426edfe4b20e": {
      "model_module": "@jupyter-widgets/controls",
      "model_module_version": "2.0.0",
      "model_name": "HTMLStyleModel",
      "state": {
       "description_width": "",
       "font_size": null,
       "text_color": null
      }
     },
     "9736b584ac544182947913c42cd12165": {
      "model_module": "@jupyter-widgets/controls",
      "model_module_version": "2.0.0",
      "model_name": "ProgressStyleModel",
      "state": {
       "description_width": ""
      }
     },
     "9800f3d870ab4eac9a2928ea4d73ac01": {
      "model_module": "@jupyter-widgets/base",
      "model_module_version": "2.0.0",
      "model_name": "LayoutModel",
      "state": {}
     },
     "99bc5fe119fc4636b105331eb3f969d9": {
      "model_module": "@jupyter-widgets/base",
      "model_module_version": "2.0.0",
      "model_name": "LayoutModel",
      "state": {}
     },
     "a5f39fe161914b6c98c673379d4b5e97": {
      "model_module": "@jupyter-widgets/controls",
      "model_module_version": "2.0.0",
      "model_name": "HTMLModel",
      "state": {
       "layout": "IPY_MODEL_ab1522752ba9446f9181099e08cb54ad",
       "style": "IPY_MODEL_d3dbdf268afb48f8a837338dfc453273",
       "value": " 1279/1279 [55:18&lt;00:00,  2.54s/it]"
      }
     },
     "ab1522752ba9446f9181099e08cb54ad": {
      "model_module": "@jupyter-widgets/base",
      "model_module_version": "2.0.0",
      "model_name": "LayoutModel",
      "state": {}
     },
     "aeb3f2d38ccb4f0c8df48ce027e1ed6f": {
      "model_module": "@jupyter-widgets/base",
      "model_module_version": "2.0.0",
      "model_name": "LayoutModel",
      "state": {}
     },
     "b35ddee7f4cf4684bb48de929d88ba31": {
      "model_module": "@jupyter-widgets/controls",
      "model_module_version": "2.0.0",
      "model_name": "HBoxModel",
      "state": {
       "children": [
        "IPY_MODEL_dd6516fffe83446a8a931a3638257e03",
        "IPY_MODEL_368fb5c378854e5fb9556b79be777df3",
        "IPY_MODEL_37981363ef564a3d97ca7311ba7b18e2"
       ],
       "layout": "IPY_MODEL_75b8a833ca7f4feda640b7920d10492b"
      }
     },
     "bf4b3f73c3fb4bedaf9943c71bd354ca": {
      "model_module": "@jupyter-widgets/controls",
      "model_module_version": "2.0.0",
      "model_name": "HTMLStyleModel",
      "state": {
       "description_width": "",
       "font_size": null,
       "text_color": null
      }
     },
     "c653245d52dc4e2fb938d35cf491a141": {
      "model_module": "@jupyter-widgets/controls",
      "model_module_version": "2.0.0",
      "model_name": "ProgressStyleModel",
      "state": {
       "description_width": ""
      }
     },
     "d3dbdf268afb48f8a837338dfc453273": {
      "model_module": "@jupyter-widgets/controls",
      "model_module_version": "2.0.0",
      "model_name": "HTMLStyleModel",
      "state": {
       "description_width": "",
       "font_size": null,
       "text_color": null
      }
     },
     "d5449eba8bdf49459037146e80bf6723": {
      "model_module": "@jupyter-widgets/controls",
      "model_module_version": "2.0.0",
      "model_name": "ProgressStyleModel",
      "state": {
       "description_width": ""
      }
     },
     "dcf754b2482941c6a37d156c271d3717": {
      "model_module": "@jupyter-widgets/controls",
      "model_module_version": "2.0.0",
      "model_name": "ProgressStyleModel",
      "state": {
       "description_width": ""
      }
     },
     "dd6516fffe83446a8a931a3638257e03": {
      "model_module": "@jupyter-widgets/controls",
      "model_module_version": "2.0.0",
      "model_name": "HTMLModel",
      "state": {
       "layout": "IPY_MODEL_68d5c761ceea4082a56baaba3074c0fc",
       "style": "IPY_MODEL_09215d1a03764692a750e4237da3e71d",
       "value": "  0%"
      }
     },
     "e33cf917a5db49e0a1f5ba255e8d9c35": {
      "model_module": "@jupyter-widgets/controls",
      "model_module_version": "2.0.0",
      "model_name": "HTMLStyleModel",
      "state": {
       "description_width": "",
       "font_size": null,
       "text_color": null
      }
     },
     "e68476d5bed04daba51a468f72ebd8d3": {
      "model_module": "@jupyter-widgets/controls",
      "model_module_version": "2.0.0",
      "model_name": "HTMLStyleModel",
      "state": {
       "description_width": "",
       "font_size": null,
       "text_color": null
      }
     },
     "f157cdad5cf24995b0429ace9667b455": {
      "model_module": "@jupyter-widgets/base",
      "model_module_version": "2.0.0",
      "model_name": "LayoutModel",
      "state": {}
     },
     "fa086b381a18448aad98288b2d3b9ebf": {
      "model_module": "@jupyter-widgets/base",
      "model_module_version": "2.0.0",
      "model_name": "LayoutModel",
      "state": {}
     },
     "fee5c8e4d01144f2984a0cb52c3149e2": {
      "model_module": "@jupyter-widgets/base",
      "model_module_version": "2.0.0",
      "model_name": "LayoutModel",
      "state": {}
     }
    },
    "version_major": 2,
    "version_minor": 0
   }
  }
 },
 "nbformat": 4,
 "nbformat_minor": 5
}
