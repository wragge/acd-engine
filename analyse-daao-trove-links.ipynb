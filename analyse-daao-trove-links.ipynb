{
 "cells": [
  {
   "cell_type": "markdown",
   "id": "9b31c59f-7bc6-4914-9366-a84d98330ee7",
   "metadata": {},
   "source": [
    "# Analysing DAAO Trove links\n"
   ]
  },
  {
   "cell_type": "code",
   "execution_count": 1,
   "id": "394e6395-e0c1-4db4-9523-f2b50a01d783",
   "metadata": {},
   "outputs": [],
   "source": [
    "import pandas as pd"
   ]
  },
  {
   "cell_type": "markdown",
   "id": "146bc700-58b4-47b5-aef3-8ccaa89922af",
   "metadata": {},
   "source": [
    "How many DAAO records are in the ACDE dataset?"
   ]
  },
  {
   "cell_type": "code",
   "execution_count": 3,
   "id": "f6b065ec-0be0-49b1-869c-aa06433adbf3",
   "metadata": {},
   "outputs": [
    {
     "data": {
      "text/plain": [
       "2188"
      ]
     },
     "execution_count": 3,
     "metadata": {},
     "output_type": "execute_result"
    }
   ],
   "source": [
    "df_acde = pd.read_json(\"ACDE_Merged_Normalized_202206031344.json\")\n",
    "df_daao = df_acde.loc[df_acde[\"data_source\"] == \"DAAO\"]\n",
    "daao_count = df_daao.shape[0]\n",
    "daao_count"
   ]
  },
  {
   "cell_type": "markdown",
   "id": "3f198238-b4d0-4d8b-9e87-d7336cf6b396",
   "metadata": {},
   "source": [
    "How many DAAO people have a match in Trove's People and Organisations zone?"
   ]
  },
  {
   "cell_type": "code",
   "execution_count": 4,
   "id": "4947e59f-4714-4b83-a702-39aee25a26e5",
   "metadata": {},
   "outputs": [
    {
     "data": {
      "text/html": [
       "<div>\n",
       "<style scoped>\n",
       "    .dataframe tbody tr th:only-of-type {\n",
       "        vertical-align: middle;\n",
       "    }\n",
       "\n",
       "    .dataframe tbody tr th {\n",
       "        vertical-align: top;\n",
       "    }\n",
       "\n",
       "    .dataframe thead th {\n",
       "        text-align: right;\n",
       "    }\n",
       "</style>\n",
       "<table border=\"1\" class=\"dataframe\">\n",
       "  <thead>\n",
       "    <tr style=\"text-align: right;\">\n",
       "      <th></th>\n",
       "      <th>acde_source</th>\n",
       "      <th>or_id</th>\n",
       "      <th>related_source</th>\n",
       "      <th>related_source_id</th>\n",
       "      <th>related_source_url</th>\n",
       "      <th>related_source_name</th>\n",
       "    </tr>\n",
       "  </thead>\n",
       "  <tbody>\n",
       "    <tr>\n",
       "      <th>0</th>\n",
       "      <td>DAAO</td>\n",
       "      <td>4da1e25db538b73d93029eca</td>\n",
       "      <td>Trove</td>\n",
       "      <td>1486884</td>\n",
       "      <td>https://nla.gov.au/nla.party-1486884</td>\n",
       "      <td>Annette Ellis</td>\n",
       "    </tr>\n",
       "    <tr>\n",
       "      <th>1</th>\n",
       "      <td>DAAO</td>\n",
       "      <td>4da19cd2b538b73d93013e35</td>\n",
       "      <td>Trove</td>\n",
       "      <td>1483347</td>\n",
       "      <td>https://nla.gov.au/nla.party-1483347</td>\n",
       "      <td>Ruth Napaljarri</td>\n",
       "    </tr>\n",
       "    <tr>\n",
       "      <th>2</th>\n",
       "      <td>DAAO</td>\n",
       "      <td>4da1b2bfb538b73d9301e797</td>\n",
       "      <td>Trove</td>\n",
       "      <td>1486592</td>\n",
       "      <td>https://nla.gov.au/nla.party-1486592</td>\n",
       "      <td>Chris Edwards</td>\n",
       "    </tr>\n",
       "    <tr>\n",
       "      <th>3</th>\n",
       "      <td>DAAO</td>\n",
       "      <td>4da1eaf5b538b73d9302a6cc</td>\n",
       "      <td>Trove</td>\n",
       "      <td>1484395</td>\n",
       "      <td>https://nla.gov.au/nla.party-1484395</td>\n",
       "      <td>Marisa Purcell</td>\n",
       "    </tr>\n",
       "    <tr>\n",
       "      <th>4</th>\n",
       "      <td>DAAO</td>\n",
       "      <td>5158251dd707ff422f00102e</td>\n",
       "      <td>Trove</td>\n",
       "      <td>1528482</td>\n",
       "      <td>https://nla.gov.au/nla.party-1528482</td>\n",
       "      <td>Hugh Child</td>\n",
       "    </tr>\n",
       "  </tbody>\n",
       "</table>\n",
       "</div>"
      ],
      "text/plain": [
       "  acde_source                     or_id related_source related_source_id  \\\n",
       "0        DAAO  4da1e25db538b73d93029eca          Trove           1486884   \n",
       "1        DAAO  4da19cd2b538b73d93013e35          Trove           1483347   \n",
       "2        DAAO  4da1b2bfb538b73d9301e797          Trove           1486592   \n",
       "3        DAAO  4da1eaf5b538b73d9302a6cc          Trove           1484395   \n",
       "4        DAAO  5158251dd707ff422f00102e          Trove           1528482   \n",
       "\n",
       "                     related_source_url related_source_name  \n",
       "0  https://nla.gov.au/nla.party-1486884       Annette Ellis  \n",
       "1  https://nla.gov.au/nla.party-1483347     Ruth Napaljarri  \n",
       "2  https://nla.gov.au/nla.party-1486592       Chris Edwards  \n",
       "3  https://nla.gov.au/nla.party-1484395      Marisa Purcell  \n",
       "4  https://nla.gov.au/nla.party-1528482          Hugh Child  "
      ]
     },
     "execution_count": 4,
     "metadata": {},
     "output_type": "execute_result"
    }
   ],
   "source": [
    "df_trove_links = pd.read_json(\"daao_trove_links_20221004.json\")\n",
    "df_trove_links.head()"
   ]
  },
  {
   "cell_type": "code",
   "execution_count": 29,
   "id": "fa802214-aafd-4867-be55-da48f4a887cd",
   "metadata": {},
   "outputs": [
    {
     "data": {
      "text/plain": [
       "2090"
      ]
     },
     "execution_count": 29,
     "metadata": {},
     "output_type": "execute_result"
    }
   ],
   "source": [
    "daao_trove_count = df_trove_links.groupby(by=[\"acde_source\", \"or_id\"]).ngroups\n",
    "daao_trove_count"
   ]
  },
  {
   "cell_type": "markdown",
   "id": "cde69559-d93d-49f8-af96-e2e12ad0650a",
   "metadata": {},
   "source": [
    "How many don't have a match?"
   ]
  },
  {
   "cell_type": "code",
   "execution_count": 30,
   "id": "ea6efba5-4a7b-4284-add2-006fc753a8ea",
   "metadata": {},
   "outputs": [
    {
     "data": {
      "text/plain": [
       "98"
      ]
     },
     "execution_count": 30,
     "metadata": {},
     "output_type": "execute_result"
    }
   ],
   "source": [
    "df_trove_not_found = pd.read_json(\"daao_trove_not_found_20221004.json\")\n",
    "daao_no_trove_count = df_trove_not_found.shape[0]\n",
    "daao_no_trove_count"
   ]
  },
  {
   "cell_type": "markdown",
   "id": "fa308031-b7fe-47a2-a0a0-a79ac3f3b1a4",
   "metadata": {},
   "source": [
    "Check that the number with and without Trove matches adds up to the total number of AusStage records."
   ]
  },
  {
   "cell_type": "code",
   "execution_count": 7,
   "id": "dd5d608d-9b51-4982-9484-f65b57bb0e25",
   "metadata": {},
   "outputs": [
    {
     "data": {
      "text/plain": [
       "True"
      ]
     },
     "execution_count": 7,
     "metadata": {},
     "output_type": "execute_result"
    }
   ],
   "source": [
    "daao_trove_count + daao_no_trove_count == daao_count"
   ]
  },
  {
   "cell_type": "code",
   "execution_count": 9,
   "id": "61944933-a275-4208-9ea3-95a5f7c62696",
   "metadata": {},
   "outputs": [
    {
     "name": "stdout",
     "output_type": "stream",
     "text": [
      "95.52% of DAAO people have a match in Trove\n"
     ]
    }
   ],
   "source": [
    "print(f\"{daao_trove_count/daao_count:.2%} of DAAO people have a match in Trove\")"
   ]
  },
  {
   "cell_type": "markdown",
   "id": "3918b95b-db45-4381-acf6-c931d9fc3ef3",
   "metadata": {},
   "source": [
    "## Related sources\n",
    "\n",
    "Which other sources are linked to DAAO records via Trove?"
   ]
  },
  {
   "cell_type": "code",
   "execution_count": 10,
   "id": "057e2e57-1c17-4bd2-9ba5-9891f5fe51af",
   "metadata": {},
   "outputs": [
    {
     "data": {
      "text/plain": [
       "related_source  0                                    \n",
       "AuCNLKIN        Libraries Australia                      999\n",
       "AU-AIAS         AIATSIS Aboriginal Biographical Index    476\n",
       "AU-ANU:ADBO     Australian Dictionary of Biography        85\n",
       "AU-SAUS         AusStage                                  60\n",
       "AU-VU:AWR       The Australian Women's Register           33\n",
       "AU-ANU:OA       Obituaries Australia                      16\n",
       "AU-AuCNLKIN     Libraries Australia                       10\n",
       "AU-ANL:AD       Australia Dancing                          5\n",
       "AU-VASD         Australian Sound Design                    4\n",
       "AU-VU           University of Melbourne                    4\n",
       "AU-VU:EOAS      Encyclopedia of Australian Science         4\n",
       "AU-QGU          Griffith University                        2\n",
       "AU-ANL:MA       Music Australia                            1\n",
       "AU-NAMC         Australian Music Centre                    1\n",
       "AU-NUWS         University of Western Sydney               1\n",
       "AU-YORCID       ORCID                                      1\n",
       "dtype: int64"
      ]
     },
     "execution_count": 10,
     "metadata": {},
     "output_type": "execute_result"
    }
   ],
   "source": [
    "sources = pd.read_json(\"agencies.json\", orient=\"index\")\n",
    "df_trove_sources = pd.merge(df_trove_links, sources, how=\"left\", left_on=\"related_source\", right_index=True)\n",
    "df_trove_sources.value_counts(subset=[\"related_source\", 0])"
   ]
  },
  {
   "cell_type": "markdown",
   "id": "feeee855-4c8a-451d-8e1d-9704416b10fe",
   "metadata": {},
   "source": [
    "It's important to note that AIATSIS records (AU-AIAS) are different to most of the others. The records are not 'identities' that bring together information about an individual, they're separate resources relating to an individual. So one individual might have multiple AIATSIS links. \n",
    "\n",
    "Number of individual AusStage records with AIATSIS links."
   ]
  },
  {
   "cell_type": "code",
   "execution_count": 11,
   "id": "9efa1306-2ec2-4682-a89f-c85600af6dd0",
   "metadata": {},
   "outputs": [
    {
     "data": {
      "text/plain": [
       "122"
      ]
     },
     "execution_count": 11,
     "metadata": {},
     "output_type": "execute_result"
    }
   ],
   "source": [
    "df_trove_links.loc[df_trove_links[\"related_source\"] == \"AU-AIAS\"].groupby(by=[\"acde_source\", \"or_id\", \"related_source\"]).ngroups"
   ]
  },
  {
   "cell_type": "markdown",
   "id": "51425854-49da-49f6-9d2a-5c71991f3b67",
   "metadata": {},
   "source": [
    "## Links per record"
   ]
  },
  {
   "cell_type": "code",
   "execution_count": 12,
   "id": "65b529d7-b65e-46e4-a6a4-594b6abc2ca0",
   "metadata": {},
   "outputs": [],
   "source": [
    "related_source_counts = df_trove_links.groupby(by=[\"acde_source\", \"or_id\", \"related_source_name\"])[\"related_source\"].count().to_frame().reset_index()"
   ]
  },
  {
   "cell_type": "code",
   "execution_count": 13,
   "id": "dde7b953-5442-4781-997c-951a67c66600",
   "metadata": {},
   "outputs": [
    {
     "data": {
      "text/plain": [
       "count    2362.000000\n",
       "mean        1.605419\n",
       "std         1.871140\n",
       "min         1.000000\n",
       "25%         1.000000\n",
       "50%         1.000000\n",
       "75%         2.000000\n",
       "max        67.000000\n",
       "Name: related_source, dtype: float64"
      ]
     },
     "execution_count": 13,
     "metadata": {},
     "output_type": "execute_result"
    }
   ],
   "source": [
    "related_source_counts[\"related_source\"].describe()"
   ]
  },
  {
   "cell_type": "code",
   "execution_count": 14,
   "id": "87ecf0bf-d8d4-4af6-95d3-6eee16e5ff85",
   "metadata": {},
   "outputs": [
    {
     "name": "stdout",
     "output_type": "stream",
     "text": [
      "41.77% of DAAO people with Trove records are linked to additional sources\n"
     ]
    }
   ],
   "source": [
    "more_than_one = related_source_counts.loc[related_source_counts[\"related_source\"] > 1]\n",
    "print(f\"{more_than_one.shape[0]/daao_trove_count:.2%} of DAAO people with Trove records are linked to additional sources\")"
   ]
  },
  {
   "cell_type": "markdown",
   "id": "3e9cc4d0-d6c5-470b-b578-787d2c204664",
   "metadata": {},
   "source": [
    "Records with the most links"
   ]
  },
  {
   "cell_type": "code",
   "execution_count": 15,
   "id": "0c57e8e6-f4d5-4823-8284-65fc5471983e",
   "metadata": {},
   "outputs": [
    {
     "data": {
      "text/html": [
       "<div>\n",
       "<style scoped>\n",
       "    .dataframe tbody tr th:only-of-type {\n",
       "        vertical-align: middle;\n",
       "    }\n",
       "\n",
       "    .dataframe tbody tr th {\n",
       "        vertical-align: top;\n",
       "    }\n",
       "\n",
       "    .dataframe thead th {\n",
       "        text-align: right;\n",
       "    }\n",
       "</style>\n",
       "<table border=\"1\" class=\"dataframe\">\n",
       "  <thead>\n",
       "    <tr style=\"text-align: right;\">\n",
       "      <th></th>\n",
       "      <th>acde_source</th>\n",
       "      <th>or_id</th>\n",
       "      <th>related_source_name</th>\n",
       "      <th>related_source</th>\n",
       "    </tr>\n",
       "  </thead>\n",
       "  <tbody>\n",
       "    <tr>\n",
       "      <th>1972</th>\n",
       "      <td>DAAO</td>\n",
       "      <td>4e5205f7d707ff1dc7002610</td>\n",
       "      <td>Albert Namatjira</td>\n",
       "      <td>67</td>\n",
       "    </tr>\n",
       "    <tr>\n",
       "      <th>412</th>\n",
       "      <td>DAAO</td>\n",
       "      <td>4da197b9b538b73d9300bc5f</td>\n",
       "      <td>Kevin Gilbert</td>\n",
       "      <td>25</td>\n",
       "    </tr>\n",
       "    <tr>\n",
       "      <th>1478</th>\n",
       "      <td>DAAO</td>\n",
       "      <td>4da1b640b538b73d9302000d</td>\n",
       "      <td>Lola Greeno</td>\n",
       "      <td>17</td>\n",
       "    </tr>\n",
       "    <tr>\n",
       "      <th>1605</th>\n",
       "      <td>DAAO</td>\n",
       "      <td>4da1bd1eb538b73d93023d6c</td>\n",
       "      <td>Bill Onus</td>\n",
       "      <td>15</td>\n",
       "    </tr>\n",
       "    <tr>\n",
       "      <th>1464</th>\n",
       "      <td>DAAO</td>\n",
       "      <td>4da1b5d0b538b73d9301f8b0</td>\n",
       "      <td>Dulcie Greeno</td>\n",
       "      <td>15</td>\n",
       "    </tr>\n",
       "    <tr>\n",
       "      <th>1623</th>\n",
       "      <td>DAAO</td>\n",
       "      <td>4da1be66b538b73d93024462</td>\n",
       "      <td>Mervyn Bishop</td>\n",
       "      <td>14</td>\n",
       "    </tr>\n",
       "    <tr>\n",
       "      <th>1436</th>\n",
       "      <td>DAAO</td>\n",
       "      <td>4da1b4deb538b73d9301eb65</td>\n",
       "      <td>Lin Onus</td>\n",
       "      <td>13</td>\n",
       "    </tr>\n",
       "    <tr>\n",
       "      <th>1729</th>\n",
       "      <td>DAAO</td>\n",
       "      <td>4da1ce86b538b73d930275c7</td>\n",
       "      <td>Shane Pickett</td>\n",
       "      <td>12</td>\n",
       "    </tr>\n",
       "    <tr>\n",
       "      <th>1776</th>\n",
       "      <td>DAAO</td>\n",
       "      <td>4da1dd67b538b73d93028dd7</td>\n",
       "      <td>Trevor Nickolls</td>\n",
       "      <td>11</td>\n",
       "    </tr>\n",
       "    <tr>\n",
       "      <th>114</th>\n",
       "      <td>DAAO</td>\n",
       "      <td>4da19577b538b73d93003fb4</td>\n",
       "      <td>Euphemia Bostock</td>\n",
       "      <td>11</td>\n",
       "    </tr>\n",
       "    <tr>\n",
       "      <th>1322</th>\n",
       "      <td>DAAO</td>\n",
       "      <td>4da1ac44b538b73d9301c3bf</td>\n",
       "      <td>Harry Wedge</td>\n",
       "      <td>10</td>\n",
       "    </tr>\n",
       "    <tr>\n",
       "      <th>1171</th>\n",
       "      <td>DAAO</td>\n",
       "      <td>4da1a4f1b538b73d93019812</td>\n",
       "      <td>Billy Stockman Tjapaltjarri</td>\n",
       "      <td>10</td>\n",
       "    </tr>\n",
       "    <tr>\n",
       "      <th>1465</th>\n",
       "      <td>DAAO</td>\n",
       "      <td>4da1b5d4b538b73d9301f92d</td>\n",
       "      <td>Jeffrey Samuels</td>\n",
       "      <td>10</td>\n",
       "    </tr>\n",
       "    <tr>\n",
       "      <th>1016</th>\n",
       "      <td>DAAO</td>\n",
       "      <td>4da19f84b538b73d93016221</td>\n",
       "      <td>Clifford Possum Tjapaltjarri</td>\n",
       "      <td>9</td>\n",
       "    </tr>\n",
       "    <tr>\n",
       "      <th>789</th>\n",
       "      <td>DAAO</td>\n",
       "      <td>4da19bd7b538b73d930126fd</td>\n",
       "      <td>Ricky Maynard</td>\n",
       "      <td>9</td>\n",
       "    </tr>\n",
       "    <tr>\n",
       "      <th>1610</th>\n",
       "      <td>DAAO</td>\n",
       "      <td>4da1bd41b538b73d93023e7f</td>\n",
       "      <td>Dennis Nona</td>\n",
       "      <td>9</td>\n",
       "    </tr>\n",
       "    <tr>\n",
       "      <th>652</th>\n",
       "      <td>DAAO</td>\n",
       "      <td>4da199d0b538b73d9300fabe</td>\n",
       "      <td>Emily Kame Kngwarreye</td>\n",
       "      <td>9</td>\n",
       "    </tr>\n",
       "    <tr>\n",
       "      <th>59</th>\n",
       "      <td>DAAO</td>\n",
       "      <td>4da19531b538b73d930025ac</td>\n",
       "      <td>Bronwyn Bancroft</td>\n",
       "      <td>9</td>\n",
       "    </tr>\n",
       "    <tr>\n",
       "      <th>1735</th>\n",
       "      <td>DAAO</td>\n",
       "      <td>4da1cee7b538b73d93027852</td>\n",
       "      <td>Reynold Hart</td>\n",
       "      <td>9</td>\n",
       "    </tr>\n",
       "    <tr>\n",
       "      <th>1803</th>\n",
       "      <td>DAAO</td>\n",
       "      <td>4da1e203b538b73d93029d94</td>\n",
       "      <td>Destiny Deacon</td>\n",
       "      <td>8</td>\n",
       "    </tr>\n",
       "  </tbody>\n",
       "</table>\n",
       "</div>"
      ],
      "text/plain": [
       "     acde_source                     or_id           related_source_name  \\\n",
       "1972        DAAO  4e5205f7d707ff1dc7002610              Albert Namatjira   \n",
       "412         DAAO  4da197b9b538b73d9300bc5f                 Kevin Gilbert   \n",
       "1478        DAAO  4da1b640b538b73d9302000d                   Lola Greeno   \n",
       "1605        DAAO  4da1bd1eb538b73d93023d6c                     Bill Onus   \n",
       "1464        DAAO  4da1b5d0b538b73d9301f8b0                 Dulcie Greeno   \n",
       "1623        DAAO  4da1be66b538b73d93024462                 Mervyn Bishop   \n",
       "1436        DAAO  4da1b4deb538b73d9301eb65                      Lin Onus   \n",
       "1729        DAAO  4da1ce86b538b73d930275c7                 Shane Pickett   \n",
       "1776        DAAO  4da1dd67b538b73d93028dd7               Trevor Nickolls   \n",
       "114         DAAO  4da19577b538b73d93003fb4              Euphemia Bostock   \n",
       "1322        DAAO  4da1ac44b538b73d9301c3bf                   Harry Wedge   \n",
       "1171        DAAO  4da1a4f1b538b73d93019812   Billy Stockman Tjapaltjarri   \n",
       "1465        DAAO  4da1b5d4b538b73d9301f92d               Jeffrey Samuels   \n",
       "1016        DAAO  4da19f84b538b73d93016221  Clifford Possum Tjapaltjarri   \n",
       "789         DAAO  4da19bd7b538b73d930126fd                 Ricky Maynard   \n",
       "1610        DAAO  4da1bd41b538b73d93023e7f                   Dennis Nona   \n",
       "652         DAAO  4da199d0b538b73d9300fabe         Emily Kame Kngwarreye   \n",
       "59          DAAO  4da19531b538b73d930025ac              Bronwyn Bancroft   \n",
       "1735        DAAO  4da1cee7b538b73d93027852                  Reynold Hart   \n",
       "1803        DAAO  4da1e203b538b73d93029d94                Destiny Deacon   \n",
       "\n",
       "      related_source  \n",
       "1972              67  \n",
       "412               25  \n",
       "1478              17  \n",
       "1605              15  \n",
       "1464              15  \n",
       "1623              14  \n",
       "1436              13  \n",
       "1729              12  \n",
       "1776              11  \n",
       "114               11  \n",
       "1322              10  \n",
       "1171              10  \n",
       "1465              10  \n",
       "1016               9  \n",
       "789                9  \n",
       "1610               9  \n",
       "652                9  \n",
       "59                 9  \n",
       "1735               9  \n",
       "1803               8  "
      ]
     },
     "execution_count": 15,
     "metadata": {},
     "output_type": "execute_result"
    }
   ],
   "source": [
    "related_source_counts.sort_values('related_source', ascending=False)[:20]"
   ]
  },
  {
   "cell_type": "markdown",
   "id": "8edbfb12-4f19-41ad-a417-33593aba6ce9",
   "metadata": {},
   "source": [
    "## Duplicates?\n"
   ]
  },
  {
   "cell_type": "code",
   "execution_count": 16,
   "id": "62209b86-b636-4ad4-b00b-9d8e818b8cec",
   "metadata": {},
   "outputs": [],
   "source": [
    "df_trove = df_trove_links.copy().loc[df_trove_links[\"related_source\"] == \"Trove\"]"
   ]
  },
  {
   "cell_type": "markdown",
   "id": "3465df3e-6d13-45d6-a0f7-0dc13b847667",
   "metadata": {},
   "source": [
    "Show a sample of matches with duplicated Trove links."
   ]
  },
  {
   "cell_type": "code",
   "execution_count": 17,
   "id": "f353fc24-7362-4786-b0d1-204e0d6e5510",
   "metadata": {},
   "outputs": [
    {
     "data": {
      "text/html": [
       "<div>\n",
       "<style scoped>\n",
       "    .dataframe tbody tr th:only-of-type {\n",
       "        vertical-align: middle;\n",
       "    }\n",
       "\n",
       "    .dataframe tbody tr th {\n",
       "        vertical-align: top;\n",
       "    }\n",
       "\n",
       "    .dataframe thead th {\n",
       "        text-align: right;\n",
       "    }\n",
       "</style>\n",
       "<table border=\"1\" class=\"dataframe\">\n",
       "  <thead>\n",
       "    <tr style=\"text-align: right;\">\n",
       "      <th></th>\n",
       "      <th>acde_source</th>\n",
       "      <th>or_id</th>\n",
       "      <th>related_source</th>\n",
       "      <th>related_source_id</th>\n",
       "      <th>related_source_url</th>\n",
       "      <th>related_source_name</th>\n",
       "    </tr>\n",
       "  </thead>\n",
       "  <tbody>\n",
       "    <tr>\n",
       "      <th>875</th>\n",
       "      <td>DAAO</td>\n",
       "      <td>5a60631ad707ff4dfc000006</td>\n",
       "      <td>Trove</td>\n",
       "      <td>1481482</td>\n",
       "      <td>https://nla.gov.au/nla.party-1481482</td>\n",
       "      <td>Beverly Graham</td>\n",
       "    </tr>\n",
       "    <tr>\n",
       "      <th>1081</th>\n",
       "      <td>DAAO</td>\n",
       "      <td>4da199f0b538b73d9300fcf0</td>\n",
       "      <td>Trove</td>\n",
       "      <td>1481482</td>\n",
       "      <td>https://nla.gov.au/nla.party-1481482</td>\n",
       "      <td>Beverly Graham</td>\n",
       "    </tr>\n",
       "    <tr>\n",
       "      <th>2592</th>\n",
       "      <td>DAAO</td>\n",
       "      <td>4da1a08bb538b73d93016c4b</td>\n",
       "      <td>Trove</td>\n",
       "      <td>1482563</td>\n",
       "      <td>https://nla.gov.au/nla.party-1482563</td>\n",
       "      <td>Henry Hewitt Rayner</td>\n",
       "    </tr>\n",
       "    <tr>\n",
       "      <th>2961</th>\n",
       "      <td>DAAO</td>\n",
       "      <td>4da1c913b538b73d930266d4</td>\n",
       "      <td>Trove</td>\n",
       "      <td>1482563</td>\n",
       "      <td>https://nla.gov.au/nla.party-1482563</td>\n",
       "      <td>Henry Hewitt Rayner</td>\n",
       "    </tr>\n",
       "    <tr>\n",
       "      <th>1981</th>\n",
       "      <td>DAAO</td>\n",
       "      <td>4da19acbb538b73d930112d9</td>\n",
       "      <td>Trove</td>\n",
       "      <td>1482566</td>\n",
       "      <td>https://nla.gov.au/nla.party-1482566</td>\n",
       "      <td>Norah Napanangka Long</td>\n",
       "    </tr>\n",
       "    <tr>\n",
       "      <th>3731</th>\n",
       "      <td>DAAO</td>\n",
       "      <td>4da19cd9b538b73d93013e6a</td>\n",
       "      <td>Trove</td>\n",
       "      <td>1482566</td>\n",
       "      <td>https://nla.gov.au/nla.party-1482566</td>\n",
       "      <td>Norah Napanangka Long</td>\n",
       "    </tr>\n",
       "    <tr>\n",
       "      <th>324</th>\n",
       "      <td>DAAO</td>\n",
       "      <td>4da19f20b538b73d93015d7f</td>\n",
       "      <td>Trove</td>\n",
       "      <td>1485218</td>\n",
       "      <td>https://nla.gov.au/nla.party-1485218</td>\n",
       "      <td>Kathleen Petyarre</td>\n",
       "    </tr>\n",
       "    <tr>\n",
       "      <th>2737</th>\n",
       "      <td>DAAO</td>\n",
       "      <td>513fe07fd707ff6bcd001e4b</td>\n",
       "      <td>Trove</td>\n",
       "      <td>1485218</td>\n",
       "      <td>https://nla.gov.au/nla.party-1485218</td>\n",
       "      <td>Kathleen Petyarre</td>\n",
       "    </tr>\n",
       "    <tr>\n",
       "      <th>251</th>\n",
       "      <td>DAAO</td>\n",
       "      <td>4ed4699dd707ff4ff0000000</td>\n",
       "      <td>Trove</td>\n",
       "      <td>461161</td>\n",
       "      <td>https://nla.gov.au/nla.party-461161</td>\n",
       "      <td>Sydney Ball</td>\n",
       "    </tr>\n",
       "    <tr>\n",
       "      <th>1649</th>\n",
       "      <td>DAAO</td>\n",
       "      <td>4e521665d707ff1dc7009c44</td>\n",
       "      <td>Trove</td>\n",
       "      <td>461161</td>\n",
       "      <td>https://nla.gov.au/nla.party-461161</td>\n",
       "      <td>Sydney Ball</td>\n",
       "    </tr>\n",
       "    <tr>\n",
       "      <th>161</th>\n",
       "      <td>DAAO</td>\n",
       "      <td>533893f1d707ff7141000004</td>\n",
       "      <td>Trove</td>\n",
       "      <td>500817</td>\n",
       "      <td>https://nla.gov.au/nla.party-500817</td>\n",
       "      <td>Stanley Francis Lymburner</td>\n",
       "    </tr>\n",
       "    <tr>\n",
       "      <th>1477</th>\n",
       "      <td>DAAO</td>\n",
       "      <td>4e1f927372edc24d91000221</td>\n",
       "      <td>Trove</td>\n",
       "      <td>500817</td>\n",
       "      <td>https://nla.gov.au/nla.party-500817</td>\n",
       "      <td>Stanley Francis Lymburner</td>\n",
       "    </tr>\n",
       "  </tbody>\n",
       "</table>\n",
       "</div>"
      ],
      "text/plain": [
       "     acde_source                     or_id related_source related_source_id  \\\n",
       "875         DAAO  5a60631ad707ff4dfc000006          Trove           1481482   \n",
       "1081        DAAO  4da199f0b538b73d9300fcf0          Trove           1481482   \n",
       "2592        DAAO  4da1a08bb538b73d93016c4b          Trove           1482563   \n",
       "2961        DAAO  4da1c913b538b73d930266d4          Trove           1482563   \n",
       "1981        DAAO  4da19acbb538b73d930112d9          Trove           1482566   \n",
       "3731        DAAO  4da19cd9b538b73d93013e6a          Trove           1482566   \n",
       "324         DAAO  4da19f20b538b73d93015d7f          Trove           1485218   \n",
       "2737        DAAO  513fe07fd707ff6bcd001e4b          Trove           1485218   \n",
       "251         DAAO  4ed4699dd707ff4ff0000000          Trove            461161   \n",
       "1649        DAAO  4e521665d707ff1dc7009c44          Trove            461161   \n",
       "161         DAAO  533893f1d707ff7141000004          Trove            500817   \n",
       "1477        DAAO  4e1f927372edc24d91000221          Trove            500817   \n",
       "\n",
       "                        related_source_url        related_source_name  \n",
       "875   https://nla.gov.au/nla.party-1481482             Beverly Graham  \n",
       "1081  https://nla.gov.au/nla.party-1481482             Beverly Graham  \n",
       "2592  https://nla.gov.au/nla.party-1482563        Henry Hewitt Rayner  \n",
       "2961  https://nla.gov.au/nla.party-1482563        Henry Hewitt Rayner  \n",
       "1981  https://nla.gov.au/nla.party-1482566      Norah Napanangka Long  \n",
       "3731  https://nla.gov.au/nla.party-1482566      Norah Napanangka Long  \n",
       "324   https://nla.gov.au/nla.party-1485218          Kathleen Petyarre  \n",
       "2737  https://nla.gov.au/nla.party-1485218          Kathleen Petyarre  \n",
       "251    https://nla.gov.au/nla.party-461161                Sydney Ball  \n",
       "1649   https://nla.gov.au/nla.party-461161                Sydney Ball  \n",
       "161    https://nla.gov.au/nla.party-500817  Stanley Francis Lymburner  \n",
       "1477   https://nla.gov.au/nla.party-500817  Stanley Francis Lymburner  "
      ]
     },
     "execution_count": 17,
     "metadata": {},
     "output_type": "execute_result"
    }
   ],
   "source": [
    "df_trove.loc[df_trove.duplicated(subset=[\"related_source_url\"], keep=False)].sort_values(by=\"related_source_url\")"
   ]
  },
  {
   "cell_type": "markdown",
   "id": "c3545f8b-f92d-4988-8ef9-d412f92fea28",
   "metadata": {},
   "source": [
    "How many unique Trove links are there?"
   ]
  },
  {
   "cell_type": "code",
   "execution_count": 18,
   "id": "a0e480fe-529e-4593-a280-bc16f6d95d4d",
   "metadata": {},
   "outputs": [
    {
     "data": {
      "text/plain": [
       "2084"
      ]
     },
     "execution_count": 18,
     "metadata": {},
     "output_type": "execute_result"
    }
   ],
   "source": [
    "unique_trove_links = df_trove.drop_duplicates(subset=[\"related_source_url\"]).shape[0]\n",
    "unique_trove_links"
   ]
  },
  {
   "cell_type": "markdown",
   "id": "369c1093-464d-466e-bd18-02dac8b504bf",
   "metadata": {},
   "source": [
    "Number of duplicates"
   ]
  },
  {
   "cell_type": "code",
   "execution_count": 20,
   "id": "f1e85fac-f3d6-4eda-97fb-edcaffb2f03a",
   "metadata": {},
   "outputs": [
    {
     "data": {
      "text/plain": [
       "6"
      ]
     },
     "execution_count": 20,
     "metadata": {},
     "output_type": "execute_result"
    }
   ],
   "source": [
    "daao_trove_count - unique_trove_links"
   ]
  },
  {
   "cell_type": "code",
   "execution_count": null,
   "id": "4991df5d-5e9d-4309-8680-8c0ef79f39f9",
   "metadata": {},
   "outputs": [],
   "source": []
  }
 ],
 "metadata": {
  "kernelspec": {
   "display_name": "Python 3 (ipykernel)",
   "language": "python",
   "name": "python3"
  },
  "language_info": {
   "codemirror_mode": {
    "name": "ipython",
    "version": 3
   },
   "file_extension": ".py",
   "mimetype": "text/x-python",
   "name": "python",
   "nbconvert_exporter": "python",
   "pygments_lexer": "ipython3",
   "version": "3.8.12"
  },
  "widgets": {
   "application/vnd.jupyter.widget-state+json": {
    "state": {},
    "version_major": 2,
    "version_minor": 0
   }
  }
 },
 "nbformat": 4,
 "nbformat_minor": 5
}
