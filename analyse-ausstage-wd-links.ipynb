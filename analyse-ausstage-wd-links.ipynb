{
 "cells": [
  {
   "cell_type": "markdown",
   "id": "9b31c59f-7bc6-4914-9366-a84d98330ee7",
   "metadata": {},
   "source": [
    "# Analysing AusStage Wikidata links\n"
   ]
  },
  {
   "cell_type": "code",
   "execution_count": 1,
   "id": "394e6395-e0c1-4db4-9523-f2b50a01d783",
   "metadata": {},
   "outputs": [],
   "source": [
    "import pandas as pd"
   ]
  },
  {
   "cell_type": "markdown",
   "id": "146bc700-58b4-47b5-aef3-8ccaa89922af",
   "metadata": {},
   "source": [
    "How many AusStage records are in the ACDE dataset?"
   ]
  },
  {
   "cell_type": "code",
   "execution_count": 2,
   "id": "f6b065ec-0be0-49b1-869c-aa06433adbf3",
   "metadata": {},
   "outputs": [
    {
     "data": {
      "text/plain": [
       "171081"
      ]
     },
     "execution_count": 2,
     "metadata": {},
     "output_type": "execute_result"
    }
   ],
   "source": [
    "df_acde = pd.read_json(\"ACDE_Merged_Normalized_202206031344.json\")\n",
    "df_ausstage = df_acde.loc[df_acde[\"data_source\"] == \"AusStage\"]\n",
    "ausstage_count = df_ausstage.shape[0]\n",
    "ausstage_count"
   ]
  },
  {
   "cell_type": "markdown",
   "id": "3f198238-b4d0-4d8b-9e87-d7336cf6b396",
   "metadata": {},
   "source": [
    "How many AusStage people have an match in Wikidata?"
   ]
  },
  {
   "cell_type": "code",
   "execution_count": 3,
   "id": "4947e59f-4714-4b83-a702-39aee25a26e5",
   "metadata": {},
   "outputs": [
    {
     "data": {
      "text/html": [
       "<div>\n",
       "<style scoped>\n",
       "    .dataframe tbody tr th:only-of-type {\n",
       "        vertical-align: middle;\n",
       "    }\n",
       "\n",
       "    .dataframe tbody tr th {\n",
       "        vertical-align: top;\n",
       "    }\n",
       "\n",
       "    .dataframe thead th {\n",
       "        text-align: right;\n",
       "    }\n",
       "</style>\n",
       "<table border=\"1\" class=\"dataframe\">\n",
       "  <thead>\n",
       "    <tr style=\"text-align: right;\">\n",
       "      <th></th>\n",
       "      <th>acde_source</th>\n",
       "      <th>or_id</th>\n",
       "      <th>related_source</th>\n",
       "      <th>related_id</th>\n",
       "      <th>related_url</th>\n",
       "      <th>wd_url</th>\n",
       "      <th>wd_label</th>\n",
       "    </tr>\n",
       "  </thead>\n",
       "  <tbody>\n",
       "    <tr>\n",
       "      <th>0</th>\n",
       "      <td>AusStage</td>\n",
       "      <td>548265</td>\n",
       "      <td>VIAF ID</td>\n",
       "      <td>38961419</td>\n",
       "      <td>https://viaf.org/viaf/38961419/</td>\n",
       "      <td>http://www.wikidata.org/entity/Q15485502</td>\n",
       "      <td>Lucinda Coxon</td>\n",
       "    </tr>\n",
       "    <tr>\n",
       "      <th>1</th>\n",
       "      <td>AusStage</td>\n",
       "      <td>548265</td>\n",
       "      <td>Internet Broadway Database person ID</td>\n",
       "      <td>488007</td>\n",
       "      <td>https://www.ibdb.com/broadway-cast-staff/488007</td>\n",
       "      <td>http://www.wikidata.org/entity/Q15485502</td>\n",
       "      <td>Lucinda Coxon</td>\n",
       "    </tr>\n",
       "    <tr>\n",
       "      <th>2</th>\n",
       "      <td>AusStage</td>\n",
       "      <td>548265</td>\n",
       "      <td>GND ID</td>\n",
       "      <td>1011169592</td>\n",
       "      <td>https://d-nb.info/gnd/1011169592</td>\n",
       "      <td>http://www.wikidata.org/entity/Q15485502</td>\n",
       "      <td>Lucinda Coxon</td>\n",
       "    </tr>\n",
       "    <tr>\n",
       "      <th>3</th>\n",
       "      <td>AusStage</td>\n",
       "      <td>548265</td>\n",
       "      <td>Library of Congress authority ID</td>\n",
       "      <td>no95043617</td>\n",
       "      <td>https://id.loc.gov/authorities/no95043617</td>\n",
       "      <td>http://www.wikidata.org/entity/Q15485502</td>\n",
       "      <td>Lucinda Coxon</td>\n",
       "    </tr>\n",
       "    <tr>\n",
       "      <th>4</th>\n",
       "      <td>AusStage</td>\n",
       "      <td>548265</td>\n",
       "      <td>NUKAT ID</td>\n",
       "      <td>n2016244632</td>\n",
       "      <td>https://wikidata-externalid-url.toolforge.org/...</td>\n",
       "      <td>http://www.wikidata.org/entity/Q15485502</td>\n",
       "      <td>Lucinda Coxon</td>\n",
       "    </tr>\n",
       "  </tbody>\n",
       "</table>\n",
       "</div>"
      ],
      "text/plain": [
       "  acde_source   or_id                        related_source   related_id  \\\n",
       "0    AusStage  548265                               VIAF ID     38961419   \n",
       "1    AusStage  548265  Internet Broadway Database person ID       488007   \n",
       "2    AusStage  548265                                GND ID   1011169592   \n",
       "3    AusStage  548265      Library of Congress authority ID   no95043617   \n",
       "4    AusStage  548265                              NUKAT ID  n2016244632   \n",
       "\n",
       "                                         related_url  \\\n",
       "0                    https://viaf.org/viaf/38961419/   \n",
       "1    https://www.ibdb.com/broadway-cast-staff/488007   \n",
       "2                   https://d-nb.info/gnd/1011169592   \n",
       "3          https://id.loc.gov/authorities/no95043617   \n",
       "4  https://wikidata-externalid-url.toolforge.org/...   \n",
       "\n",
       "                                     wd_url       wd_label  \n",
       "0  http://www.wikidata.org/entity/Q15485502  Lucinda Coxon  \n",
       "1  http://www.wikidata.org/entity/Q15485502  Lucinda Coxon  \n",
       "2  http://www.wikidata.org/entity/Q15485502  Lucinda Coxon  \n",
       "3  http://www.wikidata.org/entity/Q15485502  Lucinda Coxon  \n",
       "4  http://www.wikidata.org/entity/Q15485502  Lucinda Coxon  "
      ]
     },
     "execution_count": 3,
     "metadata": {},
     "output_type": "execute_result"
    }
   ],
   "source": [
    "df_wd_links = pd.read_json(\"ausstage_wd_all_links_20221006.json\")\n",
    "df_wd_links.head()"
   ]
  },
  {
   "cell_type": "markdown",
   "id": "01c84967-e048-4d20-937f-122eb5893db2",
   "metadata": {},
   "source": [
    "How many of the AusStage people in the ACDE dataset have Wikidata links?"
   ]
  },
  {
   "cell_type": "code",
   "execution_count": 4,
   "id": "fa802214-aafd-4867-be55-da48f4a887cd",
   "metadata": {},
   "outputs": [
    {
     "data": {
      "text/plain": [
       "1279"
      ]
     },
     "execution_count": 4,
     "metadata": {},
     "output_type": "execute_result"
    }
   ],
   "source": [
    "ausstage_wd_count = df_wd_links.loc[df_wd_links[\"or_id\"].notnull()].groupby(by=[\"acde_source\", \"or_id\"]).ngroups\n",
    "ausstage_wd_count"
   ]
  },
  {
   "cell_type": "code",
   "execution_count": 5,
   "id": "61944933-a275-4208-9ea3-95a5f7c62696",
   "metadata": {},
   "outputs": [
    {
     "name": "stdout",
     "output_type": "stream",
     "text": [
      "0.75% of AusStage people in the ACDE dataset have a match in Wikidata\n"
     ]
    }
   ],
   "source": [
    "print(f\"{ausstage_wd_count/ausstage_count:.2%} of AusStage people in the ACDE dataset have a match in Wikidata\")"
   ]
  },
  {
   "cell_type": "markdown",
   "id": "325d3f8d-1a07-4ea6-8904-bd77f7fa1125",
   "metadata": {},
   "source": [
    "## Duplicates?\n",
    "\n",
    "I noticed that there seemed to be some duplicate Wikidata links. Investigating further I noticed that some Wikidata entities were linked to multiple AusStage ids, so when I harvested the AusStage ids I ended up harvesting the Wikidata entity more than once. I don't want to remove them, as that would lose the links to the AusStage identifiers, but for some calculations we'll want to remove them."
   ]
  },
  {
   "cell_type": "code",
   "execution_count": 6,
   "id": "a4b71ac9-f57d-4426-89fa-cadce27f7c54",
   "metadata": {},
   "outputs": [
    {
     "data": {
      "text/plain": [
       "40277"
      ]
     },
     "execution_count": 6,
     "metadata": {},
     "output_type": "execute_result"
    }
   ],
   "source": [
    "df_wd_links.shape[0]"
   ]
  },
  {
   "cell_type": "code",
   "execution_count": 7,
   "id": "bfa82859-a889-4e27-90ad-d17a3730823d",
   "metadata": {},
   "outputs": [
    {
     "data": {
      "text/plain": [
       "40058"
      ]
     },
     "execution_count": 7,
     "metadata": {},
     "output_type": "execute_result"
    }
   ],
   "source": [
    "df_wd_links.drop_duplicates(subset=[\"related_source\", \"related_id\", \"wd_url\"], inplace=True)\n",
    "df_wd_links.shape[0]"
   ]
  },
  {
   "cell_type": "markdown",
   "id": "3918b95b-db45-4381-acf6-c931d9fc3ef3",
   "metadata": {},
   "source": [
    "## Related sources\n",
    "\n",
    "Which other sources are linked to DAAO records via Trove?"
   ]
  },
  {
   "cell_type": "code",
   "execution_count": 8,
   "id": "057e2e57-1c17-4bd2-9ba5-9891f5fe51af",
   "metadata": {},
   "outputs": [],
   "source": [
    "# There are some duplicates where the Wikidata records contain multiple DAAO identifiers, causing them to be\n",
    "# harvested more than once. Let's get rid of them for counting purposes.\n",
    "df_wd_links.drop_duplicates(subset=[\"related_source\", \"wd_url\"], inplace=True)\n",
    "\n",
    "df_wd_sources = df_wd_links.value_counts(subset=[\"related_source\"]).to_frame().reset_index()\n",
    "df_wd_sources.rename(columns={0: \"count\"}, inplace=True)"
   ]
  },
  {
   "cell_type": "markdown",
   "id": "f116f312-ea8b-4917-b679-2bab4afdee42",
   "metadata": {},
   "source": [
    "How many different external identifiers are attached to the Wikidata entities with DAAO links?"
   ]
  },
  {
   "cell_type": "code",
   "execution_count": 9,
   "id": "9bbcf48b-6dba-446d-9933-6563198186c6",
   "metadata": {},
   "outputs": [
    {
     "data": {
      "text/plain": [
       "1117"
      ]
     },
     "execution_count": 9,
     "metadata": {},
     "output_type": "execute_result"
    }
   ],
   "source": [
    "df_wd_sources.shape[0]"
   ]
  },
  {
   "cell_type": "markdown",
   "id": "80499329-1f3d-42ed-b035-6470c108eeeb",
   "metadata": {},
   "source": [
    "1117! Let's show the top twenty."
   ]
  },
  {
   "cell_type": "code",
   "execution_count": 10,
   "id": "45277429-3a50-4654-a5e9-f0e2ca44da5b",
   "metadata": {},
   "outputs": [
    {
     "data": {
      "text/html": [
       "<div>\n",
       "<style scoped>\n",
       "    .dataframe tbody tr th:only-of-type {\n",
       "        vertical-align: middle;\n",
       "    }\n",
       "\n",
       "    .dataframe tbody tr th {\n",
       "        vertical-align: top;\n",
       "    }\n",
       "\n",
       "    .dataframe thead th {\n",
       "        text-align: right;\n",
       "    }\n",
       "</style>\n",
       "<table border=\"1\" class=\"dataframe\">\n",
       "  <thead>\n",
       "    <tr style=\"text-align: right;\">\n",
       "      <th></th>\n",
       "      <th>related_source</th>\n",
       "      <th>count</th>\n",
       "    </tr>\n",
       "  </thead>\n",
       "  <tbody>\n",
       "    <tr>\n",
       "      <th>0</th>\n",
       "      <td>AusStage person ID</td>\n",
       "      <td>1270</td>\n",
       "    </tr>\n",
       "    <tr>\n",
       "      <th>1</th>\n",
       "      <td>VIAF ID</td>\n",
       "      <td>980</td>\n",
       "    </tr>\n",
       "    <tr>\n",
       "      <th>2</th>\n",
       "      <td>WorldCat Identities ID</td>\n",
       "      <td>928</td>\n",
       "    </tr>\n",
       "    <tr>\n",
       "      <th>3</th>\n",
       "      <td>Freebase ID</td>\n",
       "      <td>911</td>\n",
       "    </tr>\n",
       "    <tr>\n",
       "      <th>4</th>\n",
       "      <td>Library of Congress authority ID</td>\n",
       "      <td>852</td>\n",
       "    </tr>\n",
       "    <tr>\n",
       "      <th>5</th>\n",
       "      <td>ISNI</td>\n",
       "      <td>823</td>\n",
       "    </tr>\n",
       "    <tr>\n",
       "      <th>6</th>\n",
       "      <td>IMDb ID</td>\n",
       "      <td>803</td>\n",
       "    </tr>\n",
       "    <tr>\n",
       "      <th>7</th>\n",
       "      <td>TMDB person ID</td>\n",
       "      <td>595</td>\n",
       "    </tr>\n",
       "    <tr>\n",
       "      <th>8</th>\n",
       "      <td>GND ID</td>\n",
       "      <td>566</td>\n",
       "    </tr>\n",
       "    <tr>\n",
       "      <th>9</th>\n",
       "      <td>Bibliothèque nationale de France ID</td>\n",
       "      <td>561</td>\n",
       "    </tr>\n",
       "    <tr>\n",
       "      <th>10</th>\n",
       "      <td>NLA Trove people ID</td>\n",
       "      <td>540</td>\n",
       "    </tr>\n",
       "    <tr>\n",
       "      <th>11</th>\n",
       "      <td>National Library of Israel J9U ID</td>\n",
       "      <td>507</td>\n",
       "    </tr>\n",
       "    <tr>\n",
       "      <th>12</th>\n",
       "      <td>IdRef ID</td>\n",
       "      <td>481</td>\n",
       "    </tr>\n",
       "    <tr>\n",
       "      <th>13</th>\n",
       "      <td>FAST ID</td>\n",
       "      <td>466</td>\n",
       "    </tr>\n",
       "    <tr>\n",
       "      <th>14</th>\n",
       "      <td>Nationale Thesaurus voor Auteurs ID</td>\n",
       "      <td>440</td>\n",
       "    </tr>\n",
       "    <tr>\n",
       "      <th>15</th>\n",
       "      <td>NKCR AUT ID</td>\n",
       "      <td>427</td>\n",
       "    </tr>\n",
       "    <tr>\n",
       "      <th>16</th>\n",
       "      <td>MusicBrainz artist ID</td>\n",
       "      <td>422</td>\n",
       "    </tr>\n",
       "    <tr>\n",
       "      <th>17</th>\n",
       "      <td>Discogs artist ID</td>\n",
       "      <td>411</td>\n",
       "    </tr>\n",
       "    <tr>\n",
       "      <th>18</th>\n",
       "      <td>NUKAT ID</td>\n",
       "      <td>405</td>\n",
       "    </tr>\n",
       "    <tr>\n",
       "      <th>19</th>\n",
       "      <td>SNAC ARK ID</td>\n",
       "      <td>390</td>\n",
       "    </tr>\n",
       "  </tbody>\n",
       "</table>\n",
       "</div>"
      ],
      "text/plain": [
       "                         related_source  count\n",
       "0                    AusStage person ID   1270\n",
       "1                               VIAF ID    980\n",
       "2                WorldCat Identities ID    928\n",
       "3                           Freebase ID    911\n",
       "4      Library of Congress authority ID    852\n",
       "5                                  ISNI    823\n",
       "6                               IMDb ID    803\n",
       "7                        TMDB person ID    595\n",
       "8                                GND ID    566\n",
       "9   Bibliothèque nationale de France ID    561\n",
       "10                  NLA Trove people ID    540\n",
       "11    National Library of Israel J9U ID    507\n",
       "12                             IdRef ID    481\n",
       "13                              FAST ID    466\n",
       "14  Nationale Thesaurus voor Auteurs ID    440\n",
       "15                          NKCR AUT ID    427\n",
       "16                MusicBrainz artist ID    422\n",
       "17                    Discogs artist ID    411\n",
       "18                             NUKAT ID    405\n",
       "19                          SNAC ARK ID    390"
      ]
     },
     "execution_count": 10,
     "metadata": {},
     "output_type": "execute_result"
    }
   ],
   "source": [
    "df_wd_sources[:20]"
   ]
  },
  {
   "cell_type": "code",
   "execution_count": 11,
   "id": "89f412d4-b456-46b4-b7dc-a7b695c2b972",
   "metadata": {},
   "outputs": [],
   "source": [
    "people_ids = {\n",
    "    \"Libraries Australia ID\": \"P409\",\n",
    "    \"NLA Trove people ID\": \"P1315\",\n",
    "    \"People Australia ID\": \"P9159\",\n",
    "    \"Obituaries Australia ID\": \"P9232\",\n",
    "    \"Australian Dictionary of Biography ID\": \"P1907\",\n",
    "    \"Labour Australia ID\": \"P9245\",\n",
    "    \"Indigenous Australia ID\": \"P9246\",\n",
    "    \"Women Australia ID\": \"P9244\",\n",
    "    \"Encyclopedia of Australian Science ID\": \"P4228\",\n",
    "    \"AusStage person ID\": \"P8292\",\n",
    "    \"AustLit ID\": \"P8295\",\n",
    "    \"DAAO ID\": \"P1707\",\n",
    "    \"National Archives of Australia entity ID\": \"P10856\",\n",
    "    \"Encyclopedia of Melbourne ID\": \"P9304\",\n",
    "    \"Dictionary of Sydney ID\": \"P3794\",\n",
    "    \"Australian Women's Register ID\": \"P4186\",\n",
    "    \"Art Gallery of South Australia creator ID\": \"P6804\",\n",
    "    \"Parliament of Australia MP ID\": \"P10020\",\n",
    "    \"Re-Member ID\": \"P8633\",\n",
    "    \"NSW Parliament member ID\": \"P10012\",\n",
    "    \"Australian War Memorial ID\": \"P6713\",\n",
    "    \"National Gallery of Victoria artist ID\": \"P2041\",\n",
    "    \"Australian Prints + Printmaking artist ID\": \"P10086\",\n",
    "    \"Australian Music Centre artist ID\": \"P9575\",\n",
    "    \"Australian National Maritime Museum person ID\": \"P7769\",\n",
    "    \"Australian Poetry Library poet ID\": \"P5465\"\n",
    "}\n",
    "\n",
    "pids = [k for k,v in people_ids.items()]"
   ]
  },
  {
   "cell_type": "code",
   "execution_count": 12,
   "id": "540322d4-6008-4f87-81b0-8bcec6b9adbd",
   "metadata": {},
   "outputs": [
    {
     "data": {
      "text/html": [
       "<style type=\"text/css\">\n",
       "</style>\n",
       "<table id=\"T_88012\">\n",
       "  <thead>\n",
       "    <tr>\n",
       "      <th id=\"T_88012_level0_col0\" class=\"col_heading level0 col0\" >related_source</th>\n",
       "      <th id=\"T_88012_level0_col1\" class=\"col_heading level0 col1\" >0</th>\n",
       "    </tr>\n",
       "  </thead>\n",
       "  <tbody>\n",
       "    <tr>\n",
       "      <td id=\"T_88012_row0_col0\" class=\"data row0 col0\" >AusStage person ID</td>\n",
       "      <td id=\"T_88012_row0_col1\" class=\"data row0 col1\" >1270</td>\n",
       "    </tr>\n",
       "    <tr>\n",
       "      <td id=\"T_88012_row1_col0\" class=\"data row1 col0\" >NLA Trove people ID</td>\n",
       "      <td id=\"T_88012_row1_col1\" class=\"data row1 col1\" >540</td>\n",
       "    </tr>\n",
       "    <tr>\n",
       "      <td id=\"T_88012_row2_col0\" class=\"data row2 col0\" >Libraries Australia ID</td>\n",
       "      <td id=\"T_88012_row2_col1\" class=\"data row2 col1\" >317</td>\n",
       "    </tr>\n",
       "    <tr>\n",
       "      <td id=\"T_88012_row3_col0\" class=\"data row3 col0\" >Australian Music Centre artist ID</td>\n",
       "      <td id=\"T_88012_row3_col1\" class=\"data row3 col1\" >57</td>\n",
       "    </tr>\n",
       "    <tr>\n",
       "      <td id=\"T_88012_row4_col0\" class=\"data row4 col0\" >People Australia ID</td>\n",
       "      <td id=\"T_88012_row4_col1\" class=\"data row4 col1\" >51</td>\n",
       "    </tr>\n",
       "    <tr>\n",
       "      <td id=\"T_88012_row5_col0\" class=\"data row5 col0\" >AustLit ID</td>\n",
       "      <td id=\"T_88012_row5_col1\" class=\"data row5 col1\" >45</td>\n",
       "    </tr>\n",
       "    <tr>\n",
       "      <td id=\"T_88012_row6_col0\" class=\"data row6 col0\" >Australian Dictionary of Biography ID</td>\n",
       "      <td id=\"T_88012_row6_col1\" class=\"data row6 col1\" >45</td>\n",
       "    </tr>\n",
       "    <tr>\n",
       "      <td id=\"T_88012_row7_col0\" class=\"data row7 col0\" >Dictionary of Sydney ID</td>\n",
       "      <td id=\"T_88012_row7_col1\" class=\"data row7 col1\" >28</td>\n",
       "    </tr>\n",
       "    <tr>\n",
       "      <td id=\"T_88012_row8_col0\" class=\"data row8 col0\" >Australian Women's Register ID</td>\n",
       "      <td id=\"T_88012_row8_col1\" class=\"data row8 col1\" >27</td>\n",
       "    </tr>\n",
       "    <tr>\n",
       "      <td id=\"T_88012_row9_col0\" class=\"data row9 col0\" >Women Australia ID</td>\n",
       "      <td id=\"T_88012_row9_col1\" class=\"data row9 col1\" >22</td>\n",
       "    </tr>\n",
       "    <tr>\n",
       "      <td id=\"T_88012_row10_col0\" class=\"data row10 col0\" >DAAO ID</td>\n",
       "      <td id=\"T_88012_row10_col1\" class=\"data row10 col1\" >21</td>\n",
       "    </tr>\n",
       "    <tr>\n",
       "      <td id=\"T_88012_row11_col0\" class=\"data row11 col0\" >National Gallery of Victoria artist ID</td>\n",
       "      <td id=\"T_88012_row11_col1\" class=\"data row11 col1\" >18</td>\n",
       "    </tr>\n",
       "    <tr>\n",
       "      <td id=\"T_88012_row12_col0\" class=\"data row12 col0\" >Encyclopedia of Melbourne ID</td>\n",
       "      <td id=\"T_88012_row12_col1\" class=\"data row12 col1\" >10</td>\n",
       "    </tr>\n",
       "    <tr>\n",
       "      <td id=\"T_88012_row13_col0\" class=\"data row13 col0\" >Art Gallery of South Australia creator ID</td>\n",
       "      <td id=\"T_88012_row13_col1\" class=\"data row13 col1\" >8</td>\n",
       "    </tr>\n",
       "    <tr>\n",
       "      <td id=\"T_88012_row14_col0\" class=\"data row14 col0\" >Obituaries Australia ID</td>\n",
       "      <td id=\"T_88012_row14_col1\" class=\"data row14 col1\" >7</td>\n",
       "    </tr>\n",
       "    <tr>\n",
       "      <td id=\"T_88012_row15_col0\" class=\"data row15 col0\" >Australian Poetry Library poet ID</td>\n",
       "      <td id=\"T_88012_row15_col1\" class=\"data row15 col1\" >5</td>\n",
       "    </tr>\n",
       "    <tr>\n",
       "      <td id=\"T_88012_row16_col0\" class=\"data row16 col0\" >Labour Australia ID</td>\n",
       "      <td id=\"T_88012_row16_col1\" class=\"data row16 col1\" >3</td>\n",
       "    </tr>\n",
       "    <tr>\n",
       "      <td id=\"T_88012_row17_col0\" class=\"data row17 col0\" >Encyclopedia of Australian Science ID</td>\n",
       "      <td id=\"T_88012_row17_col1\" class=\"data row17 col1\" >2</td>\n",
       "    </tr>\n",
       "    <tr>\n",
       "      <td id=\"T_88012_row18_col0\" class=\"data row18 col0\" >Indigenous Australia ID</td>\n",
       "      <td id=\"T_88012_row18_col1\" class=\"data row18 col1\" >2</td>\n",
       "    </tr>\n",
       "    <tr>\n",
       "      <td id=\"T_88012_row19_col0\" class=\"data row19 col0\" >Australian Prints + Printmaking artist ID</td>\n",
       "      <td id=\"T_88012_row19_col1\" class=\"data row19 col1\" >2</td>\n",
       "    </tr>\n",
       "    <tr>\n",
       "      <td id=\"T_88012_row20_col0\" class=\"data row20 col0\" >Australian National Maritime Museum person ID</td>\n",
       "      <td id=\"T_88012_row20_col1\" class=\"data row20 col1\" >2</td>\n",
       "    </tr>\n",
       "    <tr>\n",
       "      <td id=\"T_88012_row21_col0\" class=\"data row21 col0\" >Australian War Memorial ID</td>\n",
       "      <td id=\"T_88012_row21_col1\" class=\"data row21 col1\" >1</td>\n",
       "    </tr>\n",
       "  </tbody>\n",
       "</table>\n"
      ],
      "text/plain": [
       "<pandas.io.formats.style.Styler at 0x7f750b5f4760>"
      ]
     },
     "execution_count": 12,
     "metadata": {},
     "output_type": "execute_result"
    }
   ],
   "source": [
    "wd_aus_sources = df_wd_links.loc[df_wd_links[\"related_source\"].isin(pids)].value_counts(subset=[\"related_source\"]).to_frame().reset_index()\n",
    "wd_aus_sources.style.hide()"
   ]
  },
  {
   "cell_type": "markdown",
   "id": "51425854-49da-49f6-9d2a-5c71991f3b67",
   "metadata": {},
   "source": [
    "## Links per record"
   ]
  },
  {
   "cell_type": "code",
   "execution_count": 13,
   "id": "65b529d7-b65e-46e4-a6a4-594b6abc2ca0",
   "metadata": {},
   "outputs": [],
   "source": [
    "related_source_counts = df_wd_links.groupby(by=[\"acde_source\", \"wd_url\", \"wd_label\"])[\"related_source\"].count().to_frame().reset_index()"
   ]
  },
  {
   "cell_type": "code",
   "execution_count": 14,
   "id": "dde7b953-5442-4781-997c-951a67c66600",
   "metadata": {},
   "outputs": [
    {
     "data": {
      "text/plain": [
       "count    1270.000000\n",
       "mean       31.541732\n",
       "std        40.587386\n",
       "min         1.000000\n",
       "25%         8.000000\n",
       "50%        16.000000\n",
       "75%        36.750000\n",
       "max       348.000000\n",
       "Name: related_source, dtype: float64"
      ]
     },
     "execution_count": 14,
     "metadata": {},
     "output_type": "execute_result"
    }
   ],
   "source": [
    "related_source_counts[\"related_source\"].describe()"
   ]
  },
  {
   "cell_type": "code",
   "execution_count": 15,
   "id": "87ecf0bf-d8d4-4af6-95d3-6eee16e5ff85",
   "metadata": {},
   "outputs": [
    {
     "name": "stdout",
     "output_type": "stream",
     "text": [
      "98.91% of AusStage people with Wikidata records are linked to additional sources\n"
     ]
    }
   ],
   "source": [
    "more_than_one = related_source_counts.loc[related_source_counts[\"related_source\"] > 1]\n",
    "print(f\"{more_than_one.shape[0]/ausstage_wd_count:.2%} of AusStage people with Wikidata records are linked to additional sources\")"
   ]
  },
  {
   "cell_type": "markdown",
   "id": "3e9cc4d0-d6c5-470b-b578-787d2c204664",
   "metadata": {},
   "source": [
    "Records with the most links"
   ]
  },
  {
   "cell_type": "code",
   "execution_count": 16,
   "id": "0c57e8e6-f4d5-4823-8284-65fc5471983e",
   "metadata": {},
   "outputs": [
    {
     "data": {
      "text/html": [
       "<div>\n",
       "<style scoped>\n",
       "    .dataframe tbody tr th:only-of-type {\n",
       "        vertical-align: middle;\n",
       "    }\n",
       "\n",
       "    .dataframe tbody tr th {\n",
       "        vertical-align: top;\n",
       "    }\n",
       "\n",
       "    .dataframe thead th {\n",
       "        text-align: right;\n",
       "    }\n",
       "</style>\n",
       "<table border=\"1\" class=\"dataframe\">\n",
       "  <thead>\n",
       "    <tr style=\"text-align: right;\">\n",
       "      <th></th>\n",
       "      <th>acde_source</th>\n",
       "      <th>wd_url</th>\n",
       "      <th>wd_label</th>\n",
       "      <th>related_source</th>\n",
       "    </tr>\n",
       "  </thead>\n",
       "  <tbody>\n",
       "    <tr>\n",
       "      <th>1053</th>\n",
       "      <td>AusStage</td>\n",
       "      <td>http://www.wikidata.org/entity/Q692</td>\n",
       "      <td>William Shakespeare</td>\n",
       "      <td>348</td>\n",
       "    </tr>\n",
       "    <tr>\n",
       "      <th>1197</th>\n",
       "      <td>AusStage</td>\n",
       "      <td>http://www.wikidata.org/entity/Q9068</td>\n",
       "      <td>Voltaire</td>\n",
       "      <td>261</td>\n",
       "    </tr>\n",
       "    <tr>\n",
       "      <th>906</th>\n",
       "      <td>AusStage</td>\n",
       "      <td>http://www.wikidata.org/entity/Q5673</td>\n",
       "      <td>Hans Christian Andersen</td>\n",
       "      <td>251</td>\n",
       "    </tr>\n",
       "    <tr>\n",
       "      <th>277</th>\n",
       "      <td>AusStage</td>\n",
       "      <td>http://www.wikidata.org/entity/Q169566</td>\n",
       "      <td>H. P. Lovecraft</td>\n",
       "      <td>236</td>\n",
       "    </tr>\n",
       "    <tr>\n",
       "      <th>1082</th>\n",
       "      <td>AusStage</td>\n",
       "      <td>http://www.wikidata.org/entity/Q7200</td>\n",
       "      <td>Alexander Pushkin</td>\n",
       "      <td>218</td>\n",
       "    </tr>\n",
       "    <tr>\n",
       "      <th>1176</th>\n",
       "      <td>AusStage</td>\n",
       "      <td>http://www.wikidata.org/entity/Q81447</td>\n",
       "      <td>Aldous Huxley</td>\n",
       "      <td>218</td>\n",
       "    </tr>\n",
       "    <tr>\n",
       "      <th>1098</th>\n",
       "      <td>AusStage</td>\n",
       "      <td>http://www.wikidata.org/entity/Q7317</td>\n",
       "      <td>Giuseppe Verdi</td>\n",
       "      <td>213</td>\n",
       "    </tr>\n",
       "    <tr>\n",
       "      <th>166</th>\n",
       "      <td>AusStage</td>\n",
       "      <td>http://www.wikidata.org/entity/Q134456</td>\n",
       "      <td>Yukio Mishima</td>\n",
       "      <td>211</td>\n",
       "    </tr>\n",
       "    <tr>\n",
       "      <th>765</th>\n",
       "      <td>AusStage</td>\n",
       "      <td>http://www.wikidata.org/entity/Q504</td>\n",
       "      <td>Émile Zola</td>\n",
       "      <td>210</td>\n",
       "    </tr>\n",
       "    <tr>\n",
       "      <th>183</th>\n",
       "      <td>AusStage</td>\n",
       "      <td>http://www.wikidata.org/entity/Q1399</td>\n",
       "      <td>Niccolò Machiavelli</td>\n",
       "      <td>208</td>\n",
       "    </tr>\n",
       "    <tr>\n",
       "      <th>710</th>\n",
       "      <td>AusStage</td>\n",
       "      <td>http://www.wikidata.org/entity/Q4700</td>\n",
       "      <td>Claude Debussy</td>\n",
       "      <td>206</td>\n",
       "    </tr>\n",
       "    <tr>\n",
       "      <th>663</th>\n",
       "      <td>AusStage</td>\n",
       "      <td>http://www.wikidata.org/entity/Q42</td>\n",
       "      <td>Douglas Adams</td>\n",
       "      <td>197</td>\n",
       "    </tr>\n",
       "    <tr>\n",
       "      <th>1153</th>\n",
       "      <td>AusStage</td>\n",
       "      <td>http://www.wikidata.org/entity/Q78491</td>\n",
       "      <td>Stefan Zweig</td>\n",
       "      <td>197</td>\n",
       "    </tr>\n",
       "    <tr>\n",
       "      <th>304</th>\n",
       "      <td>AusStage</td>\n",
       "      <td>http://www.wikidata.org/entity/Q180727</td>\n",
       "      <td>John Cage</td>\n",
       "      <td>197</td>\n",
       "    </tr>\n",
       "    <tr>\n",
       "      <th>1096</th>\n",
       "      <td>AusStage</td>\n",
       "      <td>http://www.wikidata.org/entity/Q7315</td>\n",
       "      <td>Pyotr Ilyich Tchaikovsky</td>\n",
       "      <td>195</td>\n",
       "    </tr>\n",
       "    <tr>\n",
       "      <th>516</th>\n",
       "      <td>AusStage</td>\n",
       "      <td>http://www.wikidata.org/entity/Q2908</td>\n",
       "      <td>Antoine de Saint-Exupéry</td>\n",
       "      <td>195</td>\n",
       "    </tr>\n",
       "    <tr>\n",
       "      <th>1093</th>\n",
       "      <td>AusStage</td>\n",
       "      <td>http://www.wikidata.org/entity/Q7304</td>\n",
       "      <td>Gustav Mahler</td>\n",
       "      <td>194</td>\n",
       "    </tr>\n",
       "    <tr>\n",
       "      <th>1105</th>\n",
       "      <td>AusStage</td>\n",
       "      <td>http://www.wikidata.org/entity/Q7351</td>\n",
       "      <td>Robert Schumann</td>\n",
       "      <td>191</td>\n",
       "    </tr>\n",
       "    <tr>\n",
       "      <th>652</th>\n",
       "      <td>AusStage</td>\n",
       "      <td>http://www.wikidata.org/entity/Q40939</td>\n",
       "      <td>Aeschylus</td>\n",
       "      <td>188</td>\n",
       "    </tr>\n",
       "    <tr>\n",
       "      <th>213</th>\n",
       "      <td>AusStage</td>\n",
       "      <td>http://www.wikidata.org/entity/Q155412</td>\n",
       "      <td>Toni Braxton</td>\n",
       "      <td>187</td>\n",
       "    </tr>\n",
       "  </tbody>\n",
       "</table>\n",
       "</div>"
      ],
      "text/plain": [
       "     acde_source                                  wd_url  \\\n",
       "1053    AusStage     http://www.wikidata.org/entity/Q692   \n",
       "1197    AusStage    http://www.wikidata.org/entity/Q9068   \n",
       "906     AusStage    http://www.wikidata.org/entity/Q5673   \n",
       "277     AusStage  http://www.wikidata.org/entity/Q169566   \n",
       "1082    AusStage    http://www.wikidata.org/entity/Q7200   \n",
       "1176    AusStage   http://www.wikidata.org/entity/Q81447   \n",
       "1098    AusStage    http://www.wikidata.org/entity/Q7317   \n",
       "166     AusStage  http://www.wikidata.org/entity/Q134456   \n",
       "765     AusStage     http://www.wikidata.org/entity/Q504   \n",
       "183     AusStage    http://www.wikidata.org/entity/Q1399   \n",
       "710     AusStage    http://www.wikidata.org/entity/Q4700   \n",
       "663     AusStage      http://www.wikidata.org/entity/Q42   \n",
       "1153    AusStage   http://www.wikidata.org/entity/Q78491   \n",
       "304     AusStage  http://www.wikidata.org/entity/Q180727   \n",
       "1096    AusStage    http://www.wikidata.org/entity/Q7315   \n",
       "516     AusStage    http://www.wikidata.org/entity/Q2908   \n",
       "1093    AusStage    http://www.wikidata.org/entity/Q7304   \n",
       "1105    AusStage    http://www.wikidata.org/entity/Q7351   \n",
       "652     AusStage   http://www.wikidata.org/entity/Q40939   \n",
       "213     AusStage  http://www.wikidata.org/entity/Q155412   \n",
       "\n",
       "                      wd_label  related_source  \n",
       "1053       William Shakespeare             348  \n",
       "1197                  Voltaire             261  \n",
       "906    Hans Christian Andersen             251  \n",
       "277            H. P. Lovecraft             236  \n",
       "1082         Alexander Pushkin             218  \n",
       "1176             Aldous Huxley             218  \n",
       "1098            Giuseppe Verdi             213  \n",
       "166              Yukio Mishima             211  \n",
       "765                 Émile Zola             210  \n",
       "183        Niccolò Machiavelli             208  \n",
       "710             Claude Debussy             206  \n",
       "663              Douglas Adams             197  \n",
       "1153              Stefan Zweig             197  \n",
       "304                  John Cage             197  \n",
       "1096  Pyotr Ilyich Tchaikovsky             195  \n",
       "516   Antoine de Saint-Exupéry             195  \n",
       "1093             Gustav Mahler             194  \n",
       "1105           Robert Schumann             191  \n",
       "652                  Aeschylus             188  \n",
       "213               Toni Braxton             187  "
      ]
     },
     "execution_count": 16,
     "metadata": {},
     "output_type": "execute_result"
    }
   ],
   "source": [
    "related_source_counts.sort_values('related_source', ascending=False)[:20]"
   ]
  },
  {
   "cell_type": "code",
   "execution_count": null,
   "id": "0ec6beeb-814f-4f33-ad69-9150ccbb106f",
   "metadata": {},
   "outputs": [],
   "source": []
  }
 ],
 "metadata": {
  "kernelspec": {
   "display_name": "Python 3 (ipykernel)",
   "language": "python",
   "name": "python3"
  },
  "language_info": {
   "codemirror_mode": {
    "name": "ipython",
    "version": 3
   },
   "file_extension": ".py",
   "mimetype": "text/x-python",
   "name": "python",
   "nbconvert_exporter": "python",
   "pygments_lexer": "ipython3",
   "version": "3.8.12"
  },
  "widgets": {
   "application/vnd.jupyter.widget-state+json": {
    "state": {},
    "version_major": 2,
    "version_minor": 0
   }
  }
 },
 "nbformat": 4,
 "nbformat_minor": 5
}
