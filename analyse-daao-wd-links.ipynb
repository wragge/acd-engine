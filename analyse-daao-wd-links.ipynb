{
 "cells": [
  {
   "cell_type": "markdown",
   "id": "9b31c59f-7bc6-4914-9366-a84d98330ee7",
   "metadata": {},
   "source": [
    "# Analysing DAAO Wikidata links\n"
   ]
  },
  {
   "cell_type": "code",
   "execution_count": 1,
   "id": "394e6395-e0c1-4db4-9523-f2b50a01d783",
   "metadata": {},
   "outputs": [],
   "source": [
    "import pandas as pd"
   ]
  },
  {
   "cell_type": "markdown",
   "id": "146bc700-58b4-47b5-aef3-8ccaa89922af",
   "metadata": {},
   "source": [
    "How many DAAO records are in the ACDE dataset?"
   ]
  },
  {
   "cell_type": "code",
   "execution_count": 2,
   "id": "f6b065ec-0be0-49b1-869c-aa06433adbf3",
   "metadata": {},
   "outputs": [
    {
     "data": {
      "text/plain": [
       "2188"
      ]
     },
     "execution_count": 2,
     "metadata": {},
     "output_type": "execute_result"
    }
   ],
   "source": [
    "df_acde = pd.read_json(\"ACDE_Merged_Normalized_202206031344.json\")\n",
    "df_daao = df_acde.loc[df_acde[\"data_source\"] == \"DAAO\"]\n",
    "daao_count = df_daao.shape[0]\n",
    "daao_count"
   ]
  },
  {
   "cell_type": "markdown",
   "id": "3f198238-b4d0-4d8b-9e87-d7336cf6b396",
   "metadata": {},
   "source": [
    "How many DAAO people have an match in Wikidata?"
   ]
  },
  {
   "cell_type": "code",
   "execution_count": 3,
   "id": "4947e59f-4714-4b83-a702-39aee25a26e5",
   "metadata": {},
   "outputs": [
    {
     "data": {
      "text/html": [
       "<div>\n",
       "<style scoped>\n",
       "    .dataframe tbody tr th:only-of-type {\n",
       "        vertical-align: middle;\n",
       "    }\n",
       "\n",
       "    .dataframe tbody tr th {\n",
       "        vertical-align: top;\n",
       "    }\n",
       "\n",
       "    .dataframe thead th {\n",
       "        text-align: right;\n",
       "    }\n",
       "</style>\n",
       "<table border=\"1\" class=\"dataframe\">\n",
       "  <thead>\n",
       "    <tr style=\"text-align: right;\">\n",
       "      <th></th>\n",
       "      <th>acde_source</th>\n",
       "      <th>or_id</th>\n",
       "      <th>or_path</th>\n",
       "      <th>related_source</th>\n",
       "      <th>related_id</th>\n",
       "      <th>related_url</th>\n",
       "      <th>wd_url</th>\n",
       "      <th>wd_label</th>\n",
       "    </tr>\n",
       "  </thead>\n",
       "  <tbody>\n",
       "    <tr>\n",
       "      <th>0</th>\n",
       "      <td>DAAO</td>\n",
       "      <td>NaN</td>\n",
       "      <td>ulay-abramovic</td>\n",
       "      <td>RKDartists ID</td>\n",
       "      <td>123221</td>\n",
       "      <td>https://rkd.nl/explore/artists/123221</td>\n",
       "      <td>http://www.wikidata.org/entity/Q29939705</td>\n",
       "      <td>Abramović/Ulay</td>\n",
       "    </tr>\n",
       "    <tr>\n",
       "      <th>1</th>\n",
       "      <td>DAAO</td>\n",
       "      <td>NaN</td>\n",
       "      <td>ulay-abramovic</td>\n",
       "      <td>GTAA ID</td>\n",
       "      <td>75229</td>\n",
       "      <td>https://data.beeldengeluid.nl/gtaa/75229</td>\n",
       "      <td>http://www.wikidata.org/entity/Q29939705</td>\n",
       "      <td>Abramović/Ulay</td>\n",
       "    </tr>\n",
       "    <tr>\n",
       "      <th>2</th>\n",
       "      <td>DAAO</td>\n",
       "      <td>NaN</td>\n",
       "      <td>ulay-abramovic</td>\n",
       "      <td>NLA Trove people ID</td>\n",
       "      <td>1599739</td>\n",
       "      <td>https://trove.nla.gov.au/people/1599739</td>\n",
       "      <td>http://www.wikidata.org/entity/Q29939705</td>\n",
       "      <td>Abramović/Ulay</td>\n",
       "    </tr>\n",
       "    <tr>\n",
       "      <th>3</th>\n",
       "      <td>DAAO</td>\n",
       "      <td>NaN</td>\n",
       "      <td>ulay-abramovic</td>\n",
       "      <td>DAAO ID</td>\n",
       "      <td>ulay-abramovic</td>\n",
       "      <td>https://www.daao.org.au/bio/ulay-abramovic</td>\n",
       "      <td>http://www.wikidata.org/entity/Q29939705</td>\n",
       "      <td>Abramović/Ulay</td>\n",
       "    </tr>\n",
       "    <tr>\n",
       "      <th>4</th>\n",
       "      <td>DAAO</td>\n",
       "      <td>NaN</td>\n",
       "      <td>ulay-abramovic</td>\n",
       "      <td>Photographers' Identities Catalog ID</td>\n",
       "      <td>330593</td>\n",
       "      <td>https://pic.nypl.org/constituents/330593</td>\n",
       "      <td>http://www.wikidata.org/entity/Q29939705</td>\n",
       "      <td>Abramović/Ulay</td>\n",
       "    </tr>\n",
       "  </tbody>\n",
       "</table>\n",
       "</div>"
      ],
      "text/plain": [
       "  acde_source or_id         or_path                        related_source  \\\n",
       "0        DAAO   NaN  ulay-abramovic                         RKDartists ID   \n",
       "1        DAAO   NaN  ulay-abramovic                               GTAA ID   \n",
       "2        DAAO   NaN  ulay-abramovic                   NLA Trove people ID   \n",
       "3        DAAO   NaN  ulay-abramovic                               DAAO ID   \n",
       "4        DAAO   NaN  ulay-abramovic  Photographers' Identities Catalog ID   \n",
       "\n",
       "       related_id                                 related_url  \\\n",
       "0          123221       https://rkd.nl/explore/artists/123221   \n",
       "1           75229    https://data.beeldengeluid.nl/gtaa/75229   \n",
       "2         1599739     https://trove.nla.gov.au/people/1599739   \n",
       "3  ulay-abramovic  https://www.daao.org.au/bio/ulay-abramovic   \n",
       "4          330593    https://pic.nypl.org/constituents/330593   \n",
       "\n",
       "                                     wd_url        wd_label  \n",
       "0  http://www.wikidata.org/entity/Q29939705  Abramović/Ulay  \n",
       "1  http://www.wikidata.org/entity/Q29939705  Abramović/Ulay  \n",
       "2  http://www.wikidata.org/entity/Q29939705  Abramović/Ulay  \n",
       "3  http://www.wikidata.org/entity/Q29939705  Abramović/Ulay  \n",
       "4  http://www.wikidata.org/entity/Q29939705  Abramović/Ulay  "
      ]
     },
     "execution_count": 3,
     "metadata": {},
     "output_type": "execute_result"
    }
   ],
   "source": [
    "df_daao = pd.read_json(\"daao_wd_all_links_20221006.json\")\n",
    "df_daao.rename(columns={\"or_id\": \"or_path\"}, inplace=True)\n",
    "daao_urls = pd.read_csv(\"daao_urls.csv\")\n",
    "df_wd_links = pd.merge(\n",
    "    df_daao, daao_urls, how=\"left\", left_on=\"or_path\", right_on=\"daao_path\"\n",
    ")\n",
    "df_wd_links.rename(columns={\"daao_id\": \"or_id\"}, inplace=True)\n",
    "df_wd_links = df_wd_links[['acde_source', 'or_id', 'or_path', 'related_source', 'related_id', 'related_url',\n",
    "       'wd_url', 'wd_label']]\n",
    "\n",
    "df_wd_links.head()"
   ]
  },
  {
   "cell_type": "markdown",
   "id": "5d76b72e-fa8d-4458-8fb5-7d583bbdd4f7",
   "metadata": {},
   "source": [
    "We harvested details from all of the entities in Wikidata that had a DAAO id attached to them. But not all of these appear to be in the ACDE dataset. Some Wikidata entries might not be linked to the ACDE dataset because I was unable to find a DAAO url for the hash identifier in the ACDE dataset. I used these urls to get the path segments that Wikidata uses as identifiers for DAAO. However, I was able to get urls for 2090 of the 2188 DAAO records in the ACDE dataset from Trove, so that doesn't explain the full difference."
   ]
  },
  {
   "cell_type": "markdown",
   "id": "01c84967-e048-4d20-937f-122eb5893db2",
   "metadata": {},
   "source": [
    "How many of the DAAO people in the ACDE dataset have Wikidata links?"
   ]
  },
  {
   "cell_type": "code",
   "execution_count": 4,
   "id": "fa802214-aafd-4867-be55-da48f4a887cd",
   "metadata": {},
   "outputs": [
    {
     "data": {
      "text/plain": [
       "437"
      ]
     },
     "execution_count": 4,
     "metadata": {},
     "output_type": "execute_result"
    }
   ],
   "source": [
    "daao_acde_wd_count = df_wd_links.loc[df_wd_links[\"or_id\"].notnull()].groupby(by=[\"acde_source\", \"or_id\"]).ngroups\n",
    "daao_acde_wd_count"
   ]
  },
  {
   "cell_type": "markdown",
   "id": "cde69559-d93d-49f8-af96-e2e12ad0650a",
   "metadata": {},
   "source": [
    "How many entities in Wikidata with DAAO links don't seem to be in the ACDE dataset? (Note the qualification above, this could be off by 98 records.)"
   ]
  },
  {
   "cell_type": "code",
   "execution_count": 5,
   "id": "9a7098da",
   "metadata": {},
   "outputs": [
    {
     "data": {
      "text/plain": [
       "1426"
      ]
     },
     "execution_count": 5,
     "metadata": {},
     "output_type": "execute_result"
    }
   ],
   "source": [
    "daao_notacde_wd_count = df_wd_links.loc[df_wd_links[\"or_id\"].isnull()].loc[df_wd_links[\"or_id\"].isnull()].groupby(by=[\"acde_source\", \"or_path\"]).ngroups\n",
    "daao_notacde_wd_count"
   ]
  },
  {
   "cell_type": "markdown",
   "id": "af7580df-b7f1-4f15-989d-803f395206c8",
   "metadata": {},
   "source": [
    "In total, how many people with DAAO records have entries in Wikidata?"
   ]
  },
  {
   "cell_type": "code",
   "execution_count": 6,
   "id": "45af434d-3704-4c2e-ba38-5ba229795778",
   "metadata": {},
   "outputs": [
    {
     "data": {
      "text/plain": [
       "1863"
      ]
     },
     "execution_count": 6,
     "metadata": {},
     "output_type": "execute_result"
    }
   ],
   "source": [
    "daao_wd_count = daao_notacde_wd_count + daao_acde_wd_count\n",
    "daao_wd_count"
   ]
  },
  {
   "cell_type": "code",
   "execution_count": 7,
   "id": "61944933-a275-4208-9ea3-95a5f7c62696",
   "metadata": {},
   "outputs": [
    {
     "name": "stdout",
     "output_type": "stream",
     "text": [
      "19.97% of DAAO people in the ACDE dataset have a match in Wikidata\n"
     ]
    }
   ],
   "source": [
    "print(f\"{daao_acde_wd_count/daao_count:.2%} of DAAO people in the ACDE dataset have a match in Wikidata\")"
   ]
  },
  {
   "cell_type": "markdown",
   "id": "325d3f8d-1a07-4ea6-8904-bd77f7fa1125",
   "metadata": {},
   "source": [
    "## Duplicates?\n",
    "\n",
    "I noticed that there seemed to be some duplicate Wikidata links. Investigating further I noticed that some Wikidata entities were linked to multiple DAAO ids, so when I harvested the DAAO ids I ended up harvesting the Wikidata entity more than once. I don't want to remove them, as that would lose the links to the DAAO identifiers, but for some calculations we'll want to remove them."
   ]
  },
  {
   "cell_type": "code",
   "execution_count": 8,
   "id": "a4b71ac9-f57d-4426-89fa-cadce27f7c54",
   "metadata": {},
   "outputs": [
    {
     "data": {
      "text/plain": [
       "29332"
      ]
     },
     "execution_count": 8,
     "metadata": {},
     "output_type": "execute_result"
    }
   ],
   "source": [
    "df_wd_links.shape[0]"
   ]
  },
  {
   "cell_type": "code",
   "execution_count": 9,
   "id": "bfa82859-a889-4e27-90ad-d17a3730823d",
   "metadata": {},
   "outputs": [
    {
     "data": {
      "text/plain": [
       "28112"
      ]
     },
     "execution_count": 9,
     "metadata": {},
     "output_type": "execute_result"
    }
   ],
   "source": [
    "df_wd_links.drop_duplicates(subset=[\"related_source\", \"related_id\", \"wd_url\"], inplace=True)\n",
    "df_wd_links.shape[0]"
   ]
  },
  {
   "cell_type": "markdown",
   "id": "3918b95b-db45-4381-acf6-c931d9fc3ef3",
   "metadata": {},
   "source": [
    "## Related sources\n",
    "\n",
    "Which other sources are linked to DAAO records via Trove?"
   ]
  },
  {
   "cell_type": "code",
   "execution_count": 10,
   "id": "057e2e57-1c17-4bd2-9ba5-9891f5fe51af",
   "metadata": {},
   "outputs": [],
   "source": [
    "# There are some duplicates where the Wikidata records contain multiple DAAO identifiers, causing them to be\n",
    "# harvested more than once. Let's get rid of them for counting purposes.\n",
    "df_wd_links.drop_duplicates(subset=[\"related_source\", \"wd_url\"], inplace=True)\n",
    "\n",
    "df_wd_sources = df_wd_links.value_counts(subset=[\"related_source\"]).to_frame().reset_index()\n",
    "df_wd_sources.rename(columns={0: \"count\"}, inplace=True)"
   ]
  },
  {
   "cell_type": "markdown",
   "id": "f116f312-ea8b-4917-b679-2bab4afdee42",
   "metadata": {},
   "source": [
    "How many different external identifiers are attached to the Wikidata entities with DAAO links?"
   ]
  },
  {
   "cell_type": "code",
   "execution_count": 11,
   "id": "9bbcf48b-6dba-446d-9933-6563198186c6",
   "metadata": {},
   "outputs": [
    {
     "data": {
      "text/plain": [
       "740"
      ]
     },
     "execution_count": 11,
     "metadata": {},
     "output_type": "execute_result"
    }
   ],
   "source": [
    "df_wd_sources.shape[0]"
   ]
  },
  {
   "cell_type": "markdown",
   "id": "80499329-1f3d-42ed-b035-6470c108eeeb",
   "metadata": {},
   "source": [
    "740! Let's show the top twenty."
   ]
  },
  {
   "cell_type": "code",
   "execution_count": 12,
   "id": "45277429-3a50-4654-a5e9-f0e2ca44da5b",
   "metadata": {},
   "outputs": [
    {
     "data": {
      "text/html": [
       "<div>\n",
       "<style scoped>\n",
       "    .dataframe tbody tr th:only-of-type {\n",
       "        vertical-align: middle;\n",
       "    }\n",
       "\n",
       "    .dataframe tbody tr th {\n",
       "        vertical-align: top;\n",
       "    }\n",
       "\n",
       "    .dataframe thead th {\n",
       "        text-align: right;\n",
       "    }\n",
       "</style>\n",
       "<table border=\"1\" class=\"dataframe\">\n",
       "  <thead>\n",
       "    <tr style=\"text-align: right;\">\n",
       "      <th></th>\n",
       "      <th>related_source</th>\n",
       "      <th>count</th>\n",
       "    </tr>\n",
       "  </thead>\n",
       "  <tbody>\n",
       "    <tr>\n",
       "      <th>0</th>\n",
       "      <td>DAAO ID</td>\n",
       "      <td>1823</td>\n",
       "    </tr>\n",
       "    <tr>\n",
       "      <th>1</th>\n",
       "      <td>NLA Trove people ID</td>\n",
       "      <td>1437</td>\n",
       "    </tr>\n",
       "    <tr>\n",
       "      <th>2</th>\n",
       "      <td>VIAF ID</td>\n",
       "      <td>1252</td>\n",
       "    </tr>\n",
       "    <tr>\n",
       "      <th>3</th>\n",
       "      <td>WorldCat Identities ID</td>\n",
       "      <td>1181</td>\n",
       "    </tr>\n",
       "    <tr>\n",
       "      <th>4</th>\n",
       "      <td>Freebase ID</td>\n",
       "      <td>842</td>\n",
       "    </tr>\n",
       "    <tr>\n",
       "      <th>5</th>\n",
       "      <td>ISNI</td>\n",
       "      <td>816</td>\n",
       "    </tr>\n",
       "    <tr>\n",
       "      <th>6</th>\n",
       "      <td>Library of Congress authority ID</td>\n",
       "      <td>770</td>\n",
       "    </tr>\n",
       "    <tr>\n",
       "      <th>7</th>\n",
       "      <td>National Gallery of Victoria artist ID</td>\n",
       "      <td>649</td>\n",
       "    </tr>\n",
       "    <tr>\n",
       "      <th>8</th>\n",
       "      <td>Artnet artist ID</td>\n",
       "      <td>637</td>\n",
       "    </tr>\n",
       "    <tr>\n",
       "      <th>9</th>\n",
       "      <td>FAST ID</td>\n",
       "      <td>614</td>\n",
       "    </tr>\n",
       "    <tr>\n",
       "      <th>10</th>\n",
       "      <td>Invaluable.com person ID</td>\n",
       "      <td>604</td>\n",
       "    </tr>\n",
       "    <tr>\n",
       "      <th>11</th>\n",
       "      <td>Libraries Australia ID</td>\n",
       "      <td>516</td>\n",
       "    </tr>\n",
       "    <tr>\n",
       "      <th>12</th>\n",
       "      <td>Union List of Artist Names ID</td>\n",
       "      <td>511</td>\n",
       "    </tr>\n",
       "    <tr>\n",
       "      <th>13</th>\n",
       "      <td>Art Gallery of South Australia creator ID</td>\n",
       "      <td>490</td>\n",
       "    </tr>\n",
       "    <tr>\n",
       "      <th>14</th>\n",
       "      <td>People Australia ID</td>\n",
       "      <td>465</td>\n",
       "    </tr>\n",
       "    <tr>\n",
       "      <th>15</th>\n",
       "      <td>Europeana entity</td>\n",
       "      <td>459</td>\n",
       "    </tr>\n",
       "    <tr>\n",
       "      <th>16</th>\n",
       "      <td>Australian Dictionary of Biography ID</td>\n",
       "      <td>436</td>\n",
       "    </tr>\n",
       "    <tr>\n",
       "      <th>17</th>\n",
       "      <td>GND ID</td>\n",
       "      <td>434</td>\n",
       "    </tr>\n",
       "    <tr>\n",
       "      <th>18</th>\n",
       "      <td>SNAC ARK ID</td>\n",
       "      <td>416</td>\n",
       "    </tr>\n",
       "    <tr>\n",
       "      <th>19</th>\n",
       "      <td>RKDartists ID</td>\n",
       "      <td>382</td>\n",
       "    </tr>\n",
       "  </tbody>\n",
       "</table>\n",
       "</div>"
      ],
      "text/plain": [
       "                               related_source  count\n",
       "0                                     DAAO ID   1823\n",
       "1                         NLA Trove people ID   1437\n",
       "2                                     VIAF ID   1252\n",
       "3                      WorldCat Identities ID   1181\n",
       "4                                 Freebase ID    842\n",
       "5                                        ISNI    816\n",
       "6            Library of Congress authority ID    770\n",
       "7      National Gallery of Victoria artist ID    649\n",
       "8                            Artnet artist ID    637\n",
       "9                                     FAST ID    614\n",
       "10                   Invaluable.com person ID    604\n",
       "11                     Libraries Australia ID    516\n",
       "12              Union List of Artist Names ID    511\n",
       "13  Art Gallery of South Australia creator ID    490\n",
       "14                        People Australia ID    465\n",
       "15                           Europeana entity    459\n",
       "16      Australian Dictionary of Biography ID    436\n",
       "17                                     GND ID    434\n",
       "18                                SNAC ARK ID    416\n",
       "19                              RKDartists ID    382"
      ]
     },
     "execution_count": 12,
     "metadata": {},
     "output_type": "execute_result"
    }
   ],
   "source": [
    "df_wd_sources[:20]"
   ]
  },
  {
   "cell_type": "code",
   "execution_count": 13,
   "id": "489c5382-cffa-4155-be71-33168086a37d",
   "metadata": {},
   "outputs": [],
   "source": [
    "people_ids = {\n",
    "    \"Libraries Australia ID\": \"P409\",\n",
    "    \"NLA Trove people ID\": \"P1315\",\n",
    "    \"People Australia ID\": \"P9159\",\n",
    "    \"Obituaries Australia ID\": \"P9232\",\n",
    "    \"Australian Dictionary of Biography ID\": \"P1907\",\n",
    "    \"Labour Australia ID\": \"P9245\",\n",
    "    \"Indigenous Australia ID\": \"P9246\",\n",
    "    \"Women Australia ID\": \"P9244\",\n",
    "    \"Encyclopedia of Australian Science ID\": \"P4228\",\n",
    "    \"AusStage person ID\": \"P8292\",\n",
    "    \"AustLit ID\": \"P8295\",\n",
    "    \"DAAO ID\": \"P1707\",\n",
    "    \"National Archives of Australia entity ID\": \"P10856\",\n",
    "    \"Encyclopedia of Melbourne ID\": \"P9304\",\n",
    "    \"Dictionary of Sydney ID\": \"P3794\",\n",
    "    \"Australian Women's Register ID\": \"P4186\",\n",
    "    \"Art Gallery of South Australia creator ID\": \"P6804\",\n",
    "    \"Parliament of Australia MP ID\": \"P10020\",\n",
    "    \"Re-Member ID\": \"P8633\",\n",
    "    \"NSW Parliament member ID\": \"P10012\",\n",
    "    \"Australian War Memorial ID\": \"P6713\",\n",
    "    \"National Gallery of Victoria artist ID\": \"P2041\",\n",
    "    \"Australian Prints + Printmaking artist ID\": \"P10086\",\n",
    "    \"Australian Music Centre artist ID\": \"P9575\",\n",
    "    \"Australian National Maritime Museum person ID\": \"P7769\",\n",
    "    \"Australian Poetry Library poet ID\": \"P5465\"\n",
    "}\n",
    "\n",
    "pids = [k for k,v in people_ids.items()]"
   ]
  },
  {
   "cell_type": "code",
   "execution_count": 14,
   "id": "ec4549b2-5e4c-4d2a-86c1-ea6b157391ce",
   "metadata": {},
   "outputs": [
    {
     "data": {
      "text/html": [
       "<style type=\"text/css\">\n",
       "</style>\n",
       "<table id=\"T_0b5d6\">\n",
       "  <thead>\n",
       "    <tr>\n",
       "      <th id=\"T_0b5d6_level0_col0\" class=\"col_heading level0 col0\" >related_source</th>\n",
       "      <th id=\"T_0b5d6_level0_col1\" class=\"col_heading level0 col1\" >0</th>\n",
       "    </tr>\n",
       "  </thead>\n",
       "  <tbody>\n",
       "    <tr>\n",
       "      <td id=\"T_0b5d6_row0_col0\" class=\"data row0 col0\" >DAAO ID</td>\n",
       "      <td id=\"T_0b5d6_row0_col1\" class=\"data row0 col1\" >1823</td>\n",
       "    </tr>\n",
       "    <tr>\n",
       "      <td id=\"T_0b5d6_row1_col0\" class=\"data row1 col0\" >NLA Trove people ID</td>\n",
       "      <td id=\"T_0b5d6_row1_col1\" class=\"data row1 col1\" >1437</td>\n",
       "    </tr>\n",
       "    <tr>\n",
       "      <td id=\"T_0b5d6_row2_col0\" class=\"data row2 col0\" >National Gallery of Victoria artist ID</td>\n",
       "      <td id=\"T_0b5d6_row2_col1\" class=\"data row2 col1\" >649</td>\n",
       "    </tr>\n",
       "    <tr>\n",
       "      <td id=\"T_0b5d6_row3_col0\" class=\"data row3 col0\" >Libraries Australia ID</td>\n",
       "      <td id=\"T_0b5d6_row3_col1\" class=\"data row3 col1\" >516</td>\n",
       "    </tr>\n",
       "    <tr>\n",
       "      <td id=\"T_0b5d6_row4_col0\" class=\"data row4 col0\" >Art Gallery of South Australia creator ID</td>\n",
       "      <td id=\"T_0b5d6_row4_col1\" class=\"data row4 col1\" >490</td>\n",
       "    </tr>\n",
       "    <tr>\n",
       "      <td id=\"T_0b5d6_row5_col0\" class=\"data row5 col0\" >People Australia ID</td>\n",
       "      <td id=\"T_0b5d6_row5_col1\" class=\"data row5 col1\" >465</td>\n",
       "    </tr>\n",
       "    <tr>\n",
       "      <td id=\"T_0b5d6_row6_col0\" class=\"data row6 col0\" >Australian Dictionary of Biography ID</td>\n",
       "      <td id=\"T_0b5d6_row6_col1\" class=\"data row6 col1\" >436</td>\n",
       "    </tr>\n",
       "    <tr>\n",
       "      <td id=\"T_0b5d6_row7_col0\" class=\"data row7 col0\" >Dictionary of Sydney ID</td>\n",
       "      <td id=\"T_0b5d6_row7_col1\" class=\"data row7 col1\" >130</td>\n",
       "    </tr>\n",
       "    <tr>\n",
       "      <td id=\"T_0b5d6_row8_col0\" class=\"data row8 col0\" >Women Australia ID</td>\n",
       "      <td id=\"T_0b5d6_row8_col1\" class=\"data row8 col1\" >130</td>\n",
       "    </tr>\n",
       "    <tr>\n",
       "      <td id=\"T_0b5d6_row9_col0\" class=\"data row9 col0\" >Australian National Maritime Museum person ID</td>\n",
       "      <td id=\"T_0b5d6_row9_col1\" class=\"data row9 col1\" >108</td>\n",
       "    </tr>\n",
       "    <tr>\n",
       "      <td id=\"T_0b5d6_row10_col0\" class=\"data row10 col0\" >Encyclopedia of Australian Science ID</td>\n",
       "      <td id=\"T_0b5d6_row10_col1\" class=\"data row10 col1\" >103</td>\n",
       "    </tr>\n",
       "    <tr>\n",
       "      <td id=\"T_0b5d6_row11_col0\" class=\"data row11 col0\" >Australian Women's Register ID</td>\n",
       "      <td id=\"T_0b5d6_row11_col1\" class=\"data row11 col1\" >95</td>\n",
       "    </tr>\n",
       "    <tr>\n",
       "      <td id=\"T_0b5d6_row12_col0\" class=\"data row12 col0\" >Encyclopedia of Melbourne ID</td>\n",
       "      <td id=\"T_0b5d6_row12_col1\" class=\"data row12 col1\" >56</td>\n",
       "    </tr>\n",
       "    <tr>\n",
       "      <td id=\"T_0b5d6_row13_col0\" class=\"data row13 col0\" >Obituaries Australia ID</td>\n",
       "      <td id=\"T_0b5d6_row13_col1\" class=\"data row13 col1\" >53</td>\n",
       "    </tr>\n",
       "    <tr>\n",
       "      <td id=\"T_0b5d6_row14_col0\" class=\"data row14 col0\" >Australian Prints + Printmaking artist ID</td>\n",
       "      <td id=\"T_0b5d6_row14_col1\" class=\"data row14 col1\" >45</td>\n",
       "    </tr>\n",
       "    <tr>\n",
       "      <td id=\"T_0b5d6_row15_col0\" class=\"data row15 col0\" >AusStage person ID</td>\n",
       "      <td id=\"T_0b5d6_row15_col1\" class=\"data row15 col1\" >21</td>\n",
       "    </tr>\n",
       "    <tr>\n",
       "      <td id=\"T_0b5d6_row16_col0\" class=\"data row16 col0\" >AustLit ID</td>\n",
       "      <td id=\"T_0b5d6_row16_col1\" class=\"data row16 col1\" >19</td>\n",
       "    </tr>\n",
       "    <tr>\n",
       "      <td id=\"T_0b5d6_row17_col0\" class=\"data row17 col0\" >Australian Music Centre artist ID</td>\n",
       "      <td id=\"T_0b5d6_row17_col1\" class=\"data row17 col1\" >12</td>\n",
       "    </tr>\n",
       "    <tr>\n",
       "      <td id=\"T_0b5d6_row18_col0\" class=\"data row18 col0\" >Labour Australia ID</td>\n",
       "      <td id=\"T_0b5d6_row18_col1\" class=\"data row18 col1\" >10</td>\n",
       "    </tr>\n",
       "    <tr>\n",
       "      <td id=\"T_0b5d6_row19_col0\" class=\"data row19 col0\" >Australian War Memorial ID</td>\n",
       "      <td id=\"T_0b5d6_row19_col1\" class=\"data row19 col1\" >9</td>\n",
       "    </tr>\n",
       "    <tr>\n",
       "      <td id=\"T_0b5d6_row20_col0\" class=\"data row20 col0\" >Indigenous Australia ID</td>\n",
       "      <td id=\"T_0b5d6_row20_col1\" class=\"data row20 col1\" >9</td>\n",
       "    </tr>\n",
       "    <tr>\n",
       "      <td id=\"T_0b5d6_row21_col0\" class=\"data row21 col0\" >NSW Parliament member ID</td>\n",
       "      <td id=\"T_0b5d6_row21_col1\" class=\"data row21 col1\" >9</td>\n",
       "    </tr>\n",
       "    <tr>\n",
       "      <td id=\"T_0b5d6_row22_col0\" class=\"data row22 col0\" >Australian Poetry Library poet ID</td>\n",
       "      <td id=\"T_0b5d6_row22_col1\" class=\"data row22 col1\" >7</td>\n",
       "    </tr>\n",
       "    <tr>\n",
       "      <td id=\"T_0b5d6_row23_col0\" class=\"data row23 col0\" >Re-Member ID</td>\n",
       "      <td id=\"T_0b5d6_row23_col1\" class=\"data row23 col1\" >2</td>\n",
       "    </tr>\n",
       "  </tbody>\n",
       "</table>\n"
      ],
      "text/plain": [
       "<pandas.io.formats.style.Styler at 0x7f312d10e910>"
      ]
     },
     "execution_count": 14,
     "metadata": {},
     "output_type": "execute_result"
    }
   ],
   "source": [
    "wd_aus_sources = df_wd_links.loc[df_wd_links[\"related_source\"].isin(pids)].value_counts(subset=[\"related_source\"]).to_frame().reset_index()\n",
    "wd_aus_sources.style.hide()"
   ]
  },
  {
   "cell_type": "markdown",
   "id": "51425854-49da-49f6-9d2a-5c71991f3b67",
   "metadata": {},
   "source": [
    "## Links per record"
   ]
  },
  {
   "cell_type": "code",
   "execution_count": 15,
   "id": "65b529d7-b65e-46e4-a6a4-594b6abc2ca0",
   "metadata": {},
   "outputs": [],
   "source": [
    "related_source_counts = df_wd_links.groupby(by=[\"acde_source\", \"wd_url\", \"wd_label\"])[\"related_source\"].count().to_frame().reset_index()"
   ]
  },
  {
   "cell_type": "code",
   "execution_count": 16,
   "id": "dde7b953-5442-4781-997c-951a67c66600",
   "metadata": {},
   "outputs": [
    {
     "data": {
      "text/plain": [
       "count    1823.000000\n",
       "mean       15.420735\n",
       "std        16.990607\n",
       "min         1.000000\n",
       "25%         6.000000\n",
       "50%        11.000000\n",
       "75%        19.000000\n",
       "max       224.000000\n",
       "Name: related_source, dtype: float64"
      ]
     },
     "execution_count": 16,
     "metadata": {},
     "output_type": "execute_result"
    }
   ],
   "source": [
    "related_source_counts[\"related_source\"].describe()"
   ]
  },
  {
   "cell_type": "code",
   "execution_count": 17,
   "id": "87ecf0bf-d8d4-4af6-95d3-6eee16e5ff85",
   "metadata": {},
   "outputs": [
    {
     "name": "stdout",
     "output_type": "stream",
     "text": [
      "95.81% of DAAO people with Wikidata records are linked to additional sources\n"
     ]
    }
   ],
   "source": [
    "more_than_one = related_source_counts.loc[related_source_counts[\"related_source\"] > 1]\n",
    "print(f\"{more_than_one.shape[0]/daao_wd_count:.2%} of DAAO people with Wikidata records are linked to additional sources\")"
   ]
  },
  {
   "cell_type": "markdown",
   "id": "3e9cc4d0-d6c5-470b-b578-787d2c204664",
   "metadata": {},
   "source": [
    "Records with the most links"
   ]
  },
  {
   "cell_type": "code",
   "execution_count": 18,
   "id": "0c57e8e6-f4d5-4823-8284-65fc5471983e",
   "metadata": {},
   "outputs": [
    {
     "data": {
      "text/html": [
       "<div>\n",
       "<style scoped>\n",
       "    .dataframe tbody tr th:only-of-type {\n",
       "        vertical-align: middle;\n",
       "    }\n",
       "\n",
       "    .dataframe tbody tr th {\n",
       "        vertical-align: top;\n",
       "    }\n",
       "\n",
       "    .dataframe thead th {\n",
       "        text-align: right;\n",
       "    }\n",
       "</style>\n",
       "<table border=\"1\" class=\"dataframe\">\n",
       "  <thead>\n",
       "    <tr style=\"text-align: right;\">\n",
       "      <th></th>\n",
       "      <th>acde_source</th>\n",
       "      <th>wd_url</th>\n",
       "      <th>wd_label</th>\n",
       "      <th>related_source</th>\n",
       "    </tr>\n",
       "  </thead>\n",
       "  <tbody>\n",
       "    <tr>\n",
       "      <th>1334</th>\n",
       "      <td>DAAO</td>\n",
       "      <td>http://www.wikidata.org/entity/Q5582</td>\n",
       "      <td>Vincent van Gogh</td>\n",
       "      <td>224</td>\n",
       "    </tr>\n",
       "    <tr>\n",
       "      <th>297</th>\n",
       "      <td>DAAO</td>\n",
       "      <td>http://www.wikidata.org/entity/Q168724</td>\n",
       "      <td>Emma Thompson</td>\n",
       "      <td>188</td>\n",
       "    </tr>\n",
       "    <tr>\n",
       "      <th>209</th>\n",
       "      <td>DAAO</td>\n",
       "      <td>http://www.wikidata.org/entity/Q153739</td>\n",
       "      <td>Jean Arp</td>\n",
       "      <td>168</td>\n",
       "    </tr>\n",
       "    <tr>\n",
       "      <th>774</th>\n",
       "      <td>DAAO</td>\n",
       "      <td>http://www.wikidata.org/entity/Q235066</td>\n",
       "      <td>Laurie Anderson</td>\n",
       "      <td>161</td>\n",
       "    </tr>\n",
       "    <tr>\n",
       "      <th>335</th>\n",
       "      <td>DAAO</td>\n",
       "      <td>http://www.wikidata.org/entity/Q184366</td>\n",
       "      <td>Thomas Henry Huxley</td>\n",
       "      <td>141</td>\n",
       "    </tr>\n",
       "    <tr>\n",
       "      <th>768</th>\n",
       "      <td>DAAO</td>\n",
       "      <td>http://www.wikidata.org/entity/Q229455</td>\n",
       "      <td>Cindy Sherman</td>\n",
       "      <td>136</td>\n",
       "    </tr>\n",
       "    <tr>\n",
       "      <th>233</th>\n",
       "      <td>DAAO</td>\n",
       "      <td>http://www.wikidata.org/entity/Q159409</td>\n",
       "      <td>Louise Bourgeois</td>\n",
       "      <td>128</td>\n",
       "    </tr>\n",
       "    <tr>\n",
       "      <th>203</th>\n",
       "      <td>DAAO</td>\n",
       "      <td>http://www.wikidata.org/entity/Q14633979</td>\n",
       "      <td>Christo</td>\n",
       "      <td>128</td>\n",
       "    </tr>\n",
       "    <tr>\n",
       "      <th>959</th>\n",
       "      <td>DAAO</td>\n",
       "      <td>http://www.wikidata.org/entity/Q360466</td>\n",
       "      <td>George Cruikshank</td>\n",
       "      <td>118</td>\n",
       "    </tr>\n",
       "    <tr>\n",
       "      <th>254</th>\n",
       "      <td>DAAO</td>\n",
       "      <td>http://www.wikidata.org/entity/Q160422</td>\n",
       "      <td>Theo van Doesburg</td>\n",
       "      <td>112</td>\n",
       "    </tr>\n",
       "    <tr>\n",
       "      <th>923</th>\n",
       "      <td>DAAO</td>\n",
       "      <td>http://www.wikidata.org/entity/Q314938</td>\n",
       "      <td>Arthur Rackham</td>\n",
       "      <td>110</td>\n",
       "    </tr>\n",
       "    <tr>\n",
       "      <th>922</th>\n",
       "      <td>DAAO</td>\n",
       "      <td>http://www.wikidata.org/entity/Q312546</td>\n",
       "      <td>William Stanley Jevons</td>\n",
       "      <td>106</td>\n",
       "    </tr>\n",
       "    <tr>\n",
       "      <th>230</th>\n",
       "      <td>DAAO</td>\n",
       "      <td>http://www.wikidata.org/entity/Q158080</td>\n",
       "      <td>Magdalena Abakanowicz</td>\n",
       "      <td>105</td>\n",
       "    </tr>\n",
       "    <tr>\n",
       "      <th>924</th>\n",
       "      <td>DAAO</td>\n",
       "      <td>http://www.wikidata.org/entity/Q315348</td>\n",
       "      <td>Carl Andre</td>\n",
       "      <td>99</td>\n",
       "    </tr>\n",
       "    <tr>\n",
       "      <th>229</th>\n",
       "      <td>DAAO</td>\n",
       "      <td>http://www.wikidata.org/entity/Q157501</td>\n",
       "      <td>Joseph Dalton Hooker</td>\n",
       "      <td>97</td>\n",
       "    </tr>\n",
       "    <tr>\n",
       "      <th>812</th>\n",
       "      <td>DAAO</td>\n",
       "      <td>http://www.wikidata.org/entity/Q247505</td>\n",
       "      <td>Charles Méryon</td>\n",
       "      <td>94</td>\n",
       "    </tr>\n",
       "    <tr>\n",
       "      <th>902</th>\n",
       "      <td>DAAO</td>\n",
       "      <td>http://www.wikidata.org/entity/Q294147</td>\n",
       "      <td>William Bligh</td>\n",
       "      <td>94</td>\n",
       "    </tr>\n",
       "    <tr>\n",
       "      <th>929</th>\n",
       "      <td>DAAO</td>\n",
       "      <td>http://www.wikidata.org/entity/Q318354</td>\n",
       "      <td>Percy Grainger</td>\n",
       "      <td>93</td>\n",
       "    </tr>\n",
       "    <tr>\n",
       "      <th>1220</th>\n",
       "      <td>DAAO</td>\n",
       "      <td>http://www.wikidata.org/entity/Q531606</td>\n",
       "      <td>Edwin Abbott Abbott</td>\n",
       "      <td>89</td>\n",
       "    </tr>\n",
       "    <tr>\n",
       "      <th>966</th>\n",
       "      <td>DAAO</td>\n",
       "      <td>http://www.wikidata.org/entity/Q381031</td>\n",
       "      <td>Sidney Nolan</td>\n",
       "      <td>88</td>\n",
       "    </tr>\n",
       "  </tbody>\n",
       "</table>\n",
       "</div>"
      ],
      "text/plain": [
       "     acde_source                                    wd_url  \\\n",
       "1334        DAAO      http://www.wikidata.org/entity/Q5582   \n",
       "297         DAAO    http://www.wikidata.org/entity/Q168724   \n",
       "209         DAAO    http://www.wikidata.org/entity/Q153739   \n",
       "774         DAAO    http://www.wikidata.org/entity/Q235066   \n",
       "335         DAAO    http://www.wikidata.org/entity/Q184366   \n",
       "768         DAAO    http://www.wikidata.org/entity/Q229455   \n",
       "233         DAAO    http://www.wikidata.org/entity/Q159409   \n",
       "203         DAAO  http://www.wikidata.org/entity/Q14633979   \n",
       "959         DAAO    http://www.wikidata.org/entity/Q360466   \n",
       "254         DAAO    http://www.wikidata.org/entity/Q160422   \n",
       "923         DAAO    http://www.wikidata.org/entity/Q314938   \n",
       "922         DAAO    http://www.wikidata.org/entity/Q312546   \n",
       "230         DAAO    http://www.wikidata.org/entity/Q158080   \n",
       "924         DAAO    http://www.wikidata.org/entity/Q315348   \n",
       "229         DAAO    http://www.wikidata.org/entity/Q157501   \n",
       "812         DAAO    http://www.wikidata.org/entity/Q247505   \n",
       "902         DAAO    http://www.wikidata.org/entity/Q294147   \n",
       "929         DAAO    http://www.wikidata.org/entity/Q318354   \n",
       "1220        DAAO    http://www.wikidata.org/entity/Q531606   \n",
       "966         DAAO    http://www.wikidata.org/entity/Q381031   \n",
       "\n",
       "                    wd_label  related_source  \n",
       "1334        Vincent van Gogh             224  \n",
       "297            Emma Thompson             188  \n",
       "209                 Jean Arp             168  \n",
       "774          Laurie Anderson             161  \n",
       "335      Thomas Henry Huxley             141  \n",
       "768            Cindy Sherman             136  \n",
       "233         Louise Bourgeois             128  \n",
       "203                  Christo             128  \n",
       "959        George Cruikshank             118  \n",
       "254        Theo van Doesburg             112  \n",
       "923           Arthur Rackham             110  \n",
       "922   William Stanley Jevons             106  \n",
       "230    Magdalena Abakanowicz             105  \n",
       "924               Carl Andre              99  \n",
       "229     Joseph Dalton Hooker              97  \n",
       "812           Charles Méryon              94  \n",
       "902            William Bligh              94  \n",
       "929           Percy Grainger              93  \n",
       "1220     Edwin Abbott Abbott              89  \n",
       "966             Sidney Nolan              88  "
      ]
     },
     "execution_count": 18,
     "metadata": {},
     "output_type": "execute_result"
    }
   ],
   "source": [
    "related_source_counts.sort_values('related_source', ascending=False)[:20]"
   ]
  }
 ],
 "metadata": {
  "kernelspec": {
   "display_name": "Python 3 (ipykernel)",
   "language": "python",
   "name": "python3"
  },
  "language_info": {
   "codemirror_mode": {
    "name": "ipython",
    "version": 3
   },
   "file_extension": ".py",
   "mimetype": "text/x-python",
   "name": "python",
   "nbconvert_exporter": "python",
   "pygments_lexer": "ipython3",
   "version": "3.8.12"
  },
  "widgets": {
   "application/vnd.jupyter.widget-state+json": {
    "state": {},
    "version_major": 2,
    "version_minor": 0
   }
  }
 },
 "nbformat": 4,
 "nbformat_minor": 5
}
