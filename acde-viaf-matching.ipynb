{
 "cells": [
  {
   "cell_type": "markdown",
   "id": "066475eb-1337-421f-b78d-05ade0089af6",
   "metadata": {},
   "source": [
    "# Harvesting links from VIAF (via Libraries Australia)\n",
    "\n",
    "Trove provides links to identifiers from Libraries Australia (the Australian Bibliographic Network). VIAF, in turn, aggregates identifiers from a range of blibliographic control systems including LA. Using the LA identifiers we can look for matches in VIAF. If there are VIAF records, we can download all the linked records from other systems.\n",
    "\n",
    "There are a couple of steps:\n",
    "\n",
    "- use the LA identifier to construct a VIAF `sourceID` url (note the id numbers are left-padded with zeros to make a 12 digit number)\n",
    "- when you request this url, you're redirected to a VIAF record, so you can get the VIAF id for the entity\n",
    "- you can use the VIAF id to construct a url to the `justlinks.json` file that contains the links to other systems\n",
    "\n",
    "So, for example, we use the LA id `58809035` to construct the url `https://viaf.org/viaf/sourceID/NLA%7C000058809035` which redirects to `https://viaf.org/viaf/93485427/`.\n",
    "\n",
    "Representations of the VIAF record include:\n",
    "\n",
    "- RDF: `https://viaf.org/viaf/93485427/rdf.xml`\n",
    "- JSON (just the linked identifiers): `https://viaf.org/viaf/93485427/justlinks.json`\n",
    "\n",
    "I'm only harvesting the linked identifiers below, but you could also load the RDF into RDFlib and extract things like name and dates. Also the JSON file only returns ids rather than full urls to sources such as ULAN, so you'll need to construct the urls from the ids."
   ]
  },
  {
   "cell_type": "code",
   "execution_count": null,
   "id": "a2c46542-cd78-4833-b0a4-189c7d6e9ed2",
   "metadata": {},
   "outputs": [],
   "source": [
    "import datetime\n",
    "import json\n",
    "from pathlib import Path\n",
    "from urllib.parse import urlparse\n",
    "\n",
    "import requests_cache\n",
    "from requests.adapters import HTTPAdapter\n",
    "from requests.packages.urllib3.util.retry import Retry\n",
    "from tqdm.auto import tqdm\n",
    "\n",
    "s = requests_cache.CachedSession()\n",
    "retries = Retry(total=5, backoff_factor=1, status_forcelist=[502, 503, 504])\n",
    "s.mount(\"https://\", HTTPAdapter(max_retries=retries))\n",
    "s.mount(\"http://\", HTTPAdapter(max_retries=retries))"
   ]
  },
  {
   "cell_type": "code",
   "execution_count": null,
   "id": "4409a2ba-880d-4fe4-8b6d-b7a8eeef5690",
   "metadata": {},
   "outputs": [],
   "source": [
    "def harvest_viaf_links(trove_links):\n",
    "    viaf_links = []\n",
    "    acde_source_name = trove_links[0][\"acde_source\"]\n",
    "    for link in tqdm(trove_links):\n",
    "        if link[\"related_source\"] == \"AuCNLKIN\":\n",
    "            # print(link[\"related_source_name\"])\n",
    "            viaf_cluster = f\"https://viaf.org/viaf/sourceID/NLA%7C{link['related_source_id'].zfill(12)}\"\n",
    "            # print(viaf_cluster)\n",
    "            # When we request the cluster url we're redirected to the VIAF record\n",
    "            try:\n",
    "                r = s.get(viaf_cluster)\n",
    "                r.raise_for_status()\n",
    "            except:\n",
    "                print(f\"Not found: {link['related_source_id']}\")\n",
    "            else:\n",
    "                acde_source = {\n",
    "                    \"acde_source\": link[\"acde_source\"],\n",
    "                    \"or_id\": link[\"or_id\"],\n",
    "                }\n",
    "                viaf_url = r.url\n",
    "                related_source = {\n",
    "                    \"related_source\": \"VIAF\",\n",
    "                    \"related_source_id\": viaf_url,\n",
    "                }\n",
    "                viaf_links.append({**acde_source, **related_source})\n",
    "                # print(viaf_url)\n",
    "                links_url = f\"{viaf_url}justlinks.json\"\n",
    "                r = s.get(links_url)\n",
    "                for k, v in r.json().items():\n",
    "                    if isinstance(v, list):\n",
    "                        related_source_id = \" | \".join(v)\n",
    "                    else:\n",
    "                        related_source_id = v\n",
    "                    related_source = {\n",
    "                        \"related_source\": k,\n",
    "                        \"related_source_id\": related_source_id,\n",
    "                    }\n",
    "                    viaf_links.append({**acde_source, **related_source})\n",
    "    with Path(\n",
    "        f\"{acde_source_name.lower()}_viaf_links_{datetime.datetime.now().strftime('%Y%m%d')}.json\"\n",
    "    ).open(\"w\") as json_file:\n",
    "        json.dump(viaf_links, json_file)"
   ]
  },
  {
   "cell_type": "code",
   "execution_count": null,
   "id": "4ab0072e-131e-464c-930e-edf1e3f91804",
   "metadata": {
    "tags": [
     "nbval-skip"
    ]
   },
   "outputs": [],
   "source": [
    "# Load the already harvested DAAO Trove links\n",
    "daao_trove_links = json.loads(Path(\"daao_trove_links_20221004.json\").read_text())\n",
    "harvest_viaf_links(daao_trove_links)"
   ]
  },
  {
   "cell_type": "code",
   "execution_count": null,
   "id": "b226dc3a-bf2a-4950-ba23-f83487d26b32",
   "metadata": {
    "tags": [
     "nbval-skip"
    ]
   },
   "outputs": [],
   "source": [
    "# Load the already harvested AusStage Trove links\n",
    "ausstage_trove_links = json.loads(\n",
    "    Path(\"ausstage_trove_links_20221005.json\").read_text()\n",
    ")\n",
    "harvest_viaf_links(ausstage_trove_links)"
   ]
  },
  {
   "cell_type": "code",
   "execution_count": null,
   "id": "1992bf07-3649-411b-891c-0168da7eed69",
   "metadata": {},
   "outputs": [],
   "source": []
  },
  {
   "cell_type": "code",
   "execution_count": null,
   "id": "b646081f-c9e9-4f15-81c7-12c3c92e2b7e",
   "metadata": {},
   "outputs": [],
   "source": []
  }
 ],
 "metadata": {
  "kernelspec": {
   "display_name": "Python 3 (ipykernel)",
   "language": "python",
   "name": "python3"
  },
  "language_info": {
   "codemirror_mode": {
    "name": "ipython",
    "version": 3
   },
   "file_extension": ".py",
   "mimetype": "text/x-python",
   "name": "python",
   "nbconvert_exporter": "python",
   "pygments_lexer": "ipython3",
   "version": "3.8.12"
  },
  "widgets": {
   "application/vnd.jupyter.widget-state+json": {
    "state": {
     "074d171e15f24a81915dc2ee3a7b0ad0": {
      "model_module": "@jupyter-widgets/controls",
      "model_module_version": "2.0.0",
      "model_name": "FloatProgressModel",
      "state": {
       "bar_style": "danger",
       "layout": "IPY_MODEL_431796eb93ae4d0989b4b4044c418214",
       "max": 141002,
       "style": "IPY_MODEL_9d6e4f1dd0954566a65b44ec0252d078",
       "value": 4277
      }
     },
     "0a5fd93c78704db9b9bca42113d49498": {
      "model_module": "@jupyter-widgets/base",
      "model_module_version": "2.0.0",
      "model_name": "LayoutModel",
      "state": {}
     },
     "0a94f42bcc9348aaa752fe917c3b35d0": {
      "model_module": "@jupyter-widgets/controls",
      "model_module_version": "2.0.0",
      "model_name": "HTMLStyleModel",
      "state": {
       "description_width": "",
       "font_size": null,
       "text_color": null
      }
     },
     "0f25059f72b94e97b5f5cd8672de7157": {
      "model_module": "@jupyter-widgets/controls",
      "model_module_version": "2.0.0",
      "model_name": "HTMLModel",
      "state": {
       "layout": "IPY_MODEL_eb57e9f945f044f7a528b0ea720cdc5c",
       "style": "IPY_MODEL_fae15662ddb54da6a1cdad6d25775e22",
       "value": "100%"
      }
     },
     "1001b0b60af947a28814355f8b7afd22": {
      "model_module": "@jupyter-widgets/controls",
      "model_module_version": "2.0.0",
      "model_name": "HTMLModel",
      "state": {
       "layout": "IPY_MODEL_459413470e384c2eb97d442ebc6f0e30",
       "style": "IPY_MODEL_d056886da1854468b26891c3a287a248",
       "value": " 8/3792 [00:06&lt;32:07,  1.96it/s]"
      }
     },
     "1a41e0ff98dc44c9a2a1dabc4a2ed160": {
      "model_module": "@jupyter-widgets/base",
      "model_module_version": "2.0.0",
      "model_name": "LayoutModel",
      "state": {}
     },
     "1b3067357030426b9c378a09b0349297": {
      "model_module": "@jupyter-widgets/controls",
      "model_module_version": "2.0.0",
      "model_name": "ProgressStyleModel",
      "state": {
       "description_width": ""
      }
     },
     "1e8783c09841445e8123991ee1522cc3": {
      "model_module": "@jupyter-widgets/base",
      "model_module_version": "2.0.0",
      "model_name": "LayoutModel",
      "state": {}
     },
     "1ee0bc7b27244031bdc401cd650f9ca0": {
      "model_module": "@jupyter-widgets/base",
      "model_module_version": "2.0.0",
      "model_name": "LayoutModel",
      "state": {}
     },
     "1ffc05ee993d448da7c80fa51bbc8046": {
      "model_module": "@jupyter-widgets/base",
      "model_module_version": "2.0.0",
      "model_name": "LayoutModel",
      "state": {}
     },
     "2b6f27683f5a4cf892799d0ac380d4c0": {
      "model_module": "@jupyter-widgets/controls",
      "model_module_version": "2.0.0",
      "model_name": "ProgressStyleModel",
      "state": {
       "description_width": ""
      }
     },
     "2e6ffac1085a44fdbd3c3b265dfbe062": {
      "model_module": "@jupyter-widgets/controls",
      "model_module_version": "2.0.0",
      "model_name": "HTMLStyleModel",
      "state": {
       "description_width": "",
       "font_size": null,
       "text_color": null
      }
     },
     "32a556493b624ff8b94648bcf50ba491": {
      "model_module": "@jupyter-widgets/base",
      "model_module_version": "2.0.0",
      "model_name": "LayoutModel",
      "state": {}
     },
     "3ab55c45e65f4d0594477f3bc84a95d4": {
      "model_module": "@jupyter-widgets/controls",
      "model_module_version": "2.0.0",
      "model_name": "HBoxModel",
      "state": {
       "children": [
        "IPY_MODEL_850b2eb8321d4750801df07f64832174",
        "IPY_MODEL_3c295affae044390b22198e035f2c863",
        "IPY_MODEL_1001b0b60af947a28814355f8b7afd22"
       ],
       "layout": "IPY_MODEL_ba678dbd009346208652e23fdf71f39e"
      }
     },
     "3c295affae044390b22198e035f2c863": {
      "model_module": "@jupyter-widgets/controls",
      "model_module_version": "2.0.0",
      "model_name": "FloatProgressModel",
      "state": {
       "bar_style": "danger",
       "layout": "IPY_MODEL_73c62a4e16764870b84400c65338c296",
       "max": 3792,
       "style": "IPY_MODEL_2b6f27683f5a4cf892799d0ac380d4c0",
       "value": 8
      }
     },
     "3f1a79139ab14ded92d46b745334fac4": {
      "model_module": "@jupyter-widgets/base",
      "model_module_version": "2.0.0",
      "model_name": "LayoutModel",
      "state": {}
     },
     "40a4b2ffe08847a9acbf2fea90f8f789": {
      "model_module": "@jupyter-widgets/base",
      "model_module_version": "2.0.0",
      "model_name": "LayoutModel",
      "state": {}
     },
     "423fac6606204110bdd784cbc0812f9d": {
      "model_module": "@jupyter-widgets/controls",
      "model_module_version": "2.0.0",
      "model_name": "HTMLModel",
      "state": {
       "layout": "IPY_MODEL_32a556493b624ff8b94648bcf50ba491",
       "style": "IPY_MODEL_f402e34082b349088b35bfc51d9ec998",
       "value": " 8/20 [00:07&lt;00:06,  1.83it/s]"
      }
     },
     "42ce1305145f4aee8f7dc186c5dde220": {
      "model_module": "@jupyter-widgets/controls",
      "model_module_version": "2.0.0",
      "model_name": "HTMLStyleModel",
      "state": {
       "description_width": "",
       "font_size": null,
       "text_color": null
      }
     },
     "431796eb93ae4d0989b4b4044c418214": {
      "model_module": "@jupyter-widgets/base",
      "model_module_version": "2.0.0",
      "model_name": "LayoutModel",
      "state": {}
     },
     "43708a4bb1cd4616bcdf898650d0a300": {
      "model_module": "@jupyter-widgets/base",
      "model_module_version": "2.0.0",
      "model_name": "LayoutModel",
      "state": {}
     },
     "459413470e384c2eb97d442ebc6f0e30": {
      "model_module": "@jupyter-widgets/base",
      "model_module_version": "2.0.0",
      "model_name": "LayoutModel",
      "state": {}
     },
     "47e5277f137540c1af1ac1332f1f9fb5": {
      "model_module": "@jupyter-widgets/controls",
      "model_module_version": "2.0.0",
      "model_name": "HTMLModel",
      "state": {
       "layout": "IPY_MODEL_4cc7e1f40c17480cbbc850910b3d2fd8",
       "style": "IPY_MODEL_74278375832444bf94146ff91112c91a",
       "value": "100%"
      }
     },
     "4c2100f5e05e4336b758237794cb6607": {
      "model_module": "@jupyter-widgets/controls",
      "model_module_version": "2.0.0",
      "model_name": "HTMLStyleModel",
      "state": {
       "description_width": "",
       "font_size": null,
       "text_color": null
      }
     },
     "4cc7e1f40c17480cbbc850910b3d2fd8": {
      "model_module": "@jupyter-widgets/base",
      "model_module_version": "2.0.0",
      "model_name": "LayoutModel",
      "state": {}
     },
     "50914c65b34a4b66b2672d8d6d621e36": {
      "model_module": "@jupyter-widgets/controls",
      "model_module_version": "2.0.0",
      "model_name": "HTMLStyleModel",
      "state": {
       "description_width": "",
       "font_size": null,
       "text_color": null
      }
     },
     "542116eab4424025877fba08c3fa1455": {
      "model_module": "@jupyter-widgets/controls",
      "model_module_version": "2.0.0",
      "model_name": "HTMLStyleModel",
      "state": {
       "description_width": "",
       "font_size": null,
       "text_color": null
      }
     },
     "5957df85157647dbbc8adb0f48f69f24": {
      "model_module": "@jupyter-widgets/controls",
      "model_module_version": "2.0.0",
      "model_name": "HBoxModel",
      "state": {
       "children": [
        "IPY_MODEL_9fc35d51e0d2434ea1a344deb51618d3",
        "IPY_MODEL_db7b3a502f2143eebda60abb2aa5c965",
        "IPY_MODEL_c2e68f4875e54b118151dcd2a411d8d1"
       ],
       "layout": "IPY_MODEL_43708a4bb1cd4616bcdf898650d0a300"
      }
     },
     "5d688c3e2a344fdeb6b0d943e83e2752": {
      "model_module": "@jupyter-widgets/controls",
      "model_module_version": "2.0.0",
      "model_name": "HTMLStyleModel",
      "state": {
       "description_width": "",
       "font_size": null,
       "text_color": null
      }
     },
     "5d6dfced85074c16a6c7dadf0bbea32a": {
      "model_module": "@jupyter-widgets/controls",
      "model_module_version": "2.0.0",
      "model_name": "ProgressStyleModel",
      "state": {
       "description_width": ""
      }
     },
     "60c787e67c184584b295ca74e69bf23a": {
      "model_module": "@jupyter-widgets/controls",
      "model_module_version": "2.0.0",
      "model_name": "HTMLModel",
      "state": {
       "layout": "IPY_MODEL_b88fdee562c746578144f36f95b01b77",
       "style": "IPY_MODEL_5d688c3e2a344fdeb6b0d943e83e2752",
       "value": "100%"
      }
     },
     "63d4edc2f8b5493c93f27b1d834bc09e": {
      "model_module": "@jupyter-widgets/base",
      "model_module_version": "2.0.0",
      "model_name": "LayoutModel",
      "state": {}
     },
     "6a13061756044a2abf1c4ec3dcd4ea87": {
      "model_module": "@jupyter-widgets/controls",
      "model_module_version": "2.0.0",
      "model_name": "ProgressStyleModel",
      "state": {
       "description_width": ""
      }
     },
     "6bae471606c34a6b82fed7e2ecec4042": {
      "model_module": "@jupyter-widgets/controls",
      "model_module_version": "2.0.0",
      "model_name": "FloatProgressModel",
      "state": {
       "bar_style": "success",
       "layout": "IPY_MODEL_1ee0bc7b27244031bdc401cd650f9ca0",
       "max": 20,
       "style": "IPY_MODEL_1b3067357030426b9c378a09b0349297",
       "value": 20
      }
     },
     "6edf8ae3af924e30bf1aae8318cde030": {
      "model_module": "@jupyter-widgets/controls",
      "model_module_version": "2.0.0",
      "model_name": "HBoxModel",
      "state": {
       "children": [
        "IPY_MODEL_ecc434ca03224fc190450f557fd6b27e",
        "IPY_MODEL_9b6992903331423db4ff5b82ea0f7eb7",
        "IPY_MODEL_992246888fa9453eb44ed7529044cb2a"
       ],
       "layout": "IPY_MODEL_dfeb356e2b234eb4a8fceb50438fc127"
      }
     },
     "73c62a4e16764870b84400c65338c296": {
      "model_module": "@jupyter-widgets/base",
      "model_module_version": "2.0.0",
      "model_name": "LayoutModel",
      "state": {}
     },
     "74278375832444bf94146ff91112c91a": {
      "model_module": "@jupyter-widgets/controls",
      "model_module_version": "2.0.0",
      "model_name": "HTMLStyleModel",
      "state": {
       "description_width": "",
       "font_size": null,
       "text_color": null
      }
     },
     "77987bee3f5146038435d673bab819c4": {
      "model_module": "@jupyter-widgets/base",
      "model_module_version": "2.0.0",
      "model_name": "LayoutModel",
      "state": {}
     },
     "7b67eb35f8364ca4ace35f1ed8744fbe": {
      "model_module": "@jupyter-widgets/controls",
      "model_module_version": "2.0.0",
      "model_name": "HBoxModel",
      "state": {
       "children": [
        "IPY_MODEL_47e5277f137540c1af1ac1332f1f9fb5",
        "IPY_MODEL_7efb45cf70d74833a05ee9313f9d030f",
        "IPY_MODEL_91bd64fa390e4a0bb2ca93b89a166c3f"
       ],
       "layout": "IPY_MODEL_85efca5917f64047ae20c5068b9284a3"
      }
     },
     "7efb45cf70d74833a05ee9313f9d030f": {
      "model_module": "@jupyter-widgets/controls",
      "model_module_version": "2.0.0",
      "model_name": "FloatProgressModel",
      "state": {
       "bar_style": "success",
       "layout": "IPY_MODEL_fb71c875f68b4b8c80bf9b8d7275e614",
       "max": 20,
       "style": "IPY_MODEL_5d6dfced85074c16a6c7dadf0bbea32a",
       "value": 20
      }
     },
     "83d06805cd2a49439f262287289646ac": {
      "model_module": "@jupyter-widgets/base",
      "model_module_version": "2.0.0",
      "model_name": "LayoutModel",
      "state": {}
     },
     "850b2eb8321d4750801df07f64832174": {
      "model_module": "@jupyter-widgets/controls",
      "model_module_version": "2.0.0",
      "model_name": "HTMLModel",
      "state": {
       "layout": "IPY_MODEL_1a41e0ff98dc44c9a2a1dabc4a2ed160",
       "style": "IPY_MODEL_42ce1305145f4aee8f7dc186c5dde220",
       "value": "  0%"
      }
     },
     "8551a948c3d54129aa21cd6b43480130": {
      "model_module": "@jupyter-widgets/controls",
      "model_module_version": "2.0.0",
      "model_name": "ProgressStyleModel",
      "state": {
       "description_width": ""
      }
     },
     "85efca5917f64047ae20c5068b9284a3": {
      "model_module": "@jupyter-widgets/base",
      "model_module_version": "2.0.0",
      "model_name": "LayoutModel",
      "state": {}
     },
     "8a88c4f9fd8049649bbf6be1b5681d18": {
      "model_module": "@jupyter-widgets/controls",
      "model_module_version": "2.0.0",
      "model_name": "HTMLModel",
      "state": {
       "layout": "IPY_MODEL_63d4edc2f8b5493c93f27b1d834bc09e",
       "style": "IPY_MODEL_9bfa82d90db64361a8dbc9731bd3f384",
       "value": " 20/20 [00:21&lt;00:00,  1.36s/it]"
      }
     },
     "91bd64fa390e4a0bb2ca93b89a166c3f": {
      "model_module": "@jupyter-widgets/controls",
      "model_module_version": "2.0.0",
      "model_name": "HTMLModel",
      "state": {
       "layout": "IPY_MODEL_1ffc05ee993d448da7c80fa51bbc8046",
       "style": "IPY_MODEL_f33f3dc999b5490fac51759bd3e14213",
       "value": " 20/20 [00:22&lt;00:00,  1.41s/it]"
      }
     },
     "992246888fa9453eb44ed7529044cb2a": {
      "model_module": "@jupyter-widgets/controls",
      "model_module_version": "2.0.0",
      "model_name": "HTMLModel",
      "state": {
       "layout": "IPY_MODEL_c618668f22a944479717831b9accdd7b",
       "style": "IPY_MODEL_0a94f42bcc9348aaa752fe917c3b35d0",
       "value": " 141002/141002 [5:05:52&lt;00:00,  4.68it/s]"
      }
     },
     "99e84fe0813343f99dad0419bca18275": {
      "model_module": "@jupyter-widgets/controls",
      "model_module_version": "2.0.0",
      "model_name": "HTMLModel",
      "state": {
       "layout": "IPY_MODEL_b8d4d0bcf000466b8e80c1b6061a55b3",
       "style": "IPY_MODEL_542116eab4424025877fba08c3fa1455",
       "value": " 40%"
      }
     },
     "9b34c3fb00024e98aa4161a4a92181be": {
      "model_module": "@jupyter-widgets/controls",
      "model_module_version": "2.0.0",
      "model_name": "HTMLStyleModel",
      "state": {
       "description_width": "",
       "font_size": null,
       "text_color": null
      }
     },
     "9b6992903331423db4ff5b82ea0f7eb7": {
      "model_module": "@jupyter-widgets/controls",
      "model_module_version": "2.0.0",
      "model_name": "FloatProgressModel",
      "state": {
       "bar_style": "success",
       "layout": "IPY_MODEL_1e8783c09841445e8123991ee1522cc3",
       "max": 141002,
       "style": "IPY_MODEL_c39b51eddf6848a486c8cbfc31beb900",
       "value": 141002
      }
     },
     "9bfa82d90db64361a8dbc9731bd3f384": {
      "model_module": "@jupyter-widgets/controls",
      "model_module_version": "2.0.0",
      "model_name": "HTMLStyleModel",
      "state": {
       "description_width": "",
       "font_size": null,
       "text_color": null
      }
     },
     "9d6e4f1dd0954566a65b44ec0252d078": {
      "model_module": "@jupyter-widgets/controls",
      "model_module_version": "2.0.0",
      "model_name": "ProgressStyleModel",
      "state": {
       "description_width": ""
      }
     },
     "9dbb96a76a8d41c3bf2bddf03218a24c": {
      "model_module": "@jupyter-widgets/base",
      "model_module_version": "2.0.0",
      "model_name": "LayoutModel",
      "state": {}
     },
     "9fb04e35c67142b5907777d5f4365ecf": {
      "model_module": "@jupyter-widgets/controls",
      "model_module_version": "2.0.0",
      "model_name": "HTMLModel",
      "state": {
       "layout": "IPY_MODEL_b6ca08e452854d07b1392ff33e8091ee",
       "style": "IPY_MODEL_2e6ffac1085a44fdbd3c3b265dfbe062",
       "value": " 20/20 [00:16&lt;00:00,  1.86s/it]"
      }
     },
     "9fc35d51e0d2434ea1a344deb51618d3": {
      "model_module": "@jupyter-widgets/controls",
      "model_module_version": "2.0.0",
      "model_name": "HTMLModel",
      "state": {
       "layout": "IPY_MODEL_feb1f501abd343679c569afc8ea8e9ae",
       "style": "IPY_MODEL_c7dc3f0edabc4b8faa2b318f8e2ba13d",
       "value": "100%"
      }
     },
     "a9e1641ae0364497a65e54091d0a570f": {
      "model_module": "@jupyter-widgets/controls",
      "model_module_version": "2.0.0",
      "model_name": "HBoxModel",
      "state": {
       "children": [
        "IPY_MODEL_fc9296a7537d4d2f855266debce57ef1",
        "IPY_MODEL_074d171e15f24a81915dc2ee3a7b0ad0",
        "IPY_MODEL_c385669bd4504899be259ba8d671f8a2"
       ],
       "layout": "IPY_MODEL_3f1a79139ab14ded92d46b745334fac4"
      }
     },
     "adc10dac033f4c7c87e8597a3cc0b955": {
      "model_module": "@jupyter-widgets/controls",
      "model_module_version": "2.0.0",
      "model_name": "ProgressStyleModel",
      "state": {
       "description_width": ""
      }
     },
     "b0f50113c1484d3da303949f1a9fc263": {
      "model_module": "@jupyter-widgets/controls",
      "model_module_version": "2.0.0",
      "model_name": "HBoxModel",
      "state": {
       "children": [
        "IPY_MODEL_0f25059f72b94e97b5f5cd8672de7157",
        "IPY_MODEL_6bae471606c34a6b82fed7e2ecec4042",
        "IPY_MODEL_8a88c4f9fd8049649bbf6be1b5681d18"
       ],
       "layout": "IPY_MODEL_0a5fd93c78704db9b9bca42113d49498"
      }
     },
     "b6ca08e452854d07b1392ff33e8091ee": {
      "model_module": "@jupyter-widgets/base",
      "model_module_version": "2.0.0",
      "model_name": "LayoutModel",
      "state": {}
     },
     "b88fdee562c746578144f36f95b01b77": {
      "model_module": "@jupyter-widgets/base",
      "model_module_version": "2.0.0",
      "model_name": "LayoutModel",
      "state": {}
     },
     "b8d4d0bcf000466b8e80c1b6061a55b3": {
      "model_module": "@jupyter-widgets/base",
      "model_module_version": "2.0.0",
      "model_name": "LayoutModel",
      "state": {}
     },
     "ba678dbd009346208652e23fdf71f39e": {
      "model_module": "@jupyter-widgets/base",
      "model_module_version": "2.0.0",
      "model_name": "LayoutModel",
      "state": {}
     },
     "bb1dd3e33b314e9fbf8a6693fad422b6": {
      "model_module": "@jupyter-widgets/base",
      "model_module_version": "2.0.0",
      "model_name": "LayoutModel",
      "state": {}
     },
     "c12bdd43ce5f4cb3a1e964a98cc844bb": {
      "model_module": "@jupyter-widgets/base",
      "model_module_version": "2.0.0",
      "model_name": "LayoutModel",
      "state": {}
     },
     "c2e68f4875e54b118151dcd2a411d8d1": {
      "model_module": "@jupyter-widgets/controls",
      "model_module_version": "2.0.0",
      "model_name": "HTMLModel",
      "state": {
       "layout": "IPY_MODEL_bb1dd3e33b314e9fbf8a6693fad422b6",
       "style": "IPY_MODEL_9b34c3fb00024e98aa4161a4a92181be",
       "value": " 3792/3792 [59:39&lt;00:00,  1.74it/s]"
      }
     },
     "c385669bd4504899be259ba8d671f8a2": {
      "model_module": "@jupyter-widgets/controls",
      "model_module_version": "2.0.0",
      "model_name": "HTMLModel",
      "state": {
       "layout": "IPY_MODEL_9dbb96a76a8d41c3bf2bddf03218a24c",
       "style": "IPY_MODEL_dddfe492ce85460ca32181494d31bec3",
       "value": " 4277/141002 [49:02&lt;22:55:46,  1.66it/s]"
      }
     },
     "c39b51eddf6848a486c8cbfc31beb900": {
      "model_module": "@jupyter-widgets/controls",
      "model_module_version": "2.0.0",
      "model_name": "ProgressStyleModel",
      "state": {
       "description_width": ""
      }
     },
     "c618668f22a944479717831b9accdd7b": {
      "model_module": "@jupyter-widgets/base",
      "model_module_version": "2.0.0",
      "model_name": "LayoutModel",
      "state": {}
     },
     "c7dc3f0edabc4b8faa2b318f8e2ba13d": {
      "model_module": "@jupyter-widgets/controls",
      "model_module_version": "2.0.0",
      "model_name": "HTMLStyleModel",
      "state": {
       "description_width": "",
       "font_size": null,
       "text_color": null
      }
     },
     "d056886da1854468b26891c3a287a248": {
      "model_module": "@jupyter-widgets/controls",
      "model_module_version": "2.0.0",
      "model_name": "HTMLStyleModel",
      "state": {
       "description_width": "",
       "font_size": null,
       "text_color": null
      }
     },
     "d636febcfdfc491d93f2a78bb90edb80": {
      "model_module": "@jupyter-widgets/controls",
      "model_module_version": "2.0.0",
      "model_name": "FloatProgressModel",
      "state": {
       "bar_style": "danger",
       "layout": "IPY_MODEL_eca8adec5184418dbb7eb7a7f4b721e2",
       "max": 20,
       "style": "IPY_MODEL_8551a948c3d54129aa21cd6b43480130",
       "value": 8
      }
     },
     "db7b3a502f2143eebda60abb2aa5c965": {
      "model_module": "@jupyter-widgets/controls",
      "model_module_version": "2.0.0",
      "model_name": "FloatProgressModel",
      "state": {
       "bar_style": "success",
       "layout": "IPY_MODEL_40a4b2ffe08847a9acbf2fea90f8f789",
       "max": 3792,
       "style": "IPY_MODEL_adc10dac033f4c7c87e8597a3cc0b955",
       "value": 3792
      }
     },
     "dd84d12d0c7b4f70a6f5198c9c69aadb": {
      "model_module": "@jupyter-widgets/controls",
      "model_module_version": "2.0.0",
      "model_name": "FloatProgressModel",
      "state": {
       "bar_style": "success",
       "layout": "IPY_MODEL_f6da8ee7c9a948a0a9821821eb26c9b8",
       "max": 20,
       "style": "IPY_MODEL_6a13061756044a2abf1c4ec3dcd4ea87",
       "value": 20
      }
     },
     "dddfe492ce85460ca32181494d31bec3": {
      "model_module": "@jupyter-widgets/controls",
      "model_module_version": "2.0.0",
      "model_name": "HTMLStyleModel",
      "state": {
       "description_width": "",
       "font_size": null,
       "text_color": null
      }
     },
     "dfeb356e2b234eb4a8fceb50438fc127": {
      "model_module": "@jupyter-widgets/base",
      "model_module_version": "2.0.0",
      "model_name": "LayoutModel",
      "state": {}
     },
     "eb57e9f945f044f7a528b0ea720cdc5c": {
      "model_module": "@jupyter-widgets/base",
      "model_module_version": "2.0.0",
      "model_name": "LayoutModel",
      "state": {}
     },
     "ec8f81fc2bde437ead6c7f1f0c746276": {
      "model_module": "@jupyter-widgets/controls",
      "model_module_version": "2.0.0",
      "model_name": "HBoxModel",
      "state": {
       "children": [
        "IPY_MODEL_60c787e67c184584b295ca74e69bf23a",
        "IPY_MODEL_dd84d12d0c7b4f70a6f5198c9c69aadb",
        "IPY_MODEL_9fb04e35c67142b5907777d5f4365ecf"
       ],
       "layout": "IPY_MODEL_83d06805cd2a49439f262287289646ac"
      }
     },
     "eca8adec5184418dbb7eb7a7f4b721e2": {
      "model_module": "@jupyter-widgets/base",
      "model_module_version": "2.0.0",
      "model_name": "LayoutModel",
      "state": {}
     },
     "ecc434ca03224fc190450f557fd6b27e": {
      "model_module": "@jupyter-widgets/controls",
      "model_module_version": "2.0.0",
      "model_name": "HTMLModel",
      "state": {
       "layout": "IPY_MODEL_77987bee3f5146038435d673bab819c4",
       "style": "IPY_MODEL_50914c65b34a4b66b2672d8d6d621e36",
       "value": "100%"
      }
     },
     "f26b83950491496687dc2957153c3d9e": {
      "model_module": "@jupyter-widgets/controls",
      "model_module_version": "2.0.0",
      "model_name": "HBoxModel",
      "state": {
       "children": [
        "IPY_MODEL_99e84fe0813343f99dad0419bca18275",
        "IPY_MODEL_d636febcfdfc491d93f2a78bb90edb80",
        "IPY_MODEL_423fac6606204110bdd784cbc0812f9d"
       ],
       "layout": "IPY_MODEL_fe3be5e38f2a4e78881a7fa944ff62a0"
      }
     },
     "f33f3dc999b5490fac51759bd3e14213": {
      "model_module": "@jupyter-widgets/controls",
      "model_module_version": "2.0.0",
      "model_name": "HTMLStyleModel",
      "state": {
       "description_width": "",
       "font_size": null,
       "text_color": null
      }
     },
     "f402e34082b349088b35bfc51d9ec998": {
      "model_module": "@jupyter-widgets/controls",
      "model_module_version": "2.0.0",
      "model_name": "HTMLStyleModel",
      "state": {
       "description_width": "",
       "font_size": null,
       "text_color": null
      }
     },
     "f6da8ee7c9a948a0a9821821eb26c9b8": {
      "model_module": "@jupyter-widgets/base",
      "model_module_version": "2.0.0",
      "model_name": "LayoutModel",
      "state": {}
     },
     "fae15662ddb54da6a1cdad6d25775e22": {
      "model_module": "@jupyter-widgets/controls",
      "model_module_version": "2.0.0",
      "model_name": "HTMLStyleModel",
      "state": {
       "description_width": "",
       "font_size": null,
       "text_color": null
      }
     },
     "fb71c875f68b4b8c80bf9b8d7275e614": {
      "model_module": "@jupyter-widgets/base",
      "model_module_version": "2.0.0",
      "model_name": "LayoutModel",
      "state": {}
     },
     "fc9296a7537d4d2f855266debce57ef1": {
      "model_module": "@jupyter-widgets/controls",
      "model_module_version": "2.0.0",
      "model_name": "HTMLModel",
      "state": {
       "layout": "IPY_MODEL_c12bdd43ce5f4cb3a1e964a98cc844bb",
       "style": "IPY_MODEL_4c2100f5e05e4336b758237794cb6607",
       "value": "  3%"
      }
     },
     "fe3be5e38f2a4e78881a7fa944ff62a0": {
      "model_module": "@jupyter-widgets/base",
      "model_module_version": "2.0.0",
      "model_name": "LayoutModel",
      "state": {}
     },
     "feb1f501abd343679c569afc8ea8e9ae": {
      "model_module": "@jupyter-widgets/base",
      "model_module_version": "2.0.0",
      "model_name": "LayoutModel",
      "state": {}
     }
    },
    "version_major": 2,
    "version_minor": 0
   }
  }
 },
 "nbformat": 4,
 "nbformat_minor": 5
}
