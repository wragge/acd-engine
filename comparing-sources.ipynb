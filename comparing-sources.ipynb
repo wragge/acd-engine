{
 "cells": [
  {
   "cell_type": "markdown",
   "id": "87ded6db-8702-4b77-9cbf-eb7756712ebb",
   "metadata": {},
   "source": [
    "# Comparing sources\n",
    "\n",
    "The sources we're harvesting are heavily interconnected and we're likely to be retrieving the same link for a record from different sources – for example ADB links can be retrieved both from Trove and Wikidata. I thought it might be interesting to do some comparisons."
   ]
  },
  {
   "cell_type": "code",
   "execution_count": 156,
   "id": "d18f36e9-2c27-4064-8d3f-b0edf720925b",
   "metadata": {},
   "outputs": [],
   "source": [
    "import pandas as pd\n",
    "from matplotlib_venn import venn2"
   ]
  },
  {
   "cell_type": "markdown",
   "id": "587148da-d3ac-4ce4-9f63-85796e3210cb",
   "metadata": {},
   "source": [
    "## ADB"
   ]
  },
  {
   "cell_type": "markdown",
   "id": "33e79bd6-19ca-4650-89e0-a4de545162be",
   "metadata": {},
   "source": [
    "### Via Trove"
   ]
  },
  {
   "cell_type": "code",
   "execution_count": 104,
   "id": "74860848-a551-485e-8112-ab565f2e81ed",
   "metadata": {},
   "outputs": [
    {
     "data": {
      "text/plain": [
       "410"
      ]
     },
     "execution_count": 104,
     "metadata": {},
     "output_type": "execute_result"
    }
   ],
   "source": [
    "df_trove_links = pd.concat([pd.read_json(\"ausstage_trove_links_20221005.json\"), pd.read_json(\"daao_trove_links_20221004.json\")])\n",
    "trove_adb = df_trove_links.copy().loc[df_trove_links[\"related_source\"] == \"AU-ANU:ADBO\"]\n",
    "trove_adb.rename(columns={\"related_source_url\": \"related_url\", \"related_source_id\": \"related_id\"}, inplace=True)\n",
    "# How many?\n",
    "trove_adb.shape[0]"
   ]
  },
  {
   "cell_type": "markdown",
   "id": "fab3f69d-0cf3-4957-baf1-b2ac65cf9452",
   "metadata": {},
   "source": [
    "As noted elsewhere, there are some duplicates within each dataset. So we'll remove them before combining."
   ]
  },
  {
   "cell_type": "code",
   "execution_count": 105,
   "id": "97ffac98-0e51-41d4-a9f3-2bbd5de2b520",
   "metadata": {},
   "outputs": [
    {
     "data": {
      "text/plain": [
       "389"
      ]
     },
     "execution_count": 105,
     "metadata": {},
     "output_type": "execute_result"
    }
   ],
   "source": [
    "trove_adb.drop_duplicates(subset=[\"related_url\"], inplace=True)\n",
    "trove_adb.shape[0]"
   ]
  },
  {
   "cell_type": "markdown",
   "id": "2ca74067-00ba-44a4-a43b-8bfb8c767a36",
   "metadata": {},
   "source": [
    "### Via Wikidata"
   ]
  },
  {
   "cell_type": "code",
   "execution_count": 106,
   "id": "a4fda758-3f2e-4930-be08-fda82cbbe0eb",
   "metadata": {},
   "outputs": [
    {
     "data": {
      "text/plain": [
       "495"
      ]
     },
     "execution_count": 106,
     "metadata": {},
     "output_type": "execute_result"
    }
   ],
   "source": [
    "df_wd_links = pd.concat([pd.read_json(\"ausstage_wd_all_links_20221006.json\"), pd.read_json(\"daao_wd_all_links_20221006.json\")])\n",
    "wd_adb = df_wd_links.copy().loc[df_wd_links[\"related_source\"] == \"Australian Dictionary of Biography ID\"]\n",
    "wd_adb.rename(columns={\"wd_label\": \"related_source_name\"}, inplace=True)\n",
    "# How many?\n",
    "wd_adb.shape[0]"
   ]
  },
  {
   "cell_type": "markdown",
   "id": "8fea7672-2bab-4350-b2ab-31383f6363bb",
   "metadata": {},
   "source": [
    "As noted elsewhere, there are some duplicates within each dataset. So we'll remove them before combining."
   ]
  },
  {
   "cell_type": "code",
   "execution_count": 107,
   "id": "f011407b-d191-4bd5-83a8-b47e47490527",
   "metadata": {},
   "outputs": [
    {
     "data": {
      "text/plain": [
       "475"
      ]
     },
     "execution_count": 107,
     "metadata": {},
     "output_type": "execute_result"
    }
   ],
   "source": [
    "wd_adb.drop_duplicates(subset=[\"related_url\"], inplace=True)\n",
    "wd_adb.shape[0]"
   ]
  },
  {
   "cell_type": "markdown",
   "id": "d94de362-60e8-4fbd-beec-4712e428665f",
   "metadata": {},
   "source": [
    "### Combined"
   ]
  },
  {
   "cell_type": "markdown",
   "id": "ffdd4c25-4f71-4a03-96bc-890fbe53a213",
   "metadata": {},
   "source": [
    "Now we'll combine the de-duplicated datasets."
   ]
  },
  {
   "cell_type": "code",
   "execution_count": 108,
   "id": "b3343562-cef7-4961-82de-b7f4bdc927a4",
   "metadata": {},
   "outputs": [
    {
     "data": {
      "text/plain": [
       "864"
      ]
     },
     "execution_count": 108,
     "metadata": {},
     "output_type": "execute_result"
    }
   ],
   "source": [
    "adb_combined = pd.concat([trove_adb, wd_adb])\n",
    "adb_combined.shape[0]"
   ]
  },
  {
   "cell_type": "markdown",
   "id": "15f1654e-5381-4215-ad0f-be2125d1012d",
   "metadata": {},
   "source": [
    "We'll do some normalising of the urls."
   ]
  },
  {
   "cell_type": "code",
   "execution_count": 109,
   "id": "15a8aeb6-8233-49e1-803b-1ecf33173a4d",
   "metadata": {},
   "outputs": [],
   "source": [
    "adb_combined[\"adb_url\"] = adb_combined[\"related_url\"].apply(lambda x: x.replace(\"http://\", \"https://\").strip(\"/\")) "
   ]
  },
  {
   "cell_type": "markdown",
   "id": "d2d22282-f899-430a-b1e2-ed401a9a3295",
   "metadata": {},
   "source": [
    "Here's the list of overlaps."
   ]
  },
  {
   "cell_type": "code",
   "execution_count": 110,
   "id": "ac9f4b4f-2d52-47ed-8642-48eb64fd3c2a",
   "metadata": {},
   "outputs": [
    {
     "data": {
      "text/html": [
       "<div>\n",
       "<style scoped>\n",
       "    .dataframe tbody tr th:only-of-type {\n",
       "        vertical-align: middle;\n",
       "    }\n",
       "\n",
       "    .dataframe tbody tr th {\n",
       "        vertical-align: top;\n",
       "    }\n",
       "\n",
       "    .dataframe thead th {\n",
       "        text-align: right;\n",
       "    }\n",
       "</style>\n",
       "<table border=\"1\" class=\"dataframe\">\n",
       "  <thead>\n",
       "    <tr style=\"text-align: right;\">\n",
       "      <th></th>\n",
       "      <th>acde_source</th>\n",
       "      <th>or_id</th>\n",
       "      <th>related_source</th>\n",
       "      <th>related_id</th>\n",
       "      <th>related_url</th>\n",
       "      <th>related_source_name</th>\n",
       "      <th>wd_url</th>\n",
       "      <th>adb_url</th>\n",
       "    </tr>\n",
       "  </thead>\n",
       "  <tbody>\n",
       "    <tr>\n",
       "      <th>68679</th>\n",
       "      <td>AusStage</td>\n",
       "      <td>454066</td>\n",
       "      <td>AU-ANU:ADBO</td>\n",
       "      <td>4976</td>\n",
       "      <td>http://adb.anu.edu.au/biography/agnew-roy-ewin...</td>\n",
       "      <td>Roy Ewing Agnew</td>\n",
       "      <td>NaN</td>\n",
       "      <td>https://adb.anu.edu.au/biography/agnew-roy-ewi...</td>\n",
       "    </tr>\n",
       "    <tr>\n",
       "      <th>4632</th>\n",
       "      <td>AusStage</td>\n",
       "      <td>454066</td>\n",
       "      <td>Australian Dictionary of Biography ID</td>\n",
       "      <td>agnew-roy-ewing-robert-4976</td>\n",
       "      <td>https://adb.anu.edu.au/biography/agnew-roy-ewi...</td>\n",
       "      <td>Roy Agnew</td>\n",
       "      <td>http://www.wikidata.org/entity/Q7372510</td>\n",
       "      <td>https://adb.anu.edu.au/biography/agnew-roy-ewi...</td>\n",
       "    </tr>\n",
       "    <tr>\n",
       "      <th>957</th>\n",
       "      <td>DAAO</td>\n",
       "      <td>4da1a387b538b73d93018caa</td>\n",
       "      <td>AU-ANU:ADBO</td>\n",
       "      <td>9369</td>\n",
       "      <td>http://adb.anu.edu.au/biography/annand-douglas...</td>\n",
       "      <td>Douglas Shenton Annand</td>\n",
       "      <td>NaN</td>\n",
       "      <td>https://adb.anu.edu.au/biography/annand-dougla...</td>\n",
       "    </tr>\n",
       "    <tr>\n",
       "      <th>19978</th>\n",
       "      <td>DAAO</td>\n",
       "      <td>douglas-annand</td>\n",
       "      <td>Australian Dictionary of Biography ID</td>\n",
       "      <td>annand-douglas-shenton-9369</td>\n",
       "      <td>https://adb.anu.edu.au/biography/annand-dougla...</td>\n",
       "      <td>Douglas Annand</td>\n",
       "      <td>http://www.wikidata.org/entity/Q5301207</td>\n",
       "      <td>https://adb.anu.edu.au/biography/annand-dougla...</td>\n",
       "    </tr>\n",
       "    <tr>\n",
       "      <th>1041</th>\n",
       "      <td>DAAO</td>\n",
       "      <td>4e5206f6d707ff1dc7002ff3</td>\n",
       "      <td>AU-ANU:ADBO</td>\n",
       "      <td>12154</td>\n",
       "      <td>http://adb.anu.edu.au/biography/atyeo-samuel-l...</td>\n",
       "      <td>Samuel Laurence Atyeo</td>\n",
       "      <td>NaN</td>\n",
       "      <td>https://adb.anu.edu.au/biography/atyeo-samuel-...</td>\n",
       "    </tr>\n",
       "    <tr>\n",
       "      <th>...</th>\n",
       "      <td>...</td>\n",
       "      <td>...</td>\n",
       "      <td>...</td>\n",
       "      <td>...</td>\n",
       "      <td>...</td>\n",
       "      <td>...</td>\n",
       "      <td>...</td>\n",
       "      <td>...</td>\n",
       "    </tr>\n",
       "    <tr>\n",
       "      <th>16791</th>\n",
       "      <td>DAAO</td>\n",
       "      <td>brett-whiteley</td>\n",
       "      <td>Australian Dictionary of Biography ID</td>\n",
       "      <td>whiteley-brett-17651</td>\n",
       "      <td>https://adb.anu.edu.au/biography/whiteley-bret...</td>\n",
       "      <td>Brett Whiteley</td>\n",
       "      <td>http://www.wikidata.org/entity/Q176409</td>\n",
       "      <td>https://adb.anu.edu.au/biography/whiteley-bret...</td>\n",
       "    </tr>\n",
       "    <tr>\n",
       "      <th>2624</th>\n",
       "      <td>DAAO</td>\n",
       "      <td>4da1ae86b538b73d9301ce0c</td>\n",
       "      <td>AU-ANU:ADBO</td>\n",
       "      <td>12048</td>\n",
       "      <td>http://adb.anu.edu.au/biography/wilson-lawrenc...</td>\n",
       "      <td>Lawrence George Wilson</td>\n",
       "      <td>NaN</td>\n",
       "      <td>https://adb.anu.edu.au/biography/wilson-lawren...</td>\n",
       "    </tr>\n",
       "    <tr>\n",
       "      <th>19224</th>\n",
       "      <td>DAAO</td>\n",
       "      <td>lawrence-george-wilson</td>\n",
       "      <td>Australian Dictionary of Biography ID</td>\n",
       "      <td>wilson-lawrence-george-12048</td>\n",
       "      <td>https://adb.anu.edu.au/biography/wilson-lawren...</td>\n",
       "      <td>Laurie Wilson</td>\n",
       "      <td>http://www.wikidata.org/entity/Q21536200</td>\n",
       "      <td>https://adb.anu.edu.au/biography/wilson-lawren...</td>\n",
       "    </tr>\n",
       "    <tr>\n",
       "      <th>8851</th>\n",
       "      <td>AusStage</td>\n",
       "      <td>228069</td>\n",
       "      <td>AU-ANU:ADBO</td>\n",
       "      <td>9218</td>\n",
       "      <td>http://adb.anu.edu.au/biography/young-william-...</td>\n",
       "      <td>William Blamire Young</td>\n",
       "      <td>NaN</td>\n",
       "      <td>https://adb.anu.edu.au/biography/young-william...</td>\n",
       "    </tr>\n",
       "    <tr>\n",
       "      <th>37380</th>\n",
       "      <td>AusStage</td>\n",
       "      <td>228069</td>\n",
       "      <td>Australian Dictionary of Biography ID</td>\n",
       "      <td>young-william-blamire-9218</td>\n",
       "      <td>https://adb.anu.edu.au/biography/young-william...</td>\n",
       "      <td>Blamire Young</td>\n",
       "      <td>http://www.wikidata.org/entity/Q4924735</td>\n",
       "      <td>https://adb.anu.edu.au/biography/young-william...</td>\n",
       "    </tr>\n",
       "  </tbody>\n",
       "</table>\n",
       "<p>148 rows × 8 columns</p>\n",
       "</div>"
      ],
      "text/plain": [
       "      acde_source                     or_id  \\\n",
       "68679    AusStage                    454066   \n",
       "4632     AusStage                    454066   \n",
       "957          DAAO  4da1a387b538b73d93018caa   \n",
       "19978        DAAO            douglas-annand   \n",
       "1041         DAAO  4e5206f6d707ff1dc7002ff3   \n",
       "...           ...                       ...   \n",
       "16791        DAAO            brett-whiteley   \n",
       "2624         DAAO  4da1ae86b538b73d9301ce0c   \n",
       "19224        DAAO    lawrence-george-wilson   \n",
       "8851     AusStage                    228069   \n",
       "37380    AusStage                    228069   \n",
       "\n",
       "                              related_source                    related_id  \\\n",
       "68679                            AU-ANU:ADBO                          4976   \n",
       "4632   Australian Dictionary of Biography ID   agnew-roy-ewing-robert-4976   \n",
       "957                              AU-ANU:ADBO                          9369   \n",
       "19978  Australian Dictionary of Biography ID   annand-douglas-shenton-9369   \n",
       "1041                             AU-ANU:ADBO                         12154   \n",
       "...                                      ...                           ...   \n",
       "16791  Australian Dictionary of Biography ID          whiteley-brett-17651   \n",
       "2624                             AU-ANU:ADBO                         12048   \n",
       "19224  Australian Dictionary of Biography ID  wilson-lawrence-george-12048   \n",
       "8851                             AU-ANU:ADBO                          9218   \n",
       "37380  Australian Dictionary of Biography ID    young-william-blamire-9218   \n",
       "\n",
       "                                             related_url  \\\n",
       "68679  http://adb.anu.edu.au/biography/agnew-roy-ewin...   \n",
       "4632   https://adb.anu.edu.au/biography/agnew-roy-ewi...   \n",
       "957    http://adb.anu.edu.au/biography/annand-douglas...   \n",
       "19978  https://adb.anu.edu.au/biography/annand-dougla...   \n",
       "1041   http://adb.anu.edu.au/biography/atyeo-samuel-l...   \n",
       "...                                                  ...   \n",
       "16791  https://adb.anu.edu.au/biography/whiteley-bret...   \n",
       "2624   http://adb.anu.edu.au/biography/wilson-lawrenc...   \n",
       "19224  https://adb.anu.edu.au/biography/wilson-lawren...   \n",
       "8851   http://adb.anu.edu.au/biography/young-william-...   \n",
       "37380  https://adb.anu.edu.au/biography/young-william...   \n",
       "\n",
       "          related_source_name                                    wd_url  \\\n",
       "68679         Roy Ewing Agnew                                       NaN   \n",
       "4632                Roy Agnew   http://www.wikidata.org/entity/Q7372510   \n",
       "957    Douglas Shenton Annand                                       NaN   \n",
       "19978          Douglas Annand   http://www.wikidata.org/entity/Q5301207   \n",
       "1041    Samuel Laurence Atyeo                                       NaN   \n",
       "...                       ...                                       ...   \n",
       "16791          Brett Whiteley    http://www.wikidata.org/entity/Q176409   \n",
       "2624   Lawrence George Wilson                                       NaN   \n",
       "19224           Laurie Wilson  http://www.wikidata.org/entity/Q21536200   \n",
       "8851    William Blamire Young                                       NaN   \n",
       "37380           Blamire Young   http://www.wikidata.org/entity/Q4924735   \n",
       "\n",
       "                                                 adb_url  \n",
       "68679  https://adb.anu.edu.au/biography/agnew-roy-ewi...  \n",
       "4632   https://adb.anu.edu.au/biography/agnew-roy-ewi...  \n",
       "957    https://adb.anu.edu.au/biography/annand-dougla...  \n",
       "19978  https://adb.anu.edu.au/biography/annand-dougla...  \n",
       "1041   https://adb.anu.edu.au/biography/atyeo-samuel-...  \n",
       "...                                                  ...  \n",
       "16791  https://adb.anu.edu.au/biography/whiteley-bret...  \n",
       "2624   https://adb.anu.edu.au/biography/wilson-lawren...  \n",
       "19224  https://adb.anu.edu.au/biography/wilson-lawren...  \n",
       "8851   https://adb.anu.edu.au/biography/young-william...  \n",
       "37380  https://adb.anu.edu.au/biography/young-william...  \n",
       "\n",
       "[148 rows x 8 columns]"
      ]
     },
     "execution_count": 110,
     "metadata": {},
     "output_type": "execute_result"
    }
   ],
   "source": [
    "overlaps = adb_combined.loc[adb_combined.duplicated(subset=[\"adb_url\"], keep=False)].sort_values(by=[\"adb_url\", \"related_source\"])\n",
    "overlaps"
   ]
  },
  {
   "cell_type": "code",
   "execution_count": 115,
   "id": "74144fe4-317c-47a7-977f-6678bfb21fa3",
   "metadata": {},
   "outputs": [
    {
     "name": "stdout",
     "output_type": "stream",
     "text": [
      "74 ADB urls are duplicated between datasets\n",
      "There are 716 ADB links that are not shared between Trove and Wikidata\n",
      "There are 790 unique ADB urls in the comined datasets\n"
     ]
    }
   ],
   "source": [
    "print(f\"{overlaps.shape[0] // 2} ADB urls are duplicated between datasets\")\n",
    "print(f\"There are {adb_combined.shape[0] - overlaps.shape[0]} ADB links that are not shared between Trove and Wikidata\")\n",
    "print(f\"There are {adb_combined.drop_duplicates(subset=['adb_url']).shape[0]} unique ADB urls in the comined datasets\")"
   ]
  },
  {
   "cell_type": "code",
   "execution_count": 159,
   "id": "10ce01c8-d1ed-4c5b-95ee-665e7cdf4238",
   "metadata": {},
   "outputs": [
    {
     "data": {
      "text/plain": [
       "<matplotlib_venn._common.VennDiagram at 0x7f0699f99f70>"
      ]
     },
     "execution_count": 159,
     "metadata": {},
     "output_type": "execute_result"
    },
    {
     "data": {
      "image/png": "[encoded data removed]",
      "text/plain": [
       "<Figure size 640x480 with 1 Axes>"
      ]
     },
     "metadata": {},
     "output_type": "display_data"
    }
   ],
   "source": [
    "venn2(subsets = (wd_adb.shape[0] - 74, trove_adb.shape[0] - 74, 74), set_labels = ('Wikidata', 'Trove'))"
   ]
  },
  {
   "cell_type": "markdown",
   "id": "dd7f8e79-ed94-4fce-9b7d-f003a19f87d5",
   "metadata": {},
   "source": [
    "## VIAF\n",
    "\n",
    "I've harvested VIAF records directly by using the Libraries Australia identifier from Trove. But there are also many VIAF records attached to Wikidata entities."
   ]
  },
  {
   "cell_type": "markdown",
   "id": "f045aad3-97fd-4ed8-afc9-03fe8948e33b",
   "metadata": {},
   "source": [
    "### Via Trove"
   ]
  },
  {
   "cell_type": "code",
   "execution_count": 150,
   "id": "5f2698fd-58a8-4172-8806-992f44e8ef7b",
   "metadata": {},
   "outputs": [
    {
     "data": {
      "text/plain": [
       "5453"
      ]
     },
     "execution_count": 150,
     "metadata": {},
     "output_type": "execute_result"
    }
   ],
   "source": [
    "df_trove_viaf = pd.concat([pd.read_json(\"daao_viaf_links_20221006.json\"), pd.read_json(\"ausstage_viaf_links_20221006.json\")])\n",
    "df_trove_viaf.rename(columns={\"related_source_url\": \"related_url\", \"related_source_id\": \"related_url\"}, inplace=True)\n",
    "df_trove_viaf = df_trove_viaf.loc[df_trove_viaf[\"related_source\"] == \"VIAF\"]\n",
    "df_trove_viaf.shape[0]"
   ]
  },
  {
   "cell_type": "code",
   "execution_count": 151,
   "id": "d44b2d7d-f0df-41b7-81e3-e6ebbb0cf3fa",
   "metadata": {},
   "outputs": [
    {
     "data": {
      "text/plain": [
       "5217"
      ]
     },
     "execution_count": 151,
     "metadata": {},
     "output_type": "execute_result"
    }
   ],
   "source": [
    "# Just in case\n",
    "df_trove_viaf.drop_duplicates(subset=[\"related_url\"], inplace=True)\n",
    "df_trove_viaf.shape[0]"
   ]
  },
  {
   "cell_type": "markdown",
   "id": "d738b4bb-6511-4568-8f05-3d16433c57c3",
   "metadata": {},
   "source": [
    "### Via Wikidata"
   ]
  },
  {
   "cell_type": "code",
   "execution_count": 138,
   "id": "debfd595-8f46-4f4e-aa27-606f25b5c334",
   "metadata": {},
   "outputs": [
    {
     "data": {
      "text/plain": [
       "2279"
      ]
     },
     "execution_count": 138,
     "metadata": {},
     "output_type": "execute_result"
    }
   ],
   "source": [
    "df_wd_viaf = pd.concat([pd.read_json(\"ausstage_wd_all_links_20221006.json\"), pd.read_json(\"daao_wd_all_links_20221006.json\")])\n",
    "df_wd_viaf = df_wd_viaf.loc[df_wd_viaf[\"related_source\"] == \"VIAF ID\"]\n",
    "df_wd_viaf.shape[0]"
   ]
  },
  {
   "cell_type": "code",
   "execution_count": 139,
   "id": "b24bd673-0c19-4ffd-b85a-4f0f722841c7",
   "metadata": {},
   "outputs": [
    {
     "data": {
      "text/plain": [
       "2216"
      ]
     },
     "execution_count": 139,
     "metadata": {},
     "output_type": "execute_result"
    }
   ],
   "source": [
    "df_wd_viaf.drop_duplicates(subset=[\"related_id\"], inplace=True)\n",
    "df_wd_viaf.shape[0]"
   ]
  },
  {
   "cell_type": "markdown",
   "id": "8ccfa5d0-23bb-4aac-801d-87be7ae219bc",
   "metadata": {},
   "source": [
    "### Combined"
   ]
  },
  {
   "cell_type": "code",
   "execution_count": 152,
   "id": "a11f38ae-4487-4074-b87c-00c74cbe17a4",
   "metadata": {},
   "outputs": [
    {
     "data": {
      "text/plain": [
       "7433"
      ]
     },
     "execution_count": 152,
     "metadata": {},
     "output_type": "execute_result"
    }
   ],
   "source": [
    "viaf_combined = pd.concat([df_wd_viaf, df_trove_viaf])\n",
    "viaf_combined.shape[0]"
   ]
  },
  {
   "cell_type": "code",
   "execution_count": 153,
   "id": "fe64c7b0-accc-4ec7-997d-eb90076d08cc",
   "metadata": {},
   "outputs": [],
   "source": [
    "viaf_combined[\"viaf_url\"] = viaf_combined[\"related_url\"].apply(lambda x: x.replace(\"http://\", \"https://\").strip(\"/\") if isinstance(x, str) else x)"
   ]
  },
  {
   "cell_type": "code",
   "execution_count": 154,
   "id": "2ee9dee0-9cd8-4b3f-a99f-f10fe27ace4b",
   "metadata": {},
   "outputs": [
    {
     "data": {
      "text/html": [
       "<div>\n",
       "<style scoped>\n",
       "    .dataframe tbody tr th:only-of-type {\n",
       "        vertical-align: middle;\n",
       "    }\n",
       "\n",
       "    .dataframe tbody tr th {\n",
       "        vertical-align: top;\n",
       "    }\n",
       "\n",
       "    .dataframe thead th {\n",
       "        text-align: right;\n",
       "    }\n",
       "</style>\n",
       "<table border=\"1\" class=\"dataframe\">\n",
       "  <thead>\n",
       "    <tr style=\"text-align: right;\">\n",
       "      <th></th>\n",
       "      <th>acde_source</th>\n",
       "      <th>or_id</th>\n",
       "      <th>related_source</th>\n",
       "      <th>related_id</th>\n",
       "      <th>related_url</th>\n",
       "      <th>wd_url</th>\n",
       "      <th>wd_label</th>\n",
       "      <th>viaf_url</th>\n",
       "    </tr>\n",
       "  </thead>\n",
       "  <tbody>\n",
       "    <tr>\n",
       "      <th>14744</th>\n",
       "      <td>AusStage</td>\n",
       "      <td>228157</td>\n",
       "      <td>VIAF</td>\n",
       "      <td>NaN</td>\n",
       "      <td>https://viaf.org/viaf/100242622/</td>\n",
       "      <td>NaN</td>\n",
       "      <td>NaN</td>\n",
       "      <td>https://viaf.org/viaf/100242622</td>\n",
       "    </tr>\n",
       "    <tr>\n",
       "      <th>1556</th>\n",
       "      <td>AusStage</td>\n",
       "      <td>228157</td>\n",
       "      <td>VIAF ID</td>\n",
       "      <td>100242622</td>\n",
       "      <td>https://viaf.org/viaf/100242622/</td>\n",
       "      <td>http://www.wikidata.org/entity/Q294454</td>\n",
       "      <td>Peter Finch</td>\n",
       "      <td>https://viaf.org/viaf/100242622</td>\n",
       "    </tr>\n",
       "    <tr>\n",
       "      <th>1695</th>\n",
       "      <td>AusStage</td>\n",
       "      <td>1</td>\n",
       "      <td>VIAF</td>\n",
       "      <td>NaN</td>\n",
       "      <td>https://viaf.org/viaf/100244098/</td>\n",
       "      <td>NaN</td>\n",
       "      <td>NaN</td>\n",
       "      <td>https://viaf.org/viaf/100244098</td>\n",
       "    </tr>\n",
       "    <tr>\n",
       "      <th>17359</th>\n",
       "      <td>AusStage</td>\n",
       "      <td>1</td>\n",
       "      <td>VIAF ID</td>\n",
       "      <td>100244098</td>\n",
       "      <td>https://viaf.org/viaf/100244098/</td>\n",
       "      <td>http://www.wikidata.org/entity/Q297794</td>\n",
       "      <td>Yasmina Reza</td>\n",
       "      <td>https://viaf.org/viaf/100244098</td>\n",
       "    </tr>\n",
       "    <tr>\n",
       "      <th>24683</th>\n",
       "      <td>AusStage</td>\n",
       "      <td>236039</td>\n",
       "      <td>VIAF</td>\n",
       "      <td>NaN</td>\n",
       "      <td>https://viaf.org/viaf/10032291/</td>\n",
       "      <td>NaN</td>\n",
       "      <td>NaN</td>\n",
       "      <td>https://viaf.org/viaf/10032291</td>\n",
       "    </tr>\n",
       "    <tr>\n",
       "      <th>...</th>\n",
       "      <td>...</td>\n",
       "      <td>...</td>\n",
       "      <td>...</td>\n",
       "      <td>...</td>\n",
       "      <td>...</td>\n",
       "      <td>...</td>\n",
       "      <td>...</td>\n",
       "      <td>...</td>\n",
       "    </tr>\n",
       "    <tr>\n",
       "      <th>15964</th>\n",
       "      <td>DAAO</td>\n",
       "      <td>djambawa-marawili-1</td>\n",
       "      <td>VIAF ID</td>\n",
       "      <td>9925148390858810830007</td>\n",
       "      <td>https://viaf.org/viaf/9925148390858810830007/</td>\n",
       "      <td>http://www.wikidata.org/entity/Q21454246</td>\n",
       "      <td>Djambawa Marawili</td>\n",
       "      <td>https://viaf.org/viaf/9925148390858810830007</td>\n",
       "    </tr>\n",
       "    <tr>\n",
       "      <th>17424</th>\n",
       "      <td>AusStage</td>\n",
       "      <td>229842</td>\n",
       "      <td>VIAF</td>\n",
       "      <td>NaN</td>\n",
       "      <td>https://viaf.org/viaf/99813949/</td>\n",
       "      <td>NaN</td>\n",
       "      <td>NaN</td>\n",
       "      <td>https://viaf.org/viaf/99813949</td>\n",
       "    </tr>\n",
       "    <tr>\n",
       "      <th>21296</th>\n",
       "      <td>AusStage</td>\n",
       "      <td>229842</td>\n",
       "      <td>VIAF ID</td>\n",
       "      <td>99813949</td>\n",
       "      <td>https://viaf.org/viaf/99813949/</td>\n",
       "      <td>http://www.wikidata.org/entity/Q234392</td>\n",
       "      <td>Ngaio Marsh</td>\n",
       "      <td>https://viaf.org/viaf/99813949</td>\n",
       "    </tr>\n",
       "    <tr>\n",
       "      <th>53682</th>\n",
       "      <td>AusStage</td>\n",
       "      <td>548098</td>\n",
       "      <td>VIAF</td>\n",
       "      <td>NaN</td>\n",
       "      <td>https://viaf.org/viaf/99835198/</td>\n",
       "      <td>NaN</td>\n",
       "      <td>NaN</td>\n",
       "      <td>https://viaf.org/viaf/99835198</td>\n",
       "    </tr>\n",
       "    <tr>\n",
       "      <th>28623</th>\n",
       "      <td>AusStage</td>\n",
       "      <td>548098</td>\n",
       "      <td>VIAF ID</td>\n",
       "      <td>99835198</td>\n",
       "      <td>https://viaf.org/viaf/99835198/</td>\n",
       "      <td>http://www.wikidata.org/entity/Q222791</td>\n",
       "      <td>Ennio Flaiano</td>\n",
       "      <td>https://viaf.org/viaf/99835198</td>\n",
       "    </tr>\n",
       "  </tbody>\n",
       "</table>\n",
       "<p>832 rows × 8 columns</p>\n",
       "</div>"
      ],
      "text/plain": [
       "      acde_source                or_id related_source              related_id  \\\n",
       "14744    AusStage               228157           VIAF                     NaN   \n",
       "1556     AusStage               228157        VIAF ID               100242622   \n",
       "1695     AusStage                    1           VIAF                     NaN   \n",
       "17359    AusStage                    1        VIAF ID               100244098   \n",
       "24683    AusStage               236039           VIAF                     NaN   \n",
       "...           ...                  ...            ...                     ...   \n",
       "15964        DAAO  djambawa-marawili-1        VIAF ID  9925148390858810830007   \n",
       "17424    AusStage               229842           VIAF                     NaN   \n",
       "21296    AusStage               229842        VIAF ID                99813949   \n",
       "53682    AusStage               548098           VIAF                     NaN   \n",
       "28623    AusStage               548098        VIAF ID                99835198   \n",
       "\n",
       "                                         related_url  \\\n",
       "14744               https://viaf.org/viaf/100242622/   \n",
       "1556                https://viaf.org/viaf/100242622/   \n",
       "1695                https://viaf.org/viaf/100244098/   \n",
       "17359               https://viaf.org/viaf/100244098/   \n",
       "24683                https://viaf.org/viaf/10032291/   \n",
       "...                                              ...   \n",
       "15964  https://viaf.org/viaf/9925148390858810830007/   \n",
       "17424                https://viaf.org/viaf/99813949/   \n",
       "21296                https://viaf.org/viaf/99813949/   \n",
       "53682                https://viaf.org/viaf/99835198/   \n",
       "28623                https://viaf.org/viaf/99835198/   \n",
       "\n",
       "                                         wd_url           wd_label  \\\n",
       "14744                                       NaN                NaN   \n",
       "1556     http://www.wikidata.org/entity/Q294454        Peter Finch   \n",
       "1695                                        NaN                NaN   \n",
       "17359    http://www.wikidata.org/entity/Q297794       Yasmina Reza   \n",
       "24683                                       NaN                NaN   \n",
       "...                                         ...                ...   \n",
       "15964  http://www.wikidata.org/entity/Q21454246  Djambawa Marawili   \n",
       "17424                                       NaN                NaN   \n",
       "21296    http://www.wikidata.org/entity/Q234392        Ngaio Marsh   \n",
       "53682                                       NaN                NaN   \n",
       "28623    http://www.wikidata.org/entity/Q222791      Ennio Flaiano   \n",
       "\n",
       "                                           viaf_url  \n",
       "14744               https://viaf.org/viaf/100242622  \n",
       "1556                https://viaf.org/viaf/100242622  \n",
       "1695                https://viaf.org/viaf/100244098  \n",
       "17359               https://viaf.org/viaf/100244098  \n",
       "24683                https://viaf.org/viaf/10032291  \n",
       "...                                             ...  \n",
       "15964  https://viaf.org/viaf/9925148390858810830007  \n",
       "17424                https://viaf.org/viaf/99813949  \n",
       "21296                https://viaf.org/viaf/99813949  \n",
       "53682                https://viaf.org/viaf/99835198  \n",
       "28623                https://viaf.org/viaf/99835198  \n",
       "\n",
       "[832 rows x 8 columns]"
      ]
     },
     "execution_count": 154,
     "metadata": {},
     "output_type": "execute_result"
    }
   ],
   "source": [
    "overlaps = viaf_combined.loc[viaf_combined.duplicated(subset=[\"viaf_url\"], keep=False)].sort_values(by=[\"viaf_url\", \"related_source\"])\n",
    "overlaps"
   ]
  },
  {
   "cell_type": "code",
   "execution_count": 155,
   "id": "7e624018-f4f4-4bc0-8ff5-de96b7da5ea1",
   "metadata": {},
   "outputs": [
    {
     "name": "stdout",
     "output_type": "stream",
     "text": [
      "416 VIAF urls are duplicated between datasets\n",
      "There are 6601 VIAF links that are not shared between Trove and Wikidata\n",
      "There are 7017 unique VIAF urls in the comined datasets\n"
     ]
    }
   ],
   "source": [
    "print(f\"{overlaps.shape[0] // 2} VIAF urls are duplicated between datasets\")\n",
    "print(f\"There are {viaf_combined.shape[0] - overlaps.shape[0]} VIAF links that are not shared between Trove and Wikidata\")\n",
    "print(f\"There are {viaf_combined.drop_duplicates(subset=['viaf_url']).shape[0]} unique VIAF urls in the comined datasets\")"
   ]
  },
  {
   "cell_type": "code",
   "execution_count": 158,
   "id": "a6d04c30-6ee6-4f5a-a70c-9349acdd8970",
   "metadata": {},
   "outputs": [
    {
     "data": {
      "text/plain": [
       "<matplotlib_venn._common.VennDiagram at 0x7f068a428580>"
      ]
     },
     "execution_count": 158,
     "metadata": {},
     "output_type": "execute_result"
    },
    {
     "data": {
      "image/png": "[encoded data removed]",
      "text/plain": [
       "<Figure size 640x480 with 1 Axes>"
      ]
     },
     "metadata": {},
     "output_type": "display_data"
    }
   ],
   "source": [
    "venn2(subsets = (df_wd_viaf.shape[0] - 416, df_trove_viaf.shape[0] - 416, 416), set_labels = ('Wikidata', 'Trove'))"
   ]
  },
  {
   "cell_type": "code",
   "execution_count": null,
   "id": "cb7a71ec-b32e-4c4b-9362-ed9c86eea21b",
   "metadata": {},
   "outputs": [],
   "source": []
  }
 ],
 "metadata": {
  "kernelspec": {
   "display_name": "Python 3 (ipykernel)",
   "language": "python",
   "name": "python3"
  },
  "language_info": {
   "codemirror_mode": {
    "name": "ipython",
    "version": 3
   },
   "file_extension": ".py",
   "mimetype": "text/x-python",
   "name": "python",
   "nbconvert_exporter": "python",
   "pygments_lexer": "ipython3",
   "version": "3.8.12"
  },
  "widgets": {
   "application/vnd.jupyter.widget-state+json": {
    "state": {},
    "version_major": 2,
    "version_minor": 0
   }
  }
 },
 "nbformat": 4,
 "nbformat_minor": 5
}
