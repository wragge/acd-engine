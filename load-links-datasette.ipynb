{
 "cells": [
  {
   "cell_type": "markdown",
   "id": "95a4afe9-77a6-40c3-9f3d-741a370fcb88",
   "metadata": {},
   "source": [
    "# Load all the links into Datasette for exploration\n",
    "\n",
    "This notebook brings together the harvested datasets, does a bit of cleaning up and reorganisation, then loads everything into an SQLite database that can be opened using Datasette.\n",
    "\n",
    "If you update the harvested datasets, then you'll need to change the file names in the code."
   ]
  },
  {
   "cell_type": "code",
   "execution_count": null,
   "id": "e71ca082-be92-44ba-946d-a5021f484b47",
   "metadata": {},
   "outputs": [],
   "source": [
    "import pandas as pd\n",
    "from sqlite_utils import Database\n",
    "from pathlib import Path"
   ]
  },
  {
   "cell_type": "code",
   "execution_count": null,
   "id": "15f64ac5-ac0b-4817-8f7b-b7b99bbf09a2",
   "metadata": {
    "tags": [
     "nbval-skip"
    ]
   },
   "outputs": [],
   "source": [
    "Path(\"datasette/acde-links.db\").unlink(missing_ok=True)\n",
    "db = Database(\"datasette/acde-links.db\")"
   ]
  },
  {
   "cell_type": "code",
   "execution_count": null,
   "id": "3b29fb0f-6f6e-4859-849a-f12414f0cfad",
   "metadata": {},
   "outputs": [],
   "source": [
    "# Prepare DAAO WD (add in DAAO ids and reorder)\n",
    "daao_wd = pd.read_json(\"daao_wd_all_links_20221006.json\")\n",
    "# Replace the DAAO path segments with hash identifiers\n",
    "# This is so we can link records back to the ACDE dataset which uses the hashes\n",
    "daao_wd.rename(columns={\"or_id\": \"or_path\"}, inplace=True)\n",
    "daao_urls = pd.read_csv(\"daao_urls.csv\")\n",
    "daao_merged = pd.merge(\n",
    "    daao_wd, daao_urls, how=\"left\", left_on=\"or_path\", right_on=\"daao_path\"\n",
    ")\n",
    "daao_merged.rename(columns={\"daao_id\": \"or_id\", \"daao_url\": \"or_url\"}, inplace=True)\n",
    "\n",
    "# Clean up and reorder\n",
    "daao_merged = daao_merged[\n",
    "    [\n",
    "        \"acde_source\",\n",
    "        \"or_id\",\n",
    "        \"or_url\",\n",
    "        \"wd_url\",\n",
    "        \"wd_label\",\n",
    "        \"related_source\",\n",
    "        \"related_id\",\n",
    "        \"related_url\",\n",
    "    ]\n",
    "]\n",
    "daao_merged.to_json(\"daao_wd_all_links_datasette.json\", orient=\"records\")"
   ]
  },
  {
   "cell_type": "code",
   "execution_count": null,
   "id": "9297f0ec-e764-45ee-8aa4-b8005d7e1528",
   "metadata": {},
   "outputs": [],
   "source": [
    "# Prepare AS wikidata (reorder columns)\n",
    "ausstage_wd = pd.read_json(\"ausstage_wd_all_links_20221006.json\")\n",
    "ausstage_wd[\"or_url\"] = ausstage_wd[\"or_id\"].apply(\n",
    "    lambda x: f\"https://www.ausstage.edu.au/pages/contributor/{x}\")\n",
    "ausstage_wd = ausstage_wd[\n",
    "    [\n",
    "        \"acde_source\",\n",
    "        \"or_id\",\n",
    "        \"or_url\",\n",
    "        \"wd_url\",\n",
    "        \"wd_label\",\n",
    "        \"related_source\",\n",
    "        \"related_id\",\n",
    "        \"related_url\",\n",
    "    ]\n",
    "]\n",
    "ausstage_wd.to_json(\"ausstage_wd_all_links_datasette.json\", orient=\"records\")"
   ]
  },
  {
   "cell_type": "code",
   "execution_count": null,
   "id": "60eb0e26-d6c5-4c8f-ae74-b0d765cadb1c",
   "metadata": {},
   "outputs": [],
   "source": [
    "acde_df = pd.read_json(\"ACDE_Merged_Normalized_202206031344.json\")\n",
    "# Add in the DAAO urls\n",
    "daao_urls.drop_duplicates(subset=\"daao_id\", inplace=True)\n",
    "acde_merged = pd.merge(\n",
    "    acde_df, daao_urls, how=\"left\", left_on=\"ori_id\", right_on=\"daao_id\"\n",
    ")\n",
    "acde_merged.rename(columns={\"daao_url\": \"ori_url\"}, inplace=True)\n",
    "acde_merged = acde_merged[\n",
    "    [\n",
    "        \"data_source\",\n",
    "        \"ori_id\",\n",
    "        \"ori_url\",\n",
    "        \"display_name\",\n",
    "        \"first_name\",\n",
    "        \"middle_name\",\n",
    "        \"last_name\",\n",
    "        \"other_names\",\n",
    "        \"roles\",\n",
    "        \"gender\",\n",
    "        \"nationality\",\n",
    "        \"year_of_birth\",\n",
    "        \"year_of_death\",\n",
    "    ]\n",
    "]"
   ]
  },
  {
   "cell_type": "code",
   "execution_count": null,
   "id": "07ebcd50-19a3-4a05-99e1-c9f2a7b8e119",
   "metadata": {},
   "outputs": [],
   "source": [
    "# Prepare ACDE\n",
    "acde_df = pd.read_json(\"ACDE_Merged_Normalized_202206031344.json\")\n",
    "# Add in the DAAO urls\n",
    "daao_urls.drop_duplicates(subset=\"daao_id\", inplace=True)\n",
    "acde_merged = pd.merge(\n",
    "    acde_df, daao_urls, how=\"left\", left_on=\"ori_id\", right_on=\"daao_id\"\n",
    ")\n",
    "acde_merged.rename(columns={\"daao_url\": \"ori_url\"}, inplace=True)\n",
    "acde_datasette = acde_merged[\n",
    "    [\n",
    "        \"data_source\",\n",
    "        \"ori_id\",\n",
    "        \"ori_url\",\n",
    "        \"display_name\",\n",
    "        \"first_name\",\n",
    "        \"middle_name\",\n",
    "        \"last_name\",\n",
    "        \"other_names\",\n",
    "        \"roles\",\n",
    "        \"gender\",\n",
    "        \"nationality\",\n",
    "        \"year_of_birth\",\n",
    "        \"year_of_death\",\n",
    "    ]\n",
    "]\n",
    "# Add AusStage urls\n",
    "acde_datasette.loc[acde_datasette[\"data_source\"] == \"AusStage\", \"ori_url\"] = acde_datasette[\"ori_id\"].apply(\n",
    "    lambda x: f\"https://www.ausstage.edu.au/pages/contributor/{x}\"\n",
    ")\n",
    "acde_datasette.loc[acde_datasette[\"data_source\"] == \"DAQA\", \"ori_url\"] = acde_datasette[\"ori_id\"].apply(\n",
    "    lambda x: f\"https://qldarch.net/architect/summary?architectId={x}\"\n",
    ")\n",
    "acde_datasette.to_json(\n",
    "    \"ACDE_Merged_Normalized_datasette.json\", orient=\"records\"\n",
    ")"
   ]
  },
  {
   "cell_type": "code",
   "execution_count": null,
   "id": "b1837d96-8ba4-4c41-bdb1-2e8619d07328",
   "metadata": {},
   "outputs": [],
   "source": [
    "def add_key(file, id_col=\"or_id\", col_name=\"acde_id\", cols=[\"acde_source\", \"or_id\"], drop=[\"or_id\"]):\n",
    "    df = pd.read_json(file)\n",
    "    keys = df[cols].apply(\n",
    "        lambda x: \"-\".join(x.astype(\"str\")) if x[id_col] else \"\", axis=1\n",
    "    )\n",
    "    df.insert(loc=2, column=col_name, value=keys)\n",
    "    df.drop(columns=drop, inplace=True)\n",
    "    return df.to_dict(\"records\")"
   ]
  },
  {
   "cell_type": "code",
   "execution_count": null,
   "id": "27137973-254e-4bdf-97f6-fe6825fdbf07",
   "metadata": {},
   "outputs": [],
   "source": [
    "# Add keys based on ACDE source and ori_id that can be used to link tables\n",
    "acde_dataset = add_key(\n",
    "    \"ACDE_Merged_Normalized_datasette.json\",\n",
    "    id_col=\"ori_id\",\n",
    "    col_name=\"key\",\n",
    "    cols=[\"data_source\", \"ori_id\"],\n",
    "    drop=[]\n",
    ")\n",
    "ausstage_trove_links = add_key(\"ausstage_trove_links_20221005.json\")\n",
    "ausstage_trove_relations = add_key(\"ausstage_trove_relations_20221005.json\")\n",
    "ausstage_trove_resources = add_key(\"ausstage_trove_resources_20221005.json\")\n",
    "ausstage_wd_links = add_key(\"ausstage_wd_all_links_datasette.json\")\n",
    "daao_trove_links = add_key(\"daao_trove_links_20221004.json\")\n",
    "daao_trove_relations = add_key(\"daao_trove_relations_20221004.json\")\n",
    "daao_trove_resources = add_key(\"daao_trove_resources_20221004.json\")\n",
    "daao_wd_links = add_key(\"daao_wd_all_links_datasette.json\")\n",
    "daqa_trove_matches = add_key(\"daqa_trove_matches_20221006.json\")\n",
    "daao_viaf_links = add_key(\"daao_viaf_links_20221006.json\")\n",
    "ausstage_viaf_links = add_key(\"ausstage_viaf_links_20221006.json\")"
   ]
  },
  {
   "cell_type": "code",
   "execution_count": null,
   "id": "db3a581a-b8ba-46be-adbc-f1794c11c18b",
   "metadata": {
    "tags": [
     "nbval-skip"
    ]
   },
   "outputs": [],
   "source": [
    "db[\"acde_records\"].insert_all(acde_dataset, pk=\"key\")"
   ]
  },
  {
   "cell_type": "code",
   "execution_count": null,
   "id": "5ad1f196-9945-4bc5-8a39-f74919eb52b5",
   "metadata": {
    "tags": [
     "nbval-skip"
    ]
   },
   "outputs": [],
   "source": [
    "db[\"trove_links\"].insert_all(\n",
    "    ausstage_trove_links, foreign_keys=[(\"acde_id\", \"acde_records\", \"key\")]\n",
    ")\n",
    "db[\"trove_resources\"].insert_all(\n",
    "    ausstage_trove_resources, foreign_keys=[(\"acde_id\", \"acde_records\", \"key\")]\n",
    ")\n",
    "db[\"trove_relations\"].insert_all(\n",
    "    ausstage_trove_relations, foreign_keys=[(\"acde_id\", \"acde_records\", \"key\")]\n",
    ")\n",
    "db[\"wikidata_links\"].insert_all(\n",
    "    ausstage_wd_links, foreign_keys=[(\"acde_id\", \"acde_records\", \"key\")]\n",
    ")\n",
    "db[\"viaf_links\"].insert_all(\n",
    "    ausstage_viaf_links, foreign_keys=[(\"acde_id\", \"acde_records\", \"key\")]\n",
    ")"
   ]
  },
  {
   "cell_type": "code",
   "execution_count": null,
   "id": "ea7b28a6-4e81-4eee-b273-7893fe2984b9",
   "metadata": {
    "tags": [
     "nbval-skip"
    ]
   },
   "outputs": [],
   "source": [
    "db[\"trove_links\"].insert_all(\n",
    "    daao_trove_links, foreign_keys=[(\"acde_id\", \"acde_records\", \"key\")]\n",
    ")\n",
    "db[\"trove_resources\"].insert_all(\n",
    "    daao_trove_resources, foreign_keys=[(\"acde_id\", \"acde_records\", \"key\")]\n",
    ")\n",
    "db[\"trove_relations\"].insert_all(\n",
    "    daao_trove_relations, foreign_keys=[(\"acde_id\", \"acde_records\", \"key\")]\n",
    ")\n",
    "db[\"wikidata_links\"].insert_all(\n",
    "    daao_wd_links, foreign_keys=[(\"acde_id\", \"acde_records\", \"key\")]\n",
    ")\n",
    "db[\"viaf_links\"].insert_all(\n",
    "    daao_viaf_links, foreign_keys=[(\"acde_id\", \"acde_records\", \"key\")]\n",
    ")"
   ]
  },
  {
   "cell_type": "code",
   "execution_count": null,
   "id": "41b2bbed-1935-4901-a78a-c4d490a2c27a",
   "metadata": {
    "tags": [
     "nbval-skip"
    ]
   },
   "outputs": [],
   "source": [
    "db[\"daqa_matches\"].insert_all(\n",
    "    daqa_trove_matches, foreign_keys=[(\"acde_id\", \"acde_records\", \"key\")]\n",
    ")"
   ]
  },
  {
   "cell_type": "code",
   "execution_count": null,
   "id": "ada3fa33-b64c-4050-b119-687a1eb75439",
   "metadata": {},
   "outputs": [],
   "source": []
  }
 ],
 "metadata": {
  "kernelspec": {
   "display_name": "Python 3 (ipykernel)",
   "language": "python",
   "name": "python3"
  },
  "language_info": {
   "codemirror_mode": {
    "name": "ipython",
    "version": 3
   },
   "file_extension": ".py",
   "mimetype": "text/x-python",
   "name": "python",
   "nbconvert_exporter": "python",
   "pygments_lexer": "ipython3",
   "version": "3.8.12"
  },
  "widgets": {
   "application/vnd.jupyter.widget-state+json": {
    "state": {},
    "version_major": 2,
    "version_minor": 0
   }
  }
 },
 "nbformat": 4,
 "nbformat_minor": 5
}
