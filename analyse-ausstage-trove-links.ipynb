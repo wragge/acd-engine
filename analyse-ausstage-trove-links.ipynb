{
 "cells": [
  {
   "cell_type": "markdown",
   "id": "9b31c59f-7bc6-4914-9366-a84d98330ee7",
   "metadata": {},
   "source": [
    "# Analysing AusStage  Trove links\n",
    "\n",
    "Questions:\n",
    "\n",
    "- How many AusStage people have an entry in Trove?\n",
    "- How many of these records are linked with other identifiers?\n",
    "- Number of sources\n"
   ]
  },
  {
   "cell_type": "code",
   "execution_count": 2,
   "id": "394e6395-e0c1-4db4-9523-f2b50a01d783",
   "metadata": {},
   "outputs": [],
   "source": [
    "import pandas as pd"
   ]
  },
  {
   "cell_type": "markdown",
   "id": "146bc700-58b4-47b5-aef3-8ccaa89922af",
   "metadata": {},
   "source": [
    "How many AusStage records are in the ACDE dataset?"
   ]
  },
  {
   "cell_type": "code",
   "execution_count": 3,
   "id": "f6b065ec-0be0-49b1-869c-aa06433adbf3",
   "metadata": {},
   "outputs": [
    {
     "data": {
      "text/plain": [
       "171081"
      ]
     },
     "execution_count": 3,
     "metadata": {},
     "output_type": "execute_result"
    }
   ],
   "source": [
    "df_acde = pd.read_json(\"ACDE_Merged_Normalized_202206031344.json\")\n",
    "df_ausstage = df_acde.loc[df_acde[\"data_source\"] == \"AusStage\"]\n",
    "ausstage_count = df_ausstage.shape[0]\n",
    "ausstage_count"
   ]
  },
  {
   "cell_type": "markdown",
   "id": "3f198238-b4d0-4d8b-9e87-d7336cf6b396",
   "metadata": {},
   "source": [
    "How many AusStage people have an match in Trove's People and Organisations zone?"
   ]
  },
  {
   "cell_type": "code",
   "execution_count": 4,
   "id": "4947e59f-4714-4b83-a702-39aee25a26e5",
   "metadata": {},
   "outputs": [
    {
     "data": {
      "text/html": [
       "<div>\n",
       "<style scoped>\n",
       "    .dataframe tbody tr th:only-of-type {\n",
       "        vertical-align: middle;\n",
       "    }\n",
       "\n",
       "    .dataframe tbody tr th {\n",
       "        vertical-align: top;\n",
       "    }\n",
       "\n",
       "    .dataframe thead th {\n",
       "        text-align: right;\n",
       "    }\n",
       "</style>\n",
       "<table border=\"1\" class=\"dataframe\">\n",
       "  <thead>\n",
       "    <tr style=\"text-align: right;\">\n",
       "      <th></th>\n",
       "      <th>acde_source</th>\n",
       "      <th>or_id</th>\n",
       "      <th>related_source</th>\n",
       "      <th>related_source_id</th>\n",
       "      <th>related_source_url</th>\n",
       "      <th>related_source_name</th>\n",
       "    </tr>\n",
       "  </thead>\n",
       "  <tbody>\n",
       "    <tr>\n",
       "      <th>0</th>\n",
       "      <td>AusStage</td>\n",
       "      <td>581</td>\n",
       "      <td>Trove</td>\n",
       "      <td>1561804</td>\n",
       "      <td>https://nla.gov.au/nla.party-1561804</td>\n",
       "      <td>Geoff Gaskill</td>\n",
       "    </tr>\n",
       "    <tr>\n",
       "      <th>1</th>\n",
       "      <td>AusStage</td>\n",
       "      <td>690</td>\n",
       "      <td>Trove</td>\n",
       "      <td>1561828</td>\n",
       "      <td>https://nla.gov.au/nla.party-1561828</td>\n",
       "      <td>Dan Scollay</td>\n",
       "    </tr>\n",
       "    <tr>\n",
       "      <th>2</th>\n",
       "      <td>AusStage</td>\n",
       "      <td>691</td>\n",
       "      <td>Trove</td>\n",
       "      <td>595149</td>\n",
       "      <td>https://nla.gov.au/nla.party-595149</td>\n",
       "      <td>John Gatenby Bolton</td>\n",
       "    </tr>\n",
       "    <tr>\n",
       "      <th>3</th>\n",
       "      <td>AusStage</td>\n",
       "      <td>691</td>\n",
       "      <td>AuCNLKIN</td>\n",
       "      <td>35990423</td>\n",
       "      <td>http://nla.gov.au/anbd.aut-an35990423</td>\n",
       "      <td>J G Bolton</td>\n",
       "    </tr>\n",
       "    <tr>\n",
       "      <th>4</th>\n",
       "      <td>AusStage</td>\n",
       "      <td>691</td>\n",
       "      <td>AU-VU:EOAS</td>\n",
       "      <td>P001483</td>\n",
       "      <td>http://www.eoas.info/biogs/P001483b.htm</td>\n",
       "      <td>John Gatenby Bolton</td>\n",
       "    </tr>\n",
       "  </tbody>\n",
       "</table>\n",
       "</div>"
      ],
      "text/plain": [
       "  acde_source  or_id related_source related_source_id  \\\n",
       "0    AusStage    581          Trove           1561804   \n",
       "1    AusStage    690          Trove           1561828   \n",
       "2    AusStage    691          Trove            595149   \n",
       "3    AusStage    691       AuCNLKIN          35990423   \n",
       "4    AusStage    691     AU-VU:EOAS           P001483   \n",
       "\n",
       "                        related_source_url  related_source_name  \n",
       "0     https://nla.gov.au/nla.party-1561804        Geoff Gaskill  \n",
       "1     https://nla.gov.au/nla.party-1561828          Dan Scollay  \n",
       "2      https://nla.gov.au/nla.party-595149  John Gatenby Bolton  \n",
       "3    http://nla.gov.au/anbd.aut-an35990423           J G Bolton  \n",
       "4  http://www.eoas.info/biogs/P001483b.htm  John Gatenby Bolton  "
      ]
     },
     "execution_count": 4,
     "metadata": {},
     "output_type": "execute_result"
    }
   ],
   "source": [
    "df_trove_links = pd.read_json(\"ausstage_trove_links_20221005.json\")\n",
    "df_trove_links.head()"
   ]
  },
  {
   "cell_type": "code",
   "execution_count": 5,
   "id": "fa802214-aafd-4867-be55-da48f4a887cd",
   "metadata": {},
   "outputs": [
    {
     "data": {
      "text/plain": [
       "134012"
      ]
     },
     "execution_count": 5,
     "metadata": {},
     "output_type": "execute_result"
    }
   ],
   "source": [
    "ausstage_trove_count = df_trove_links.groupby(by=[\"acde_source\", \"or_id\"]).ngroups\n",
    "ausstage_trove_count"
   ]
  },
  {
   "cell_type": "markdown",
   "id": "cde69559-d93d-49f8-af96-e2e12ad0650a",
   "metadata": {},
   "source": [
    "How many don't have a match?"
   ]
  },
  {
   "cell_type": "code",
   "execution_count": 6,
   "id": "ea6efba5-4a7b-4284-add2-006fc753a8ea",
   "metadata": {},
   "outputs": [
    {
     "data": {
      "text/plain": [
       "37069"
      ]
     },
     "execution_count": 6,
     "metadata": {},
     "output_type": "execute_result"
    }
   ],
   "source": [
    "df_trove_not_found = pd.read_json(\"ausstage_trove_not_found_20221005.json\")\n",
    "ausstage_no_trove_count = df_trove_not_found.shape[0]\n",
    "ausstage_no_trove_count"
   ]
  },
  {
   "cell_type": "markdown",
   "id": "fa308031-b7fe-47a2-a0a0-a79ac3f3b1a4",
   "metadata": {},
   "source": [
    "Check that the number with and without Trove matches adds up to the total number of AusStage records."
   ]
  },
  {
   "cell_type": "code",
   "execution_count": 7,
   "id": "dd5d608d-9b51-4982-9484-f65b57bb0e25",
   "metadata": {},
   "outputs": [
    {
     "data": {
      "text/plain": [
       "True"
      ]
     },
     "execution_count": 7,
     "metadata": {},
     "output_type": "execute_result"
    }
   ],
   "source": [
    "ausstage_trove_count + ausstage_no_trove_count == ausstage_count"
   ]
  },
  {
   "cell_type": "code",
   "execution_count": 8,
   "id": "61944933-a275-4208-9ea3-95a5f7c62696",
   "metadata": {},
   "outputs": [
    {
     "name": "stdout",
     "output_type": "stream",
     "text": [
      "78.33% of AusStage people have a match in Trove\n"
     ]
    }
   ],
   "source": [
    "print(f\"{ausstage_trove_count/ausstage_count:.2%} of AusStage people have a match in Trove\")"
   ]
  },
  {
   "cell_type": "markdown",
   "id": "3918b95b-db45-4381-acf6-c931d9fc3ef3",
   "metadata": {},
   "source": [
    "## Related sources\n",
    "\n",
    "Which other sources are linked to AusStage records via Trove?"
   ]
  },
  {
   "cell_type": "code",
   "execution_count": 27,
   "id": "057e2e57-1c17-4bd2-9ba5-9891f5fe51af",
   "metadata": {},
   "outputs": [
    {
     "data": {
      "text/plain": [
       "related_source  0                                    \n",
       "AuCNLKIN        Libraries Australia                      4464\n",
       "AU-AIAS         AIATSIS Aboriginal Biographical Index    1171\n",
       "AU-ANU:ADBO     Australian Dictionary of Biography        325\n",
       "AU-QPRO         The Prosecution Project                   204\n",
       "AU-NUN:DAAO     Design & Art Australia Online             160\n",
       "AU-ANL:AD       Australia Dancing                         128\n",
       "AU-VU:AWR       The Australian Women's Register           108\n",
       "AU-NAMC         Australian Music Centre                    92\n",
       "AU-ANU:OA       Obituaries Australia                       72\n",
       "AU-ANL:MA       Music Australia                            50\n",
       "AU-VU:EOAS      Encyclopedia of Australian Science         45\n",
       "AU-AuCNLKIN     Libraries Australia                        41\n",
       "AU-APAR         Australian Parliamentary Library           28\n",
       "AU-YORCID       ORCID                                      25\n",
       "AU-VU           University of Melbourne                    19\n",
       "AU-NUWS         University of Western Sydney               13\n",
       "AU-ANL:MA-DM    destra Media                               13\n",
       "AU-VASD         Australian Sound Design                     8\n",
       "AU-APAR:S       Department of the Senate                    6\n",
       "AU-NAMO         Australian Music Online                     5\n",
       "AU-NSAL         Sydney's Aldermen                           4\n",
       "AU-QJCU         James Cook University, Australia            3\n",
       "AU-SFU:PDM      Flinders University                         2\n",
       "AU-VLU          La Trobe University                         1\n",
       "AU-QGU          Griffith University                         1\n",
       "AU-NTSM         University of Technology, Sydney            1\n",
       "AU-QUT:GP       Queensland University of Technology         1\n",
       "dtype: int64"
      ]
     },
     "execution_count": 27,
     "metadata": {},
     "output_type": "execute_result"
    }
   ],
   "source": [
    "sources = pd.read_json(\"agencies.json\", orient=\"index\")\n",
    "df_trove_sources = pd.merge(df_trove_links, sources, how=\"left\", left_on=\"related_source\", right_index=True)\n",
    "df_trove_sources.value_counts(subset=[\"related_source\", 0])"
   ]
  },
  {
   "cell_type": "markdown",
   "id": "feeee855-4c8a-451d-8e1d-9704416b10fe",
   "metadata": {},
   "source": [
    "It's important to note that AIATSIS records (AU-AIAS) are different to most of the others. The records are not 'identities' that bring together information about an individual, they're separate resources relating to an individual. So one individual might have multiple AIATSIS links. \n",
    "\n",
    "Number of individual AusStage records with AIATSIS links."
   ]
  },
  {
   "cell_type": "code",
   "execution_count": 29,
   "id": "9efa1306-2ec2-4682-a89f-c85600af6dd0",
   "metadata": {},
   "outputs": [
    {
     "data": {
      "text/plain": [
       "408"
      ]
     },
     "execution_count": 29,
     "metadata": {},
     "output_type": "execute_result"
    }
   ],
   "source": [
    "df_trove_links.loc[df_trove_links[\"related_source\"] == \"AU-AIAS\"].groupby(by=[\"acde_source\", \"or_id\", \"related_source\"]).ngroups"
   ]
  },
  {
   "cell_type": "markdown",
   "id": "51425854-49da-49f6-9d2a-5c71991f3b67",
   "metadata": {},
   "source": [
    "## Links per record"
   ]
  },
  {
   "cell_type": "code",
   "execution_count": 31,
   "id": "65b529d7-b65e-46e4-a6a4-594b6abc2ca0",
   "metadata": {},
   "outputs": [],
   "source": [
    "related_source_counts = df_trove_links.groupby(by=[\"acde_source\", \"or_id\", \"related_source_name\"])[\"related_source\"].count().to_frame().reset_index()"
   ]
  },
  {
   "cell_type": "code",
   "execution_count": 35,
   "id": "dde7b953-5442-4781-997c-951a67c66600",
   "metadata": {},
   "outputs": [
    {
     "data": {
      "text/plain": [
       "count    134794.000000\n",
       "mean          1.046055\n",
       "std           0.478156\n",
       "min           1.000000\n",
       "25%           1.000000\n",
       "50%           1.000000\n",
       "75%           1.000000\n",
       "max          67.000000\n",
       "Name: related_source, dtype: float64"
      ]
     },
     "execution_count": 35,
     "metadata": {},
     "output_type": "execute_result"
    }
   ],
   "source": [
    "related_source_counts[\"related_source\"].describe()"
   ]
  },
  {
   "cell_type": "code",
   "execution_count": 42,
   "id": "87ecf0bf-d8d4-4af6-95d3-6eee16e5ff85",
   "metadata": {},
   "outputs": [
    {
     "name": "stdout",
     "output_type": "stream",
     "text": [
      "3.20% of AusStage people with Trove records are linked to additional sources\n"
     ]
    }
   ],
   "source": [
    "more_than_one = related_source_counts.loc[related_source_counts[\"related_source\"] > 1]\n",
    "print(f\"{more_than_one.shape[0]/ausstage_trove_count:.2%} of AusStage people with Trove records are linked to additional sources\")"
   ]
  },
  {
   "cell_type": "markdown",
   "id": "3e9cc4d0-d6c5-470b-b578-787d2c204664",
   "metadata": {},
   "source": [
    "Records with the most links"
   ]
  },
  {
   "cell_type": "code",
   "execution_count": 32,
   "id": "0c57e8e6-f4d5-4823-8284-65fc5471983e",
   "metadata": {},
   "outputs": [
    {
     "data": {
      "text/html": [
       "<div>\n",
       "<style scoped>\n",
       "    .dataframe tbody tr th:only-of-type {\n",
       "        vertical-align: middle;\n",
       "    }\n",
       "\n",
       "    .dataframe tbody tr th {\n",
       "        vertical-align: top;\n",
       "    }\n",
       "\n",
       "    .dataframe thead th {\n",
       "        text-align: right;\n",
       "    }\n",
       "</style>\n",
       "<table border=\"1\" class=\"dataframe\">\n",
       "  <thead>\n",
       "    <tr style=\"text-align: right;\">\n",
       "      <th></th>\n",
       "      <th>acde_source</th>\n",
       "      <th>or_id</th>\n",
       "      <th>related_source_name</th>\n",
       "      <th>related_source</th>\n",
       "    </tr>\n",
       "  </thead>\n",
       "  <tbody>\n",
       "    <tr>\n",
       "      <th>74540</th>\n",
       "      <td>AusStage</td>\n",
       "      <td>462553</td>\n",
       "      <td>Albert Namatjira</td>\n",
       "      <td>67</td>\n",
       "    </tr>\n",
       "    <tr>\n",
       "      <th>82</th>\n",
       "      <td>AusStage</td>\n",
       "      <td>144</td>\n",
       "      <td>Jack Davis</td>\n",
       "      <td>59</td>\n",
       "    </tr>\n",
       "    <tr>\n",
       "      <th>7492</th>\n",
       "      <td>AusStage</td>\n",
       "      <td>228382</td>\n",
       "      <td>George Thompson</td>\n",
       "      <td>54</td>\n",
       "    </tr>\n",
       "    <tr>\n",
       "      <th>61155</th>\n",
       "      <td>AusStage</td>\n",
       "      <td>443527</td>\n",
       "      <td>Harold Blair</td>\n",
       "      <td>46</td>\n",
       "    </tr>\n",
       "    <tr>\n",
       "      <th>965</th>\n",
       "      <td>AusStage</td>\n",
       "      <td>1731</td>\n",
       "      <td>Jimmy Little</td>\n",
       "      <td>40</td>\n",
       "    </tr>\n",
       "    <tr>\n",
       "      <th>40284</th>\n",
       "      <td>AusStage</td>\n",
       "      <td>412913</td>\n",
       "      <td>Michael Ryan</td>\n",
       "      <td>34</td>\n",
       "    </tr>\n",
       "    <tr>\n",
       "      <th>84746</th>\n",
       "      <td>AusStage</td>\n",
       "      <td>476430</td>\n",
       "      <td>John Donovan</td>\n",
       "      <td>28</td>\n",
       "    </tr>\n",
       "    <tr>\n",
       "      <th>5870</th>\n",
       "      <td>AusStage</td>\n",
       "      <td>225474</td>\n",
       "      <td>David Dalaithngu</td>\n",
       "      <td>26</td>\n",
       "    </tr>\n",
       "    <tr>\n",
       "      <th>2706</th>\n",
       "      <td>AusStage</td>\n",
       "      <td>4342</td>\n",
       "      <td>Ernie Dingo</td>\n",
       "      <td>23</td>\n",
       "    </tr>\n",
       "    <tr>\n",
       "      <th>66885</th>\n",
       "      <td>AusStage</td>\n",
       "      <td>452049</td>\n",
       "      <td>George Miller</td>\n",
       "      <td>21</td>\n",
       "    </tr>\n",
       "    <tr>\n",
       "      <th>73163</th>\n",
       "      <td>AusStage</td>\n",
       "      <td>460625</td>\n",
       "      <td>George Miller</td>\n",
       "      <td>21</td>\n",
       "    </tr>\n",
       "    <tr>\n",
       "      <th>6776</th>\n",
       "      <td>AusStage</td>\n",
       "      <td>227374</td>\n",
       "      <td>Roslyn Watson</td>\n",
       "      <td>19</td>\n",
       "    </tr>\n",
       "    <tr>\n",
       "      <th>3899</th>\n",
       "      <td>AusStage</td>\n",
       "      <td>6758</td>\n",
       "      <td>Justine Saunders</td>\n",
       "      <td>19</td>\n",
       "    </tr>\n",
       "    <tr>\n",
       "      <th>45754</th>\n",
       "      <td>AusStage</td>\n",
       "      <td>421147</td>\n",
       "      <td>Gerry Bostock</td>\n",
       "      <td>17</td>\n",
       "    </tr>\n",
       "    <tr>\n",
       "      <th>6947</th>\n",
       "      <td>AusStage</td>\n",
       "      <td>227614</td>\n",
       "      <td>Eddie Bennell</td>\n",
       "      <td>16</td>\n",
       "    </tr>\n",
       "    <tr>\n",
       "      <th>33689</th>\n",
       "      <td>AusStage</td>\n",
       "      <td>403556</td>\n",
       "      <td>Ruby Hunter</td>\n",
       "      <td>16</td>\n",
       "    </tr>\n",
       "    <tr>\n",
       "      <th>468</th>\n",
       "      <td>AusStage</td>\n",
       "      <td>848</td>\n",
       "      <td>Bob Maza</td>\n",
       "      <td>15</td>\n",
       "    </tr>\n",
       "    <tr>\n",
       "      <th>74508</th>\n",
       "      <td>AusStage</td>\n",
       "      <td>462507</td>\n",
       "      <td>Bill Onus</td>\n",
       "      <td>15</td>\n",
       "    </tr>\n",
       "    <tr>\n",
       "      <th>76320</th>\n",
       "      <td>AusStage</td>\n",
       "      <td>465164</td>\n",
       "      <td>Ruby Langford Ginibi</td>\n",
       "      <td>15</td>\n",
       "    </tr>\n",
       "    <tr>\n",
       "      <th>60515</th>\n",
       "      <td>AusStage</td>\n",
       "      <td>442454</td>\n",
       "      <td>Margaret Williams</td>\n",
       "      <td>14</td>\n",
       "    </tr>\n",
       "  </tbody>\n",
       "</table>\n",
       "</div>"
      ],
      "text/plain": [
       "      acde_source   or_id   related_source_name  related_source\n",
       "74540    AusStage  462553      Albert Namatjira              67\n",
       "82       AusStage     144            Jack Davis              59\n",
       "7492     AusStage  228382       George Thompson              54\n",
       "61155    AusStage  443527          Harold Blair              46\n",
       "965      AusStage    1731          Jimmy Little              40\n",
       "40284    AusStage  412913          Michael Ryan              34\n",
       "84746    AusStage  476430          John Donovan              28\n",
       "5870     AusStage  225474      David Dalaithngu              26\n",
       "2706     AusStage    4342           Ernie Dingo              23\n",
       "66885    AusStage  452049         George Miller              21\n",
       "73163    AusStage  460625         George Miller              21\n",
       "6776     AusStage  227374         Roslyn Watson              19\n",
       "3899     AusStage    6758      Justine Saunders              19\n",
       "45754    AusStage  421147         Gerry Bostock              17\n",
       "6947     AusStage  227614         Eddie Bennell              16\n",
       "33689    AusStage  403556           Ruby Hunter              16\n",
       "468      AusStage     848              Bob Maza              15\n",
       "74508    AusStage  462507             Bill Onus              15\n",
       "76320    AusStage  465164  Ruby Langford Ginibi              15\n",
       "60515    AusStage  442454     Margaret Williams              14"
      ]
     },
     "execution_count": 32,
     "metadata": {},
     "output_type": "execute_result"
    }
   ],
   "source": [
    "related_source_counts.sort_values('related_source', ascending=False)[:20]"
   ]
  },
  {
   "cell_type": "markdown",
   "id": "8edbfb12-4f19-41ad-a417-33593aba6ce9",
   "metadata": {},
   "source": [
    "## Duplicates?\n",
    "\n",
    "I noticed that there seem to be some duplicate results where multiple AusStage records have been linked (correctly it seems) within Trove a single record. Some of these AusStage records contain different data but refer to the same person. Look for example at the records for Yvonne (Fifi) Banvard [here](https://www.ausstage.edu.au/pages/contributor/226757) and [here](https://www.ausstage.edu.au/pages/contributor/226677). These two records reflect different names for the same person and are cross-linked in AusStage. Trove brings them together under a single identity. This is all as you would expect, but because we're harvesting by each AusStage identifier, it means we're getting the same Trove record twice. I'm not sure it matters very much, but it does mean that the totals by source listed above don't reflect unique instances of the related source. Let's look at how many unique Trove identifiers there are..."
   ]
  },
  {
   "cell_type": "code",
   "execution_count": 65,
   "id": "62209b86-b636-4ad4-b00b-9d8e818b8cec",
   "metadata": {},
   "outputs": [],
   "source": [
    "df_trove = df_trove_links.copy().loc[df_trove_links[\"related_source\"] == \"Trove\"]"
   ]
  },
  {
   "cell_type": "markdown",
   "id": "3465df3e-6d13-45d6-a0f7-0dc13b847667",
   "metadata": {},
   "source": [
    "Show a sample of matches with duplicated Trove links."
   ]
  },
  {
   "cell_type": "code",
   "execution_count": 52,
   "id": "f353fc24-7362-4786-b0d1-204e0d6e5510",
   "metadata": {},
   "outputs": [
    {
     "data": {
      "text/html": [
       "<div>\n",
       "<style scoped>\n",
       "    .dataframe tbody tr th:only-of-type {\n",
       "        vertical-align: middle;\n",
       "    }\n",
       "\n",
       "    .dataframe tbody tr th {\n",
       "        vertical-align: top;\n",
       "    }\n",
       "\n",
       "    .dataframe thead th {\n",
       "        text-align: right;\n",
       "    }\n",
       "</style>\n",
       "<table border=\"1\" class=\"dataframe\">\n",
       "  <thead>\n",
       "    <tr style=\"text-align: right;\">\n",
       "      <th></th>\n",
       "      <th>acde_source</th>\n",
       "      <th>or_id</th>\n",
       "      <th>related_source</th>\n",
       "      <th>related_source_id</th>\n",
       "      <th>related_source_url</th>\n",
       "      <th>related_source_name</th>\n",
       "    </tr>\n",
       "  </thead>\n",
       "  <tbody>\n",
       "    <tr>\n",
       "      <th>99306</th>\n",
       "      <td>AusStage</td>\n",
       "      <td>488120</td>\n",
       "      <td>Trove</td>\n",
       "      <td>1153627</td>\n",
       "      <td>https://nla.gov.au/nla.party-1153627</td>\n",
       "      <td>Joy Smith</td>\n",
       "    </tr>\n",
       "    <tr>\n",
       "      <th>95880</th>\n",
       "      <td>AusStage</td>\n",
       "      <td>483378</td>\n",
       "      <td>Trove</td>\n",
       "      <td>1153627</td>\n",
       "      <td>https://nla.gov.au/nla.party-1153627</td>\n",
       "      <td>Joy Smith</td>\n",
       "    </tr>\n",
       "    <tr>\n",
       "      <th>34179</th>\n",
       "      <td>AusStage</td>\n",
       "      <td>253094</td>\n",
       "      <td>Trove</td>\n",
       "      <td>1175424</td>\n",
       "      <td>https://nla.gov.au/nla.party-1175424</td>\n",
       "      <td>Peter Mitchell</td>\n",
       "    </tr>\n",
       "    <tr>\n",
       "      <th>26700</th>\n",
       "      <td>AusStage</td>\n",
       "      <td>400260</td>\n",
       "      <td>Trove</td>\n",
       "      <td>1175424</td>\n",
       "      <td>https://nla.gov.au/nla.party-1175424</td>\n",
       "      <td>Peter Mitchell</td>\n",
       "    </tr>\n",
       "    <tr>\n",
       "      <th>11274</th>\n",
       "      <td>AusStage</td>\n",
       "      <td>229874</td>\n",
       "      <td>Trove</td>\n",
       "      <td>1186215</td>\n",
       "      <td>https://nla.gov.au/nla.party-1186215</td>\n",
       "      <td>Daniel Mitchell</td>\n",
       "    </tr>\n",
       "    <tr>\n",
       "      <th>...</th>\n",
       "      <td>...</td>\n",
       "      <td>...</td>\n",
       "      <td>...</td>\n",
       "      <td>...</td>\n",
       "      <td>...</td>\n",
       "      <td>...</td>\n",
       "    </tr>\n",
       "    <tr>\n",
       "      <th>72518</th>\n",
       "      <td>AusStage</td>\n",
       "      <td>449836</td>\n",
       "      <td>Trove</td>\n",
       "      <td>978476</td>\n",
       "      <td>https://nla.gov.au/nla.party-978476</td>\n",
       "      <td>Stephen Smith</td>\n",
       "    </tr>\n",
       "    <tr>\n",
       "      <th>94996</th>\n",
       "      <td>AusStage</td>\n",
       "      <td>513296</td>\n",
       "      <td>Trove</td>\n",
       "      <td>978476</td>\n",
       "      <td>https://nla.gov.au/nla.party-978476</td>\n",
       "      <td>Stephen Smith</td>\n",
       "    </tr>\n",
       "    <tr>\n",
       "      <th>4901</th>\n",
       "      <td>AusStage</td>\n",
       "      <td>8338</td>\n",
       "      <td>Trove</td>\n",
       "      <td>978476</td>\n",
       "      <td>https://nla.gov.au/nla.party-978476</td>\n",
       "      <td>Stephen Smith</td>\n",
       "    </tr>\n",
       "    <tr>\n",
       "      <th>71375</th>\n",
       "      <td>AusStage</td>\n",
       "      <td>450642</td>\n",
       "      <td>Trove</td>\n",
       "      <td>986452</td>\n",
       "      <td>https://nla.gov.au/nla.party-986452</td>\n",
       "      <td>William Henry Harris</td>\n",
       "    </tr>\n",
       "    <tr>\n",
       "      <th>77010</th>\n",
       "      <td>AusStage</td>\n",
       "      <td>458109</td>\n",
       "      <td>Trove</td>\n",
       "      <td>986452</td>\n",
       "      <td>https://nla.gov.au/nla.party-986452</td>\n",
       "      <td>William Henry Harris</td>\n",
       "    </tr>\n",
       "  </tbody>\n",
       "</table>\n",
       "<p>359 rows × 6 columns</p>\n",
       "</div>"
      ],
      "text/plain": [
       "      acde_source   or_id related_source related_source_id  \\\n",
       "99306    AusStage  488120          Trove           1153627   \n",
       "95880    AusStage  483378          Trove           1153627   \n",
       "34179    AusStage  253094          Trove           1175424   \n",
       "26700    AusStage  400260          Trove           1175424   \n",
       "11274    AusStage  229874          Trove           1186215   \n",
       "...           ...     ...            ...               ...   \n",
       "72518    AusStage  449836          Trove            978476   \n",
       "94996    AusStage  513296          Trove            978476   \n",
       "4901     AusStage    8338          Trove            978476   \n",
       "71375    AusStage  450642          Trove            986452   \n",
       "77010    AusStage  458109          Trove            986452   \n",
       "\n",
       "                         related_source_url   related_source_name  \n",
       "99306  https://nla.gov.au/nla.party-1153627             Joy Smith  \n",
       "95880  https://nla.gov.au/nla.party-1153627             Joy Smith  \n",
       "34179  https://nla.gov.au/nla.party-1175424        Peter Mitchell  \n",
       "26700  https://nla.gov.au/nla.party-1175424        Peter Mitchell  \n",
       "11274  https://nla.gov.au/nla.party-1186215       Daniel Mitchell  \n",
       "...                                     ...                   ...  \n",
       "72518   https://nla.gov.au/nla.party-978476         Stephen Smith  \n",
       "94996   https://nla.gov.au/nla.party-978476         Stephen Smith  \n",
       "4901    https://nla.gov.au/nla.party-978476         Stephen Smith  \n",
       "71375   https://nla.gov.au/nla.party-986452  William Henry Harris  \n",
       "77010   https://nla.gov.au/nla.party-986452  William Henry Harris  \n",
       "\n",
       "[359 rows x 6 columns]"
      ]
     },
     "execution_count": 52,
     "metadata": {},
     "output_type": "execute_result"
    }
   ],
   "source": [
    "df_trove.loc[df_trove.duplicated(subset=[\"related_source_url\"], keep=False)].sort_values(by=\"related_source_url\")"
   ]
  },
  {
   "cell_type": "markdown",
   "id": "c3545f8b-f92d-4988-8ef9-d412f92fea28",
   "metadata": {},
   "source": [
    "How many unique Trove links are there?"
   ]
  },
  {
   "cell_type": "code",
   "execution_count": 59,
   "id": "a0e480fe-529e-4593-a280-bc16f6d95d4d",
   "metadata": {},
   "outputs": [
    {
     "data": {
      "text/plain": [
       "133822"
      ]
     },
     "execution_count": 59,
     "metadata": {},
     "output_type": "execute_result"
    }
   ],
   "source": [
    "unique_trove_links = df_trove.drop_duplicates(subset=[\"related_source_url\"]).shape[0]\n",
    "unique_trove_links"
   ]
  },
  {
   "cell_type": "markdown",
   "id": "369c1093-464d-466e-bd18-02dac8b504bf",
   "metadata": {},
   "source": [
    "Number of duplicates"
   ]
  },
  {
   "cell_type": "code",
   "execution_count": 66,
   "id": "f1e85fac-f3d6-4eda-97fb-edcaffb2f03a",
   "metadata": {},
   "outputs": [
    {
     "data": {
      "text/plain": [
       "190"
      ]
     },
     "execution_count": 66,
     "metadata": {},
     "output_type": "execute_result"
    }
   ],
   "source": [
    "ausstage_trove_count - unique_trove_links"
   ]
  }
 ],
 "metadata": {
  "kernelspec": {
   "display_name": "Python 3 (ipykernel)",
   "language": "python",
   "name": "python3"
  },
  "language_info": {
   "codemirror_mode": {
    "name": "ipython",
    "version": 3
   },
   "file_extension": ".py",
   "mimetype": "text/x-python",
   "name": "python",
   "nbconvert_exporter": "python",
   "pygments_lexer": "ipython3",
   "version": "3.8.12"
  },
  "widgets": {
   "application/vnd.jupyter.widget-state+json": {
    "state": {},
    "version_major": 2,
    "version_minor": 0
   }
  }
 },
 "nbformat": 4,
 "nbformat_minor": 5
}
